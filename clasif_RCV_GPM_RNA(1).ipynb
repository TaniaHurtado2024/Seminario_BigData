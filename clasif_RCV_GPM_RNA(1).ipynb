{
  "cells": [
    {
      "cell_type": "markdown",
      "metadata": {
        "id": "view-in-github",
        "colab_type": "text"
      },
      "source": [
        "<a href=\"https://colab.research.google.com/github/TaniaHurtado2024/Seminario_BigData/blob/main/clasif_RCV_GPM_RNA(1).ipynb\" target=\"_parent\"><img src=\"https://colab.research.google.com/assets/colab-badge.svg\" alt=\"Open In Colab\"/></a>"
      ]
    },
    {
      "cell_type": "markdown",
      "id": "inappropriate-farmer",
      "metadata": {
        "id": "inappropriate-farmer"
      },
      "source": [
        "# Redes Neuronales Artificiales Para Predecir Riesgo Cardiovascular\n",
        "\n",
        "**Autor: Elias Buitrago B.**\\\n",
        "Bogotá, Colombia \\\n",
        "Actualizado: 18 oct 2023 \\\n",
        "_Nota: Código ajustado para su ejecución en Google Colaboratory_\\\n",
        "Verificado con las siguientes versiones: Python 3.10.12, Tensorflow: 2.13.0, Keras: 2.13.1_"
      ]
    },
    {
      "cell_type": "markdown",
      "id": "adapted-handle",
      "metadata": {
        "id": "adapted-handle"
      },
      "source": [
        "## Cargar librerías\n",
        "The Python programming language relies on specialized code libraries for various functionalities. For example, if we want to graph we can invoke (call, load) a specialized library such as matplotlib. This packaging of code with concrete functions and the like is similar to what R software does with packages. Next, the libraries required for the correct training of multilayer perceptron neural networks are imported. The specialized libraries specifically for training neural networks to predict cardiovascular risk are TensorFlow (_version 2.13.0_) and Keras (_version 2.13.1_).\n",
        "\n",
        "<!-- El lenguaje de programación python se apoya en librerías de código especializadas en diversas funcionalidades. Por ejemplo, si queremos graficar podemos invocar (llamar, cargar) una librerías especilizada como matplotlib. ESte empaquetamiento de código con funciones concretas y similares, se asemeja a los que hace el software R con los paquetes. A continuación, se importan las librerías requeridas para el correcto entrenamiento de redes neuronales del tipo perceptrón multicapa. Las librerías especializadas, específicamente para entrenar las redes neuronales para predecri riesgo cardiovascular son las siguientes TensorFlow (_versión 2.13.0_) y Keras (_versión 2.13.1_). -->"
      ]
    },
    {
      "cell_type": "code",
      "execution_count": 1,
      "id": "cardiovascular-satin",
      "metadata": {
        "id": "cardiovascular-satin"
      },
      "outputs": [],
      "source": [
        "# Librerías básicas de Python\n",
        "import numpy as np\n",
        "import pandas as pd\n",
        "import matplotlib.pyplot as plt\n",
        "\n",
        "# Librería para calcular tiempo de ejecución\n",
        "from time import process_time\n",
        "\n",
        "# Librerías para particionar conjunto de datos\n",
        "from sklearn.preprocessing import StandardScaler\n",
        "from sklearn.model_selection import train_test_split as split\n",
        "\n",
        "# Funciones requeridas de la librerías que permite entrenar redes neuronales\n",
        "# artificiales\n",
        "from tensorflow.keras import models\n",
        "from tensorflow.keras.layers import Dense\n",
        "from tensorflow.keras import optimizers\n",
        "from tensorflow.keras import utils as np_utils\n",
        "\n",
        "# Funciones requeridas de la librería para evaluar desempeño de la RNA\n",
        "from sklearn.metrics import roc_curve, roc_auc_score\n",
        "from sklearn.metrics import classification_report, confusion_matrix"
      ]
    },
    {
      "cell_type": "markdown",
      "source": [
        "## Verificación de versiones de librerías\n",
        "De manera rutinaria se recomienda hacer la verificación de la versión actual de las versiones de Python, TensorFlow y Keras. Por lo tanto a continuación se mnuestran las lineas de código para verificar las versiones de dichas librerías, incluyendo la versión del sistema operativo. Google Colaboratory se ejecuta sobre un sistema operatio Linux distribución Ubuntu,"
      ],
      "metadata": {
        "id": "foKFuPu-R0To"
      },
      "id": "foKFuPu-R0To"
    },
    {
      "cell_type": "code",
      "source": [
        "import tensorflow\n",
        "import keras\n",
        "print(\"El sistema operativo base de Google Colaboratory es: \")\n",
        "!lsb_release -a\n",
        "print(\"La versión actual de Python es: \")\n",
        "!python --version\n",
        "print(\"La versión instalada de Tensorflow es: \" + tensorflow.__version__)\n",
        "print(\"La versión instalada de Keras es: \" + keras.__version__)"
      ],
      "metadata": {
        "colab": {
          "base_uri": "https://localhost:8080/"
        },
        "id": "iJ-XtMkY7Y4h",
        "outputId": "04111f5d-c832-405a-8231-4af3ef7edf6c"
      },
      "id": "iJ-XtMkY7Y4h",
      "execution_count": 2,
      "outputs": [
        {
          "output_type": "stream",
          "name": "stdout",
          "text": [
            "El sistema operativo base de Google Colaboratory es: \n",
            "No LSB modules are available.\n",
            "Distributor ID:\tUbuntu\n",
            "Description:\tUbuntu 22.04.3 LTS\n",
            "Release:\t22.04\n",
            "Codename:\tjammy\n",
            "La versión actual de Python es: \n",
            "Python 3.10.12\n",
            "La versión instalada de Tensorflow es: 2.15.0\n",
            "La versión instalada de Keras es: 2.15.0\n"
          ]
        }
      ]
    },
    {
      "cell_type": "markdown",
      "id": "nasty-transparency",
      "metadata": {
        "id": "nasty-transparency"
      },
      "source": [
        "## Cargar datos\n",
        "En el contexto del presente taller, los datos que se utilizan para el entrenamiento, evaluación y validación se almacenan en un directorio de Google Drive del mismo usuario actual de Google Colaboratory. Para acceder a los datos solo se requiere ejecutar la primera celda de código de esta sección, luego brindar los permisos de acceo respectivo y, finalmente, cambiar la ruta de acceso al archivo de los datos."
      ]
    },
    {
      "cell_type": "code",
      "source": [
        "from google.colab import drive\n",
        "drive.mount('/content/drive')"
      ],
      "metadata": {
        "id": "9LuuavIPie6Z",
        "colab": {
          "base_uri": "https://localhost:8080/"
        },
        "outputId": "bd27c7d9-8bac-4653-9a87-d824573eb420"
      },
      "id": "9LuuavIPie6Z",
      "execution_count": 3,
      "outputs": [
        {
          "output_type": "stream",
          "name": "stdout",
          "text": [
            "Mounted at /content/drive\n"
          ]
        }
      ]
    },
    {
      "cell_type": "code",
      "execution_count": 4,
      "id": "applicable-darkness",
      "metadata": {
        "id": "applicable-darkness"
      },
      "outputs": [],
      "source": [
        "data = pd.read_excel(\"/content/drive/MyDrive/data/pacientes_rcv_limpio.xlsx\")\n",
        "target = data.loc[:, 'Clasificación de RCV Global'].astype(int)\n",
        "data = data.drop(['Clasificación de RCV Global'], axis=1)\n",
        "target=pd.Categorical(target).codes"
      ]
    },
    {
      "cell_type": "code",
      "source": [
        "print(data.shape)\n",
        "data.head()"
      ],
      "metadata": {
        "id": "-NPpefeF2L9D",
        "colab": {
          "base_uri": "https://localhost:8080/",
          "height": 0
        },
        "outputId": "d4105b78-afc3-4c52-c7af-332c752ffa7c"
      },
      "id": "-NPpefeF2L9D",
      "execution_count": 5,
      "outputs": [
        {
          "output_type": "stream",
          "name": "stdout",
          "text": [
            "(3000, 35)\n"
          ]
        },
        {
          "output_type": "execute_result",
          "data": {
            "text/plain": [
              "   Edad (años)  Genero  Zona  Fumador Activo  ¿Diabetes?  \\\n",
              "0           82       2     1               1           1   \n",
              "1           83       2     1               1           1   \n",
              "2           54       2     1               1           1   \n",
              "3           68       2     1               1           1   \n",
              "4           68       2     1               1           2   \n",
              "\n",
              "   Hipertensión Arterial Sistemica  HTA + DM  \\\n",
              "0                                2         1   \n",
              "1                                2         1   \n",
              "2                                1         1   \n",
              "3                                1         1   \n",
              "4                                1         1   \n",
              "\n",
              "   Clasificacion de Diabetes o del ultimo estado de Glicemia  \\\n",
              "0                                                0.0           \n",
              "1                                                0.0           \n",
              "2                                                0.0           \n",
              "3                                                0.0           \n",
              "4                                                2.0           \n",
              "\n",
              "   Complicaciones  y Lesiones en Organo Blanco  \\\n",
              "0                                            1   \n",
              "1                                            1   \n",
              "2                                            1   \n",
              "3                                            1   \n",
              "4                                            1   \n",
              "\n",
              "   Antecedentes_Fliar_Enfermedad_Coronaria  ...  Creatinina  \\\n",
              "0                                        1  ...       132.0   \n",
              "1                                        1  ...        97.0   \n",
              "2                                        1  ...        97.0   \n",
              "3                                        1  ...        86.0   \n",
              "4                                        1  ...        71.0   \n",
              "\n",
              "   Factor de corrección de la formula  Proteinuria  \\\n",
              "0                                  85          0.0   \n",
              "1                                  85          0.0   \n",
              "2                                  85          0.0   \n",
              "3                                  85          0.0   \n",
              "4                                  85          0.0   \n",
              "\n",
              "   Calculo de  TFG corregida (Cockcroft-Gault)  Estadio IRC  \\\n",
              "0                                    37.348485          3.0   \n",
              "1                                    33.000000          3.0   \n",
              "2                                    51.000000          3.0   \n",
              "3                                    53.372093          3.0   \n",
              "4                                    68.239437          2.0   \n",
              "\n",
              "   Remisiones Especialidad  Farmacos  Antihipertensivos  Estatina  \\\n",
              "0                      1.0                          1.0         0   \n",
              "1                      1.0                          2.0         0   \n",
              "2                      1.0                          3.0         0   \n",
              "3                      1.0                          1.0         0   \n",
              "4                      1.0                          2.0         0   \n",
              "\n",
              "   Antidiabeticos  Adherencia al tratamiento  \n",
              "0             2.0                        1.0  \n",
              "1             0.0                        1.0  \n",
              "2             0.0                        1.0  \n",
              "3             0.0                        1.0  \n",
              "4             3.0                        1.0  \n",
              "\n",
              "[5 rows x 35 columns]"
            ],
            "text/html": [
              "\n",
              "  <div id=\"df-7f10f5fc-6aed-4d64-a55b-de62f59bcdf0\" class=\"colab-df-container\">\n",
              "    <div>\n",
              "<style scoped>\n",
              "    .dataframe tbody tr th:only-of-type {\n",
              "        vertical-align: middle;\n",
              "    }\n",
              "\n",
              "    .dataframe tbody tr th {\n",
              "        vertical-align: top;\n",
              "    }\n",
              "\n",
              "    .dataframe thead th {\n",
              "        text-align: right;\n",
              "    }\n",
              "</style>\n",
              "<table border=\"1\" class=\"dataframe\">\n",
              "  <thead>\n",
              "    <tr style=\"text-align: right;\">\n",
              "      <th></th>\n",
              "      <th>Edad (años)</th>\n",
              "      <th>Genero</th>\n",
              "      <th>Zona</th>\n",
              "      <th>Fumador Activo</th>\n",
              "      <th>¿Diabetes?</th>\n",
              "      <th>Hipertensión Arterial Sistemica</th>\n",
              "      <th>HTA + DM</th>\n",
              "      <th>Clasificacion de Diabetes o del ultimo estado de Glicemia</th>\n",
              "      <th>Complicaciones  y Lesiones en Organo Blanco</th>\n",
              "      <th>Antecedentes_Fliar_Enfermedad_Coronaria</th>\n",
              "      <th>...</th>\n",
              "      <th>Creatinina</th>\n",
              "      <th>Factor de corrección de la formula</th>\n",
              "      <th>Proteinuria</th>\n",
              "      <th>Calculo de  TFG corregida (Cockcroft-Gault)</th>\n",
              "      <th>Estadio IRC</th>\n",
              "      <th>Remisiones Especialidad</th>\n",
              "      <th>Farmacos  Antihipertensivos</th>\n",
              "      <th>Estatina</th>\n",
              "      <th>Antidiabeticos</th>\n",
              "      <th>Adherencia al tratamiento</th>\n",
              "    </tr>\n",
              "  </thead>\n",
              "  <tbody>\n",
              "    <tr>\n",
              "      <th>0</th>\n",
              "      <td>82</td>\n",
              "      <td>2</td>\n",
              "      <td>1</td>\n",
              "      <td>1</td>\n",
              "      <td>1</td>\n",
              "      <td>2</td>\n",
              "      <td>1</td>\n",
              "      <td>0.0</td>\n",
              "      <td>1</td>\n",
              "      <td>1</td>\n",
              "      <td>...</td>\n",
              "      <td>132.0</td>\n",
              "      <td>85</td>\n",
              "      <td>0.0</td>\n",
              "      <td>37.348485</td>\n",
              "      <td>3.0</td>\n",
              "      <td>1.0</td>\n",
              "      <td>1.0</td>\n",
              "      <td>0</td>\n",
              "      <td>2.0</td>\n",
              "      <td>1.0</td>\n",
              "    </tr>\n",
              "    <tr>\n",
              "      <th>1</th>\n",
              "      <td>83</td>\n",
              "      <td>2</td>\n",
              "      <td>1</td>\n",
              "      <td>1</td>\n",
              "      <td>1</td>\n",
              "      <td>2</td>\n",
              "      <td>1</td>\n",
              "      <td>0.0</td>\n",
              "      <td>1</td>\n",
              "      <td>1</td>\n",
              "      <td>...</td>\n",
              "      <td>97.0</td>\n",
              "      <td>85</td>\n",
              "      <td>0.0</td>\n",
              "      <td>33.000000</td>\n",
              "      <td>3.0</td>\n",
              "      <td>1.0</td>\n",
              "      <td>2.0</td>\n",
              "      <td>0</td>\n",
              "      <td>0.0</td>\n",
              "      <td>1.0</td>\n",
              "    </tr>\n",
              "    <tr>\n",
              "      <th>2</th>\n",
              "      <td>54</td>\n",
              "      <td>2</td>\n",
              "      <td>1</td>\n",
              "      <td>1</td>\n",
              "      <td>1</td>\n",
              "      <td>1</td>\n",
              "      <td>1</td>\n",
              "      <td>0.0</td>\n",
              "      <td>1</td>\n",
              "      <td>1</td>\n",
              "      <td>...</td>\n",
              "      <td>97.0</td>\n",
              "      <td>85</td>\n",
              "      <td>0.0</td>\n",
              "      <td>51.000000</td>\n",
              "      <td>3.0</td>\n",
              "      <td>1.0</td>\n",
              "      <td>3.0</td>\n",
              "      <td>0</td>\n",
              "      <td>0.0</td>\n",
              "      <td>1.0</td>\n",
              "    </tr>\n",
              "    <tr>\n",
              "      <th>3</th>\n",
              "      <td>68</td>\n",
              "      <td>2</td>\n",
              "      <td>1</td>\n",
              "      <td>1</td>\n",
              "      <td>1</td>\n",
              "      <td>1</td>\n",
              "      <td>1</td>\n",
              "      <td>0.0</td>\n",
              "      <td>1</td>\n",
              "      <td>1</td>\n",
              "      <td>...</td>\n",
              "      <td>86.0</td>\n",
              "      <td>85</td>\n",
              "      <td>0.0</td>\n",
              "      <td>53.372093</td>\n",
              "      <td>3.0</td>\n",
              "      <td>1.0</td>\n",
              "      <td>1.0</td>\n",
              "      <td>0</td>\n",
              "      <td>0.0</td>\n",
              "      <td>1.0</td>\n",
              "    </tr>\n",
              "    <tr>\n",
              "      <th>4</th>\n",
              "      <td>68</td>\n",
              "      <td>2</td>\n",
              "      <td>1</td>\n",
              "      <td>1</td>\n",
              "      <td>2</td>\n",
              "      <td>1</td>\n",
              "      <td>1</td>\n",
              "      <td>2.0</td>\n",
              "      <td>1</td>\n",
              "      <td>1</td>\n",
              "      <td>...</td>\n",
              "      <td>71.0</td>\n",
              "      <td>85</td>\n",
              "      <td>0.0</td>\n",
              "      <td>68.239437</td>\n",
              "      <td>2.0</td>\n",
              "      <td>1.0</td>\n",
              "      <td>2.0</td>\n",
              "      <td>0</td>\n",
              "      <td>3.0</td>\n",
              "      <td>1.0</td>\n",
              "    </tr>\n",
              "  </tbody>\n",
              "</table>\n",
              "<p>5 rows × 35 columns</p>\n",
              "</div>\n",
              "    <div class=\"colab-df-buttons\">\n",
              "\n",
              "  <div class=\"colab-df-container\">\n",
              "    <button class=\"colab-df-convert\" onclick=\"convertToInteractive('df-7f10f5fc-6aed-4d64-a55b-de62f59bcdf0')\"\n",
              "            title=\"Convert this dataframe to an interactive table.\"\n",
              "            style=\"display:none;\">\n",
              "\n",
              "  <svg xmlns=\"http://www.w3.org/2000/svg\" height=\"24px\" viewBox=\"0 -960 960 960\">\n",
              "    <path d=\"M120-120v-720h720v720H120Zm60-500h600v-160H180v160Zm220 220h160v-160H400v160Zm0 220h160v-160H400v160ZM180-400h160v-160H180v160Zm440 0h160v-160H620v160ZM180-180h160v-160H180v160Zm440 0h160v-160H620v160Z\"/>\n",
              "  </svg>\n",
              "    </button>\n",
              "\n",
              "  <style>\n",
              "    .colab-df-container {\n",
              "      display:flex;\n",
              "      gap: 12px;\n",
              "    }\n",
              "\n",
              "    .colab-df-convert {\n",
              "      background-color: #E8F0FE;\n",
              "      border: none;\n",
              "      border-radius: 50%;\n",
              "      cursor: pointer;\n",
              "      display: none;\n",
              "      fill: #1967D2;\n",
              "      height: 32px;\n",
              "      padding: 0 0 0 0;\n",
              "      width: 32px;\n",
              "    }\n",
              "\n",
              "    .colab-df-convert:hover {\n",
              "      background-color: #E2EBFA;\n",
              "      box-shadow: 0px 1px 2px rgba(60, 64, 67, 0.3), 0px 1px 3px 1px rgba(60, 64, 67, 0.15);\n",
              "      fill: #174EA6;\n",
              "    }\n",
              "\n",
              "    .colab-df-buttons div {\n",
              "      margin-bottom: 4px;\n",
              "    }\n",
              "\n",
              "    [theme=dark] .colab-df-convert {\n",
              "      background-color: #3B4455;\n",
              "      fill: #D2E3FC;\n",
              "    }\n",
              "\n",
              "    [theme=dark] .colab-df-convert:hover {\n",
              "      background-color: #434B5C;\n",
              "      box-shadow: 0px 1px 3px 1px rgba(0, 0, 0, 0.15);\n",
              "      filter: drop-shadow(0px 1px 2px rgba(0, 0, 0, 0.3));\n",
              "      fill: #FFFFFF;\n",
              "    }\n",
              "  </style>\n",
              "\n",
              "    <script>\n",
              "      const buttonEl =\n",
              "        document.querySelector('#df-7f10f5fc-6aed-4d64-a55b-de62f59bcdf0 button.colab-df-convert');\n",
              "      buttonEl.style.display =\n",
              "        google.colab.kernel.accessAllowed ? 'block' : 'none';\n",
              "\n",
              "      async function convertToInteractive(key) {\n",
              "        const element = document.querySelector('#df-7f10f5fc-6aed-4d64-a55b-de62f59bcdf0');\n",
              "        const dataTable =\n",
              "          await google.colab.kernel.invokeFunction('convertToInteractive',\n",
              "                                                    [key], {});\n",
              "        if (!dataTable) return;\n",
              "\n",
              "        const docLinkHtml = 'Like what you see? Visit the ' +\n",
              "          '<a target=\"_blank\" href=https://colab.research.google.com/notebooks/data_table.ipynb>data table notebook</a>'\n",
              "          + ' to learn more about interactive tables.';\n",
              "        element.innerHTML = '';\n",
              "        dataTable['output_type'] = 'display_data';\n",
              "        await google.colab.output.renderOutput(dataTable, element);\n",
              "        const docLink = document.createElement('div');\n",
              "        docLink.innerHTML = docLinkHtml;\n",
              "        element.appendChild(docLink);\n",
              "      }\n",
              "    </script>\n",
              "  </div>\n",
              "\n",
              "\n",
              "<div id=\"df-42624a6d-691a-4f37-b0e9-cfc7a6b359d5\">\n",
              "  <button class=\"colab-df-quickchart\" onclick=\"quickchart('df-42624a6d-691a-4f37-b0e9-cfc7a6b359d5')\"\n",
              "            title=\"Suggest charts\"\n",
              "            style=\"display:none;\">\n",
              "\n",
              "<svg xmlns=\"http://www.w3.org/2000/svg\" height=\"24px\"viewBox=\"0 0 24 24\"\n",
              "     width=\"24px\">\n",
              "    <g>\n",
              "        <path d=\"M19 3H5c-1.1 0-2 .9-2 2v14c0 1.1.9 2 2 2h14c1.1 0 2-.9 2-2V5c0-1.1-.9-2-2-2zM9 17H7v-7h2v7zm4 0h-2V7h2v10zm4 0h-2v-4h2v4z\"/>\n",
              "    </g>\n",
              "</svg>\n",
              "  </button>\n",
              "\n",
              "<style>\n",
              "  .colab-df-quickchart {\n",
              "      --bg-color: #E8F0FE;\n",
              "      --fill-color: #1967D2;\n",
              "      --hover-bg-color: #E2EBFA;\n",
              "      --hover-fill-color: #174EA6;\n",
              "      --disabled-fill-color: #AAA;\n",
              "      --disabled-bg-color: #DDD;\n",
              "  }\n",
              "\n",
              "  [theme=dark] .colab-df-quickchart {\n",
              "      --bg-color: #3B4455;\n",
              "      --fill-color: #D2E3FC;\n",
              "      --hover-bg-color: #434B5C;\n",
              "      --hover-fill-color: #FFFFFF;\n",
              "      --disabled-bg-color: #3B4455;\n",
              "      --disabled-fill-color: #666;\n",
              "  }\n",
              "\n",
              "  .colab-df-quickchart {\n",
              "    background-color: var(--bg-color);\n",
              "    border: none;\n",
              "    border-radius: 50%;\n",
              "    cursor: pointer;\n",
              "    display: none;\n",
              "    fill: var(--fill-color);\n",
              "    height: 32px;\n",
              "    padding: 0;\n",
              "    width: 32px;\n",
              "  }\n",
              "\n",
              "  .colab-df-quickchart:hover {\n",
              "    background-color: var(--hover-bg-color);\n",
              "    box-shadow: 0 1px 2px rgba(60, 64, 67, 0.3), 0 1px 3px 1px rgba(60, 64, 67, 0.15);\n",
              "    fill: var(--button-hover-fill-color);\n",
              "  }\n",
              "\n",
              "  .colab-df-quickchart-complete:disabled,\n",
              "  .colab-df-quickchart-complete:disabled:hover {\n",
              "    background-color: var(--disabled-bg-color);\n",
              "    fill: var(--disabled-fill-color);\n",
              "    box-shadow: none;\n",
              "  }\n",
              "\n",
              "  .colab-df-spinner {\n",
              "    border: 2px solid var(--fill-color);\n",
              "    border-color: transparent;\n",
              "    border-bottom-color: var(--fill-color);\n",
              "    animation:\n",
              "      spin 1s steps(1) infinite;\n",
              "  }\n",
              "\n",
              "  @keyframes spin {\n",
              "    0% {\n",
              "      border-color: transparent;\n",
              "      border-bottom-color: var(--fill-color);\n",
              "      border-left-color: var(--fill-color);\n",
              "    }\n",
              "    20% {\n",
              "      border-color: transparent;\n",
              "      border-left-color: var(--fill-color);\n",
              "      border-top-color: var(--fill-color);\n",
              "    }\n",
              "    30% {\n",
              "      border-color: transparent;\n",
              "      border-left-color: var(--fill-color);\n",
              "      border-top-color: var(--fill-color);\n",
              "      border-right-color: var(--fill-color);\n",
              "    }\n",
              "    40% {\n",
              "      border-color: transparent;\n",
              "      border-right-color: var(--fill-color);\n",
              "      border-top-color: var(--fill-color);\n",
              "    }\n",
              "    60% {\n",
              "      border-color: transparent;\n",
              "      border-right-color: var(--fill-color);\n",
              "    }\n",
              "    80% {\n",
              "      border-color: transparent;\n",
              "      border-right-color: var(--fill-color);\n",
              "      border-bottom-color: var(--fill-color);\n",
              "    }\n",
              "    90% {\n",
              "      border-color: transparent;\n",
              "      border-bottom-color: var(--fill-color);\n",
              "    }\n",
              "  }\n",
              "</style>\n",
              "\n",
              "  <script>\n",
              "    async function quickchart(key) {\n",
              "      const quickchartButtonEl =\n",
              "        document.querySelector('#' + key + ' button');\n",
              "      quickchartButtonEl.disabled = true;  // To prevent multiple clicks.\n",
              "      quickchartButtonEl.classList.add('colab-df-spinner');\n",
              "      try {\n",
              "        const charts = await google.colab.kernel.invokeFunction(\n",
              "            'suggestCharts', [key], {});\n",
              "      } catch (error) {\n",
              "        console.error('Error during call to suggestCharts:', error);\n",
              "      }\n",
              "      quickchartButtonEl.classList.remove('colab-df-spinner');\n",
              "      quickchartButtonEl.classList.add('colab-df-quickchart-complete');\n",
              "    }\n",
              "    (() => {\n",
              "      let quickchartButtonEl =\n",
              "        document.querySelector('#df-42624a6d-691a-4f37-b0e9-cfc7a6b359d5 button');\n",
              "      quickchartButtonEl.style.display =\n",
              "        google.colab.kernel.accessAllowed ? 'block' : 'none';\n",
              "    })();\n",
              "  </script>\n",
              "</div>\n",
              "\n",
              "    </div>\n",
              "  </div>\n"
            ],
            "application/vnd.google.colaboratory.intrinsic+json": {
              "type": "dataframe",
              "variable_name": "data"
            }
          },
          "metadata": {},
          "execution_count": 5
        }
      ]
    },
    {
      "cell_type": "code",
      "source": [
        "data.dtypes"
      ],
      "metadata": {
        "id": "pHpr2_1D3qk8",
        "colab": {
          "base_uri": "https://localhost:8080/"
        },
        "outputId": "70fedbf0-b3ef-4af1-8f7f-21e6d5498bf7"
      },
      "id": "pHpr2_1D3qk8",
      "execution_count": 6,
      "outputs": [
        {
          "output_type": "execute_result",
          "data": {
            "text/plain": [
              "Edad (años)                                                    int64\n",
              "Genero                                                         int64\n",
              "Zona                                                           int64\n",
              "Fumador Activo                                                 int64\n",
              "¿Diabetes?                                                     int64\n",
              "Hipertensión Arterial Sistemica                                int64\n",
              "HTA + DM                                                       int64\n",
              "Clasificacion de Diabetes o del ultimo estado de Glicemia    float64\n",
              "Complicaciones  y Lesiones en Organo Blanco                    int64\n",
              "Antecedentes_Fliar_Enfermedad_Coronaria                        int64\n",
              "Tension SISTOLICA                                              int64\n",
              "Tension DIASTOLICA                                           float64\n",
              "HTA COMPENSADOS                                                int64\n",
              "Colesterol Total                                               int64\n",
              "Colesterol HDL                                               float64\n",
              "Trigliceridos                                                  int64\n",
              "Colesterol LDL                                               float64\n",
              "HTA Y DM COMPENSADA                                            int64\n",
              "Glicemia de ayuno                                            float64\n",
              "Perimetro Abdominal                                          float64\n",
              "Clasificación perímetro abdominal                            float64\n",
              "Peso                                                           int64\n",
              "Talla                                                          int64\n",
              "IMC                                                            int64\n",
              "CLASIFICACION IMC                                              int64\n",
              "Creatinina                                                   float64\n",
              "Factor de corrección de la formula                             int64\n",
              "Proteinuria                                                  float64\n",
              "Calculo de  TFG corregida (Cockcroft-Gault)                  float64\n",
              "Estadio IRC                                                  float64\n",
              "Remisiones Especialidad                                      float64\n",
              "Farmacos  Antihipertensivos                                  float64\n",
              "Estatina                                                       int64\n",
              "Antidiabeticos                                               float64\n",
              "Adherencia al tratamiento                                    float64\n",
              "dtype: object"
            ]
          },
          "metadata": {},
          "execution_count": 6
        }
      ]
    },
    {
      "cell_type": "markdown",
      "source": [
        "## Conteo de clases\n",
        "\n",
        "El desbalance de clases es notorio. La clase que representa al riesgo cardiovascular intermedio tiene 40% menos muestras que el riesgo cardiovascular alto. Entretanto, la clase que representa al riesgo cardiovascular bajo tiene 60% menos muestras que el riesgo cardiovascular alto."
      ],
      "metadata": {
        "id": "cY7fuulPDmAL"
      },
      "id": "cY7fuulPDmAL"
    },
    {
      "cell_type": "code",
      "source": [
        "import pandas as pd\n",
        "pd.DataFrame(target).value_counts()"
      ],
      "metadata": {
        "id": "Qw3A8P10DqBR",
        "colab": {
          "base_uri": "https://localhost:8080/"
        },
        "outputId": "8b0590a6-228b-42b0-bde0-dee76ca37155"
      },
      "id": "Qw3A8P10DqBR",
      "execution_count": 7,
      "outputs": [
        {
          "output_type": "execute_result",
          "data": {
            "text/plain": [
              "2    1597\n",
              "1     820\n",
              "0     583\n",
              "Name: count, dtype: int64"
            ]
          },
          "metadata": {},
          "execution_count": 7
        }
      ]
    },
    {
      "cell_type": "markdown",
      "id": "maritime-warren",
      "metadata": {
        "id": "maritime-warren"
      },
      "source": [
        "## Preparar datos para el entrenamiento de la RNA\n",
        "En esta sección se excluyen la etapa de preprocesamiento de los datos, en la cual, se segue una metodología para asegurar la calidad de los datos. Así mismo, se excluye la etapa de análisis exploratorio de datos, en la cual, se eaplican técnicas de estadística descriptiva y, en algunos casos, inferencial. Por lo tanto, para efectos del taller, esta sección se restringue a la partición del conjunto original de datos para obtener los tres subconjguntos vitales en el entrenamiento y evaluación del modelo predictivo."
      ]
    },
    {
      "cell_type": "markdown",
      "id": "waiting-pizza",
      "metadata": {
        "id": "waiting-pizza"
      },
      "source": [
        "### Particionar datos"
      ]
    },
    {
      "cell_type": "code",
      "source": [
        "## Particionar el conjunto de datos para crear datos de entrenamiento, evaluación y validación.\n",
        "sc = StandardScaler()\n",
        "Xsc = sc.fit(data)\n",
        "X = Xsc.transform(data)\n",
        "X.shape\n",
        "\n",
        "X_train, X_test, y_train, y_test = split(X,target,\n",
        "                                         test_size=0.30,\n",
        "                                         random_state=42,\n",
        "                                         stratify=target)\n",
        "X_train, X_valid, y_train, y_valid = split(X_train, y_train,\n",
        "                                           test_size=0.2,\n",
        "                                           stratify=y_train)\n",
        "print(\"El tamaño de los nuevos subconjuntos es: \", X_train.shape, X_test.shape, X_valid.shape)\n",
        "print(\"Y es la variable que tiene las etiquetas de las clases a predecir: \", y_train.shape, y_test.shape, y_valid.shape)"
      ],
      "metadata": {
        "id": "5KnSXVxYVyxr",
        "colab": {
          "base_uri": "https://localhost:8080/"
        },
        "outputId": "0751460f-2071-4525-901d-3b25a453d44b"
      },
      "id": "5KnSXVxYVyxr",
      "execution_count": 8,
      "outputs": [
        {
          "output_type": "stream",
          "name": "stdout",
          "text": [
            "El tamaño de los nuevos subconjuntos es:  (1680, 35) (900, 35) (420, 35)\n",
            "Y es la variable que tiene las etiquetas de las clases a predecir:  (1680,) (900,) (420,)\n"
          ]
        }
      ]
    },
    {
      "cell_type": "markdown",
      "source": [
        "### Transformación de etiquetas de la clase objetivo (Predicción Multiclase)"
      ],
      "metadata": {
        "id": "h6XCkQXzYfYh"
      },
      "id": "h6XCkQXzYfYh"
    },
    {
      "cell_type": "code",
      "execution_count": 9,
      "id": "productive-bunny",
      "metadata": {
        "id": "productive-bunny"
      },
      "outputs": [],
      "source": [
        "# #Transformación de las etiquetas requerida para el entrenamiento de RNA\n",
        "Y_train = np_utils.to_categorical(y_train)\n",
        "Y_test = np_utils.to_categorical(y_test)\n",
        "Y_valid = np_utils.to_categorical(y_valid)"
      ]
    },
    {
      "cell_type": "markdown",
      "id": "assured-conversation",
      "metadata": {
        "id": "assured-conversation"
      },
      "source": [
        "## Entrenamiento del modelo predictivo basado en RNA"
      ]
    },
    {
      "cell_type": "code",
      "source": [
        "# Optimización de hiperparámetros\n",
        "#funcion de activacion\n",
        "#loss\n",
        "#metrics\n",
        "#optimizer\n",
        "#learning_rate\n",
        "#epochs\n",
        "#batch_size"
      ],
      "metadata": {
        "id": "rJ5hcFCxa-c_"
      },
      "id": "rJ5hcFCxa-c_",
      "execution_count": 10,
      "outputs": []
    },
    {
      "cell_type": "markdown",
      "id": "external-sydney",
      "metadata": {
        "id": "external-sydney"
      },
      "source": [
        "### Diseño de la arquitectura del modelo de red neuronal artificial"
      ]
    },
    {
      "cell_type": "markdown",
      "source": [
        "### Compilar el modelo creado"
      ],
      "metadata": {
        "id": "ychB9Bk6p4xq"
      },
      "id": "ychB9Bk6p4xq"
    },
    {
      "cell_type": "code",
      "execution_count": 11,
      "id": "subject-electric",
      "metadata": {
        "id": "subject-electric"
      },
      "outputs": [],
      "source": [
        "# Definir la arquitectura del modelo de la RNA\n",
        "modelRNA = models.Sequential()\n",
        "modelRNA.add(Dense(1, batch_input_shape=(None, 35), activation='relu')) ## neuronas en la capa de entrada (batch_input_shape) y #neuronas en la primera capa oculta\n",
        "\n",
        "modelRNA.add(Dense(1, activation='relu'))\n",
        "\n",
        "modelRNA.add(Dense(3, activation='softmax'))"
      ]
    },
    {
      "cell_type": "code",
      "source": [
        "# compile the keras (tensorflow) flow graph\n",
        "modelRNA.compile(optimizer=optimizers.RMSprop(learning_rate=0.001),\n",
        "              loss='binary_crossentropy',\n",
        "              metrics=['accuracy'])"
      ],
      "metadata": {
        "id": "fmO_BWTTp8yS"
      },
      "id": "fmO_BWTTp8yS",
      "execution_count": 12,
      "outputs": []
    },
    {
      "cell_type": "markdown",
      "source": [
        "### Entrenamiento del modelo de RNA"
      ],
      "metadata": {
        "id": "ZkxGCNZJpyIa"
      },
      "id": "ZkxGCNZJpyIa"
    },
    {
      "cell_type": "code",
      "source": [
        "# Inicializar el reloj para calcular tiempo de cómputo\n",
        "t0 = process_time()"
      ],
      "metadata": {
        "id": "EuZG0sHJr-pz"
      },
      "id": "EuZG0sHJr-pz",
      "execution_count": 13,
      "outputs": []
    },
    {
      "cell_type": "code",
      "source": [
        "training_log = modelRNA.fit(X_train,\n",
        "                    Y_train,\n",
        "                    epochs=150,\n",
        "                    batch_size=32,\n",
        "                    validation_data=(X_valid, Y_valid),\n",
        "                    verbose=1)"
      ],
      "metadata": {
        "id": "WEXqIZWeIjmt",
        "colab": {
          "base_uri": "https://localhost:8080/"
        },
        "outputId": "337a3500-cb3a-4870-e60b-9998704abe59"
      },
      "id": "WEXqIZWeIjmt",
      "execution_count": 14,
      "outputs": [
        {
          "output_type": "stream",
          "name": "stdout",
          "text": [
            "Epoch 1/150\n",
            "53/53 [==============================] - 2s 10ms/step - loss: 0.6805 - accuracy: 0.5310 - val_loss: 0.6712 - val_accuracy: 0.5310\n",
            "Epoch 2/150\n",
            "53/53 [==============================] - 0s 4ms/step - loss: 0.6612 - accuracy: 0.5327 - val_loss: 0.6536 - val_accuracy: 0.5310\n",
            "Epoch 3/150\n",
            "53/53 [==============================] - 0s 4ms/step - loss: 0.6426 - accuracy: 0.5327 - val_loss: 0.6370 - val_accuracy: 0.5310\n",
            "Epoch 4/150\n",
            "53/53 [==============================] - 0s 5ms/step - loss: 0.6249 - accuracy: 0.5327 - val_loss: 0.6212 - val_accuracy: 0.5310\n",
            "Epoch 5/150\n",
            "53/53 [==============================] - 0s 5ms/step - loss: 0.6082 - accuracy: 0.5327 - val_loss: 0.6071 - val_accuracy: 0.5310\n",
            "Epoch 6/150\n",
            "53/53 [==============================] - 0s 4ms/step - loss: 0.5937 - accuracy: 0.5327 - val_loss: 0.5951 - val_accuracy: 0.5310\n",
            "Epoch 7/150\n",
            "53/53 [==============================] - 0s 4ms/step - loss: 0.5811 - accuracy: 0.5327 - val_loss: 0.5849 - val_accuracy: 0.5310\n",
            "Epoch 8/150\n",
            "53/53 [==============================] - 0s 6ms/step - loss: 0.5704 - accuracy: 0.5327 - val_loss: 0.5763 - val_accuracy: 0.5310\n",
            "Epoch 9/150\n",
            "53/53 [==============================] - 0s 5ms/step - loss: 0.5610 - accuracy: 0.5327 - val_loss: 0.5687 - val_accuracy: 0.5310\n",
            "Epoch 10/150\n",
            "53/53 [==============================] - 0s 8ms/step - loss: 0.5527 - accuracy: 0.5327 - val_loss: 0.5616 - val_accuracy: 0.5310\n",
            "Epoch 11/150\n",
            "53/53 [==============================] - 0s 6ms/step - loss: 0.5447 - accuracy: 0.5327 - val_loss: 0.5547 - val_accuracy: 0.5310\n",
            "Epoch 12/150\n",
            "53/53 [==============================] - 0s 8ms/step - loss: 0.5370 - accuracy: 0.5327 - val_loss: 0.5481 - val_accuracy: 0.5310\n",
            "Epoch 13/150\n",
            "53/53 [==============================] - 0s 7ms/step - loss: 0.5294 - accuracy: 0.5327 - val_loss: 0.5409 - val_accuracy: 0.5310\n",
            "Epoch 14/150\n",
            "53/53 [==============================] - 0s 5ms/step - loss: 0.5209 - accuracy: 0.5327 - val_loss: 0.5330 - val_accuracy: 0.5310\n",
            "Epoch 15/150\n",
            "53/53 [==============================] - 0s 5ms/step - loss: 0.5119 - accuracy: 0.5327 - val_loss: 0.5247 - val_accuracy: 0.5310\n",
            "Epoch 16/150\n",
            "53/53 [==============================] - 0s 5ms/step - loss: 0.5030 - accuracy: 0.5327 - val_loss: 0.5160 - val_accuracy: 0.5310\n",
            "Epoch 17/150\n",
            "53/53 [==============================] - 0s 4ms/step - loss: 0.4941 - accuracy: 0.5327 - val_loss: 0.5070 - val_accuracy: 0.5310\n",
            "Epoch 18/150\n",
            "53/53 [==============================] - 0s 4ms/step - loss: 0.4852 - accuracy: 0.5327 - val_loss: 0.4975 - val_accuracy: 0.5310\n",
            "Epoch 19/150\n",
            "53/53 [==============================] - 0s 4ms/step - loss: 0.4763 - accuracy: 0.5327 - val_loss: 0.4882 - val_accuracy: 0.5310\n",
            "Epoch 20/150\n",
            "53/53 [==============================] - 0s 4ms/step - loss: 0.4676 - accuracy: 0.5333 - val_loss: 0.4781 - val_accuracy: 0.5905\n",
            "Epoch 21/150\n",
            "53/53 [==============================] - 0s 5ms/step - loss: 0.4588 - accuracy: 0.6137 - val_loss: 0.4679 - val_accuracy: 0.6071\n",
            "Epoch 22/150\n",
            "53/53 [==============================] - 0s 5ms/step - loss: 0.4503 - accuracy: 0.6214 - val_loss: 0.4579 - val_accuracy: 0.6048\n",
            "Epoch 23/150\n",
            "53/53 [==============================] - 0s 5ms/step - loss: 0.4423 - accuracy: 0.6268 - val_loss: 0.4486 - val_accuracy: 0.6119\n",
            "Epoch 24/150\n",
            "53/53 [==============================] - 0s 5ms/step - loss: 0.4350 - accuracy: 0.6304 - val_loss: 0.4401 - val_accuracy: 0.6190\n",
            "Epoch 25/150\n",
            "53/53 [==============================] - 0s 5ms/step - loss: 0.4290 - accuracy: 0.6351 - val_loss: 0.4328 - val_accuracy: 0.6262\n",
            "Epoch 26/150\n",
            "53/53 [==============================] - 0s 5ms/step - loss: 0.4236 - accuracy: 0.6375 - val_loss: 0.4264 - val_accuracy: 0.6286\n",
            "Epoch 27/150\n",
            "53/53 [==============================] - 0s 4ms/step - loss: 0.4190 - accuracy: 0.6411 - val_loss: 0.4208 - val_accuracy: 0.6381\n",
            "Epoch 28/150\n",
            "53/53 [==============================] - 0s 3ms/step - loss: 0.4149 - accuracy: 0.6470 - val_loss: 0.4162 - val_accuracy: 0.6452\n",
            "Epoch 29/150\n",
            "53/53 [==============================] - 0s 3ms/step - loss: 0.4115 - accuracy: 0.6506 - val_loss: 0.4125 - val_accuracy: 0.6476\n",
            "Epoch 30/150\n",
            "53/53 [==============================] - 0s 3ms/step - loss: 0.4084 - accuracy: 0.6518 - val_loss: 0.4093 - val_accuracy: 0.6452\n",
            "Epoch 31/150\n",
            "53/53 [==============================] - 0s 3ms/step - loss: 0.4055 - accuracy: 0.6548 - val_loss: 0.4062 - val_accuracy: 0.6500\n",
            "Epoch 32/150\n",
            "53/53 [==============================] - 0s 3ms/step - loss: 0.4030 - accuracy: 0.6607 - val_loss: 0.4034 - val_accuracy: 0.6500\n",
            "Epoch 33/150\n",
            "53/53 [==============================] - 0s 3ms/step - loss: 0.4009 - accuracy: 0.6643 - val_loss: 0.4014 - val_accuracy: 0.6548\n",
            "Epoch 34/150\n",
            "53/53 [==============================] - 0s 3ms/step - loss: 0.3988 - accuracy: 0.6661 - val_loss: 0.4001 - val_accuracy: 0.6524\n",
            "Epoch 35/150\n",
            "53/53 [==============================] - 0s 3ms/step - loss: 0.3972 - accuracy: 0.6690 - val_loss: 0.3982 - val_accuracy: 0.6571\n",
            "Epoch 36/150\n",
            "53/53 [==============================] - 0s 3ms/step - loss: 0.3956 - accuracy: 0.6744 - val_loss: 0.3970 - val_accuracy: 0.6595\n",
            "Epoch 37/150\n",
            "53/53 [==============================] - 0s 2ms/step - loss: 0.3943 - accuracy: 0.6768 - val_loss: 0.3957 - val_accuracy: 0.6619\n",
            "Epoch 38/150\n",
            "53/53 [==============================] - 0s 3ms/step - loss: 0.3931 - accuracy: 0.6768 - val_loss: 0.3947 - val_accuracy: 0.6643\n",
            "Epoch 39/150\n",
            "53/53 [==============================] - 0s 9ms/step - loss: 0.3919 - accuracy: 0.6774 - val_loss: 0.3933 - val_accuracy: 0.6667\n",
            "Epoch 40/150\n",
            "53/53 [==============================] - 0s 3ms/step - loss: 0.3909 - accuracy: 0.6798 - val_loss: 0.3924 - val_accuracy: 0.6714\n",
            "Epoch 41/150\n",
            "53/53 [==============================] - 0s 4ms/step - loss: 0.3901 - accuracy: 0.6804 - val_loss: 0.3915 - val_accuracy: 0.6762\n",
            "Epoch 42/150\n",
            "53/53 [==============================] - 0s 3ms/step - loss: 0.3892 - accuracy: 0.6833 - val_loss: 0.3906 - val_accuracy: 0.6762\n",
            "Epoch 43/150\n",
            "53/53 [==============================] - 0s 3ms/step - loss: 0.3883 - accuracy: 0.6839 - val_loss: 0.3898 - val_accuracy: 0.6762\n",
            "Epoch 44/150\n",
            "53/53 [==============================] - 0s 3ms/step - loss: 0.3875 - accuracy: 0.6833 - val_loss: 0.3892 - val_accuracy: 0.6786\n",
            "Epoch 45/150\n",
            "53/53 [==============================] - 0s 3ms/step - loss: 0.3868 - accuracy: 0.6839 - val_loss: 0.3885 - val_accuracy: 0.6810\n",
            "Epoch 46/150\n",
            "53/53 [==============================] - 0s 3ms/step - loss: 0.3862 - accuracy: 0.6851 - val_loss: 0.3881 - val_accuracy: 0.6738\n",
            "Epoch 47/150\n",
            "53/53 [==============================] - 0s 3ms/step - loss: 0.3856 - accuracy: 0.6869 - val_loss: 0.3878 - val_accuracy: 0.6810\n",
            "Epoch 48/150\n",
            "53/53 [==============================] - 0s 4ms/step - loss: 0.3851 - accuracy: 0.6839 - val_loss: 0.3876 - val_accuracy: 0.6833\n",
            "Epoch 49/150\n",
            "53/53 [==============================] - 0s 3ms/step - loss: 0.3846 - accuracy: 0.6869 - val_loss: 0.3874 - val_accuracy: 0.6857\n",
            "Epoch 50/150\n",
            "53/53 [==============================] - 0s 3ms/step - loss: 0.3841 - accuracy: 0.6869 - val_loss: 0.3867 - val_accuracy: 0.6857\n",
            "Epoch 51/150\n",
            "53/53 [==============================] - 0s 3ms/step - loss: 0.3837 - accuracy: 0.6869 - val_loss: 0.3864 - val_accuracy: 0.6881\n",
            "Epoch 52/150\n",
            "53/53 [==============================] - 0s 3ms/step - loss: 0.3833 - accuracy: 0.6857 - val_loss: 0.3862 - val_accuracy: 0.6881\n",
            "Epoch 53/150\n",
            "53/53 [==============================] - 0s 3ms/step - loss: 0.3829 - accuracy: 0.6869 - val_loss: 0.3859 - val_accuracy: 0.6881\n",
            "Epoch 54/150\n",
            "53/53 [==============================] - 0s 3ms/step - loss: 0.3826 - accuracy: 0.6905 - val_loss: 0.3852 - val_accuracy: 0.6857\n",
            "Epoch 55/150\n",
            "53/53 [==============================] - 0s 3ms/step - loss: 0.3822 - accuracy: 0.6869 - val_loss: 0.3846 - val_accuracy: 0.6857\n",
            "Epoch 56/150\n",
            "53/53 [==============================] - 0s 3ms/step - loss: 0.3821 - accuracy: 0.6881 - val_loss: 0.3844 - val_accuracy: 0.6857\n",
            "Epoch 57/150\n",
            "53/53 [==============================] - 0s 3ms/step - loss: 0.3817 - accuracy: 0.6881 - val_loss: 0.3839 - val_accuracy: 0.6857\n",
            "Epoch 58/150\n",
            "53/53 [==============================] - 0s 3ms/step - loss: 0.3815 - accuracy: 0.6887 - val_loss: 0.3840 - val_accuracy: 0.6857\n",
            "Epoch 59/150\n",
            "53/53 [==============================] - 0s 3ms/step - loss: 0.3812 - accuracy: 0.6899 - val_loss: 0.3838 - val_accuracy: 0.6857\n",
            "Epoch 60/150\n",
            "53/53 [==============================] - 0s 2ms/step - loss: 0.3810 - accuracy: 0.6923 - val_loss: 0.3838 - val_accuracy: 0.6881\n",
            "Epoch 61/150\n",
            "53/53 [==============================] - 0s 4ms/step - loss: 0.3808 - accuracy: 0.6893 - val_loss: 0.3836 - val_accuracy: 0.6881\n",
            "Epoch 62/150\n",
            "53/53 [==============================] - 0s 3ms/step - loss: 0.3805 - accuracy: 0.6905 - val_loss: 0.3837 - val_accuracy: 0.6881\n",
            "Epoch 63/150\n",
            "53/53 [==============================] - 0s 3ms/step - loss: 0.3804 - accuracy: 0.6905 - val_loss: 0.3832 - val_accuracy: 0.6833\n",
            "Epoch 64/150\n",
            "53/53 [==============================] - 0s 3ms/step - loss: 0.3803 - accuracy: 0.6905 - val_loss: 0.3830 - val_accuracy: 0.6881\n",
            "Epoch 65/150\n",
            "53/53 [==============================] - 0s 3ms/step - loss: 0.3802 - accuracy: 0.6911 - val_loss: 0.3831 - val_accuracy: 0.6833\n",
            "Epoch 66/150\n",
            "53/53 [==============================] - 0s 3ms/step - loss: 0.3800 - accuracy: 0.6911 - val_loss: 0.3829 - val_accuracy: 0.6833\n",
            "Epoch 67/150\n",
            "53/53 [==============================] - 0s 3ms/step - loss: 0.3798 - accuracy: 0.6893 - val_loss: 0.3826 - val_accuracy: 0.6833\n",
            "Epoch 68/150\n",
            "53/53 [==============================] - 0s 3ms/step - loss: 0.3797 - accuracy: 0.6911 - val_loss: 0.3824 - val_accuracy: 0.6833\n",
            "Epoch 69/150\n",
            "53/53 [==============================] - 0s 3ms/step - loss: 0.3794 - accuracy: 0.6917 - val_loss: 0.3821 - val_accuracy: 0.6833\n",
            "Epoch 70/150\n",
            "53/53 [==============================] - 0s 3ms/step - loss: 0.3795 - accuracy: 0.6905 - val_loss: 0.3820 - val_accuracy: 0.6833\n",
            "Epoch 71/150\n",
            "53/53 [==============================] - 0s 3ms/step - loss: 0.3792 - accuracy: 0.6905 - val_loss: 0.3822 - val_accuracy: 0.6833\n",
            "Epoch 72/150\n",
            "53/53 [==============================] - 0s 3ms/step - loss: 0.3791 - accuracy: 0.6923 - val_loss: 0.3827 - val_accuracy: 0.6833\n",
            "Epoch 73/150\n",
            "53/53 [==============================] - 0s 4ms/step - loss: 0.3789 - accuracy: 0.6917 - val_loss: 0.3827 - val_accuracy: 0.6857\n",
            "Epoch 74/150\n",
            "53/53 [==============================] - 0s 4ms/step - loss: 0.3787 - accuracy: 0.6911 - val_loss: 0.3824 - val_accuracy: 0.6833\n",
            "Epoch 75/150\n",
            "53/53 [==============================] - 0s 3ms/step - loss: 0.3787 - accuracy: 0.6905 - val_loss: 0.3822 - val_accuracy: 0.6833\n",
            "Epoch 76/150\n",
            "53/53 [==============================] - 0s 3ms/step - loss: 0.3784 - accuracy: 0.6929 - val_loss: 0.3821 - val_accuracy: 0.6833\n",
            "Epoch 77/150\n",
            "53/53 [==============================] - 0s 3ms/step - loss: 0.3784 - accuracy: 0.6935 - val_loss: 0.3819 - val_accuracy: 0.6857\n",
            "Epoch 78/150\n",
            "53/53 [==============================] - 0s 3ms/step - loss: 0.3782 - accuracy: 0.6935 - val_loss: 0.3821 - val_accuracy: 0.6881\n",
            "Epoch 79/150\n",
            "53/53 [==============================] - 0s 4ms/step - loss: 0.3781 - accuracy: 0.6929 - val_loss: 0.3817 - val_accuracy: 0.6905\n",
            "Epoch 80/150\n",
            "53/53 [==============================] - 0s 3ms/step - loss: 0.3779 - accuracy: 0.6940 - val_loss: 0.3817 - val_accuracy: 0.6905\n",
            "Epoch 81/150\n",
            "53/53 [==============================] - 0s 3ms/step - loss: 0.3777 - accuracy: 0.6940 - val_loss: 0.3814 - val_accuracy: 0.6881\n",
            "Epoch 82/150\n",
            "53/53 [==============================] - 0s 3ms/step - loss: 0.3776 - accuracy: 0.6929 - val_loss: 0.3818 - val_accuracy: 0.6881\n",
            "Epoch 83/150\n",
            "53/53 [==============================] - 0s 3ms/step - loss: 0.3774 - accuracy: 0.6929 - val_loss: 0.3815 - val_accuracy: 0.6905\n",
            "Epoch 84/150\n",
            "53/53 [==============================] - 0s 3ms/step - loss: 0.3774 - accuracy: 0.6935 - val_loss: 0.3812 - val_accuracy: 0.6881\n",
            "Epoch 85/150\n",
            "53/53 [==============================] - 0s 4ms/step - loss: 0.3771 - accuracy: 0.6940 - val_loss: 0.3810 - val_accuracy: 0.6857\n",
            "Epoch 86/150\n",
            "53/53 [==============================] - 0s 3ms/step - loss: 0.3772 - accuracy: 0.6940 - val_loss: 0.3810 - val_accuracy: 0.6881\n",
            "Epoch 87/150\n",
            "53/53 [==============================] - 0s 5ms/step - loss: 0.3770 - accuracy: 0.6923 - val_loss: 0.3811 - val_accuracy: 0.6857\n",
            "Epoch 88/150\n",
            "53/53 [==============================] - 0s 4ms/step - loss: 0.3769 - accuracy: 0.6929 - val_loss: 0.3806 - val_accuracy: 0.6881\n",
            "Epoch 89/150\n",
            "53/53 [==============================] - 0s 4ms/step - loss: 0.3769 - accuracy: 0.6940 - val_loss: 0.3807 - val_accuracy: 0.6881\n",
            "Epoch 90/150\n",
            "53/53 [==============================] - 0s 5ms/step - loss: 0.3767 - accuracy: 0.6940 - val_loss: 0.3808 - val_accuracy: 0.6857\n",
            "Epoch 91/150\n",
            "53/53 [==============================] - 0s 4ms/step - loss: 0.3766 - accuracy: 0.6940 - val_loss: 0.3803 - val_accuracy: 0.6881\n",
            "Epoch 92/150\n",
            "53/53 [==============================] - 0s 5ms/step - loss: 0.3764 - accuracy: 0.6929 - val_loss: 0.3803 - val_accuracy: 0.6881\n",
            "Epoch 93/150\n",
            "53/53 [==============================] - 0s 5ms/step - loss: 0.3764 - accuracy: 0.6929 - val_loss: 0.3802 - val_accuracy: 0.6905\n",
            "Epoch 94/150\n",
            "53/53 [==============================] - 0s 4ms/step - loss: 0.3762 - accuracy: 0.6929 - val_loss: 0.3803 - val_accuracy: 0.6881\n",
            "Epoch 95/150\n",
            "53/53 [==============================] - 0s 4ms/step - loss: 0.3761 - accuracy: 0.6929 - val_loss: 0.3801 - val_accuracy: 0.6905\n",
            "Epoch 96/150\n",
            "53/53 [==============================] - 0s 4ms/step - loss: 0.3762 - accuracy: 0.6946 - val_loss: 0.3803 - val_accuracy: 0.6905\n",
            "Epoch 97/150\n",
            "53/53 [==============================] - 0s 6ms/step - loss: 0.3760 - accuracy: 0.6917 - val_loss: 0.3803 - val_accuracy: 0.6905\n",
            "Epoch 98/150\n",
            "53/53 [==============================] - 0s 6ms/step - loss: 0.3759 - accuracy: 0.6923 - val_loss: 0.3802 - val_accuracy: 0.6881\n",
            "Epoch 99/150\n",
            "53/53 [==============================] - 0s 5ms/step - loss: 0.3759 - accuracy: 0.6940 - val_loss: 0.3801 - val_accuracy: 0.6905\n",
            "Epoch 100/150\n",
            "53/53 [==============================] - 0s 5ms/step - loss: 0.3757 - accuracy: 0.6940 - val_loss: 0.3804 - val_accuracy: 0.6905\n",
            "Epoch 101/150\n",
            "53/53 [==============================] - 0s 6ms/step - loss: 0.3756 - accuracy: 0.6952 - val_loss: 0.3806 - val_accuracy: 0.6905\n",
            "Epoch 102/150\n",
            "53/53 [==============================] - 0s 6ms/step - loss: 0.3755 - accuracy: 0.6946 - val_loss: 0.3804 - val_accuracy: 0.6905\n",
            "Epoch 103/150\n",
            "53/53 [==============================] - 0s 5ms/step - loss: 0.3755 - accuracy: 0.6935 - val_loss: 0.3802 - val_accuracy: 0.6905\n",
            "Epoch 104/150\n",
            "53/53 [==============================] - 0s 3ms/step - loss: 0.3753 - accuracy: 0.6935 - val_loss: 0.3801 - val_accuracy: 0.6905\n",
            "Epoch 105/150\n",
            "53/53 [==============================] - 0s 3ms/step - loss: 0.3754 - accuracy: 0.6911 - val_loss: 0.3802 - val_accuracy: 0.6881\n",
            "Epoch 106/150\n",
            "53/53 [==============================] - 0s 3ms/step - loss: 0.3753 - accuracy: 0.6940 - val_loss: 0.3800 - val_accuracy: 0.6881\n",
            "Epoch 107/150\n",
            "53/53 [==============================] - 0s 3ms/step - loss: 0.3751 - accuracy: 0.6929 - val_loss: 0.3797 - val_accuracy: 0.6905\n",
            "Epoch 108/150\n",
            "53/53 [==============================] - 0s 3ms/step - loss: 0.3750 - accuracy: 0.6935 - val_loss: 0.3795 - val_accuracy: 0.6905\n",
            "Epoch 109/150\n",
            "53/53 [==============================] - 0s 3ms/step - loss: 0.3750 - accuracy: 0.6952 - val_loss: 0.3796 - val_accuracy: 0.6905\n",
            "Epoch 110/150\n",
            "53/53 [==============================] - 0s 3ms/step - loss: 0.3749 - accuracy: 0.6917 - val_loss: 0.3797 - val_accuracy: 0.6905\n",
            "Epoch 111/150\n",
            "53/53 [==============================] - 0s 3ms/step - loss: 0.3748 - accuracy: 0.6946 - val_loss: 0.3797 - val_accuracy: 0.6881\n",
            "Epoch 112/150\n",
            "53/53 [==============================] - 0s 3ms/step - loss: 0.3746 - accuracy: 0.6929 - val_loss: 0.3791 - val_accuracy: 0.6881\n",
            "Epoch 113/150\n",
            "53/53 [==============================] - 0s 3ms/step - loss: 0.3746 - accuracy: 0.6940 - val_loss: 0.3791 - val_accuracy: 0.6881\n",
            "Epoch 114/150\n",
            "53/53 [==============================] - 0s 3ms/step - loss: 0.3744 - accuracy: 0.6929 - val_loss: 0.3791 - val_accuracy: 0.6881\n",
            "Epoch 115/150\n",
            "53/53 [==============================] - 0s 3ms/step - loss: 0.3743 - accuracy: 0.6940 - val_loss: 0.3786 - val_accuracy: 0.6881\n",
            "Epoch 116/150\n",
            "53/53 [==============================] - 0s 3ms/step - loss: 0.3742 - accuracy: 0.6952 - val_loss: 0.3786 - val_accuracy: 0.6905\n",
            "Epoch 117/150\n",
            "53/53 [==============================] - 0s 4ms/step - loss: 0.3742 - accuracy: 0.6923 - val_loss: 0.3793 - val_accuracy: 0.6881\n",
            "Epoch 118/150\n",
            "53/53 [==============================] - 0s 3ms/step - loss: 0.3741 - accuracy: 0.6935 - val_loss: 0.3792 - val_accuracy: 0.6881\n",
            "Epoch 119/150\n",
            "53/53 [==============================] - 0s 3ms/step - loss: 0.3740 - accuracy: 0.6958 - val_loss: 0.3790 - val_accuracy: 0.6881\n",
            "Epoch 120/150\n",
            "53/53 [==============================] - 0s 3ms/step - loss: 0.3739 - accuracy: 0.6929 - val_loss: 0.3788 - val_accuracy: 0.6881\n",
            "Epoch 121/150\n",
            "53/53 [==============================] - 0s 3ms/step - loss: 0.3739 - accuracy: 0.6940 - val_loss: 0.3789 - val_accuracy: 0.6905\n",
            "Epoch 122/150\n",
            "53/53 [==============================] - 0s 3ms/step - loss: 0.3738 - accuracy: 0.6940 - val_loss: 0.3792 - val_accuracy: 0.6905\n",
            "Epoch 123/150\n",
            "53/53 [==============================] - 0s 3ms/step - loss: 0.3736 - accuracy: 0.6935 - val_loss: 0.3790 - val_accuracy: 0.6905\n",
            "Epoch 124/150\n",
            "53/53 [==============================] - 0s 4ms/step - loss: 0.3735 - accuracy: 0.6946 - val_loss: 0.3792 - val_accuracy: 0.6905\n",
            "Epoch 125/150\n",
            "53/53 [==============================] - 0s 3ms/step - loss: 0.3735 - accuracy: 0.6935 - val_loss: 0.3794 - val_accuracy: 0.6905\n",
            "Epoch 126/150\n",
            "53/53 [==============================] - 0s 3ms/step - loss: 0.3734 - accuracy: 0.6929 - val_loss: 0.3790 - val_accuracy: 0.6881\n",
            "Epoch 127/150\n",
            "53/53 [==============================] - 0s 3ms/step - loss: 0.3733 - accuracy: 0.6935 - val_loss: 0.3787 - val_accuracy: 0.6881\n",
            "Epoch 128/150\n",
            "53/53 [==============================] - 0s 3ms/step - loss: 0.3731 - accuracy: 0.6929 - val_loss: 0.3785 - val_accuracy: 0.6881\n",
            "Epoch 129/150\n",
            "53/53 [==============================] - 0s 4ms/step - loss: 0.3730 - accuracy: 0.6940 - val_loss: 0.3780 - val_accuracy: 0.6881\n",
            "Epoch 130/150\n",
            "53/53 [==============================] - 0s 4ms/step - loss: 0.3728 - accuracy: 0.6935 - val_loss: 0.3781 - val_accuracy: 0.6905\n",
            "Epoch 131/150\n",
            "53/53 [==============================] - 0s 3ms/step - loss: 0.3726 - accuracy: 0.6935 - val_loss: 0.3778 - val_accuracy: 0.6952\n",
            "Epoch 132/150\n",
            "53/53 [==============================] - 0s 3ms/step - loss: 0.3723 - accuracy: 0.6952 - val_loss: 0.3776 - val_accuracy: 0.6905\n",
            "Epoch 133/150\n",
            "53/53 [==============================] - 0s 3ms/step - loss: 0.3722 - accuracy: 0.6946 - val_loss: 0.3770 - val_accuracy: 0.6929\n",
            "Epoch 134/150\n",
            "53/53 [==============================] - 0s 3ms/step - loss: 0.3720 - accuracy: 0.6946 - val_loss: 0.3761 - val_accuracy: 0.6952\n",
            "Epoch 135/150\n",
            "53/53 [==============================] - 0s 3ms/step - loss: 0.3716 - accuracy: 0.6929 - val_loss: 0.3754 - val_accuracy: 0.6929\n",
            "Epoch 136/150\n",
            "53/53 [==============================] - 0s 3ms/step - loss: 0.3713 - accuracy: 0.6935 - val_loss: 0.3750 - val_accuracy: 0.6929\n",
            "Epoch 137/150\n",
            "53/53 [==============================] - 0s 4ms/step - loss: 0.3709 - accuracy: 0.6958 - val_loss: 0.3745 - val_accuracy: 0.6929\n",
            "Epoch 138/150\n",
            "53/53 [==============================] - 0s 3ms/step - loss: 0.3707 - accuracy: 0.6935 - val_loss: 0.3742 - val_accuracy: 0.6952\n",
            "Epoch 139/150\n",
            "53/53 [==============================] - 0s 3ms/step - loss: 0.3703 - accuracy: 0.6940 - val_loss: 0.3738 - val_accuracy: 0.7048\n",
            "Epoch 140/150\n",
            "53/53 [==============================] - 0s 3ms/step - loss: 0.3698 - accuracy: 0.7000 - val_loss: 0.3733 - val_accuracy: 0.7024\n",
            "Epoch 141/150\n",
            "53/53 [==============================] - 0s 3ms/step - loss: 0.3693 - accuracy: 0.7077 - val_loss: 0.3725 - val_accuracy: 0.7024\n",
            "Epoch 142/150\n",
            "53/53 [==============================] - 0s 4ms/step - loss: 0.3689 - accuracy: 0.7018 - val_loss: 0.3724 - val_accuracy: 0.7024\n",
            "Epoch 143/150\n",
            "53/53 [==============================] - 0s 3ms/step - loss: 0.3684 - accuracy: 0.7268 - val_loss: 0.3717 - val_accuracy: 0.8000\n",
            "Epoch 144/150\n",
            "53/53 [==============================] - 0s 3ms/step - loss: 0.3680 - accuracy: 0.7661 - val_loss: 0.3716 - val_accuracy: 0.8048\n",
            "Epoch 145/150\n",
            "53/53 [==============================] - 0s 3ms/step - loss: 0.3676 - accuracy: 0.7917 - val_loss: 0.3715 - val_accuracy: 0.8024\n",
            "Epoch 146/150\n",
            "53/53 [==============================] - 0s 2ms/step - loss: 0.3672 - accuracy: 0.7911 - val_loss: 0.3717 - val_accuracy: 0.8024\n",
            "Epoch 147/150\n",
            "53/53 [==============================] - 0s 3ms/step - loss: 0.3671 - accuracy: 0.7940 - val_loss: 0.3715 - val_accuracy: 0.8048\n",
            "Epoch 148/150\n",
            "53/53 [==============================] - 0s 3ms/step - loss: 0.3666 - accuracy: 0.7940 - val_loss: 0.3717 - val_accuracy: 0.8024\n",
            "Epoch 149/150\n",
            "53/53 [==============================] - 0s 4ms/step - loss: 0.3665 - accuracy: 0.7935 - val_loss: 0.3718 - val_accuracy: 0.8048\n",
            "Epoch 150/150\n",
            "53/53 [==============================] - 0s 3ms/step - loss: 0.3664 - accuracy: 0.7940 - val_loss: 0.3722 - val_accuracy: 0.8048\n"
          ]
        }
      ]
    },
    {
      "cell_type": "code",
      "source": [
        "# # Tiempo de computo\n",
        "t1 = process_time()\n",
        "tc = t1-t0\n",
        "\n",
        "# # Mostrar tiempo de cómputo del entrenamiento del modelo de RNA\n",
        "print('El tiempo de cómputo con RNA fue: %.2f segundos' % tc)"
      ],
      "metadata": {
        "id": "ns4XH0KkryiK",
        "colab": {
          "base_uri": "https://localhost:8080/"
        },
        "outputId": "b87c7b3a-04fd-45c0-87ba-271a74628134"
      },
      "id": "ns4XH0KkryiK",
      "execution_count": 15,
      "outputs": [
        {
          "output_type": "stream",
          "name": "stdout",
          "text": [
            "El tiempo de cómputo con RNA fue: 30.80 segundos\n"
          ]
        }
      ]
    },
    {
      "cell_type": "markdown",
      "source": [
        "### Predicción"
      ],
      "metadata": {
        "id": "kt-1kPj1t2y_"
      },
      "id": "kt-1kPj1t2y_"
    },
    {
      "cell_type": "code",
      "source": [
        "X_pred = modelRNA.predict(X_test, batch_size = 32, verbose=1)\n",
        "y_pred = np.argmax(X_pred, axis=1)\n",
        "print(y_pred.shape)"
      ],
      "metadata": {
        "id": "s2V_K7x8t4LQ",
        "colab": {
          "base_uri": "https://localhost:8080/"
        },
        "outputId": "ceb54390-c078-47b4-b9ba-12623a25c8d8"
      },
      "id": "s2V_K7x8t4LQ",
      "execution_count": 16,
      "outputs": [
        {
          "output_type": "stream",
          "name": "stdout",
          "text": [
            "29/29 [==============================] - 0s 1ms/step\n",
            "(900,)\n"
          ]
        }
      ]
    },
    {
      "cell_type": "markdown",
      "source": [
        "## Evaluación del modelo entrenado"
      ],
      "metadata": {
        "id": "0Z0yUZ0dqgIz"
      },
      "id": "0Z0yUZ0dqgIz"
    },
    {
      "cell_type": "markdown",
      "source": [
        "### Gráficas de pérdida de entrenamiento y validación"
      ],
      "metadata": {
        "id": "NFH5y6qOqio9"
      },
      "id": "NFH5y6qOqio9"
    },
    {
      "cell_type": "code",
      "execution_count": 17,
      "id": "internal-hudson",
      "metadata": {
        "id": "internal-hudson",
        "colab": {
          "base_uri": "https://localhost:8080/",
          "height": 354
        },
        "outputId": "e7c37eea-456f-4531-aefa-89bb4ac74276"
      },
      "outputs": [
        {
          "output_type": "display_data",
          "data": {
            "text/plain": [
              "<Figure size 1600x500 with 2 Axes>"
            ],
            "image/png": "[encoded data removed]"
          },
          "metadata": {}
        }
      ],
      "source": [
        "# Gráficas de pérdidas en entrenamiento y validación\n",
        "loss = training_log.history['loss']\n",
        "val_loss = training_log.history['val_loss']\n",
        "epochs = range(1, len(val_loss) + 1)\n",
        "\n",
        "# Gráfica comparativa: pérdida en entrenamiento\n",
        "plt.figure(figsize=(16, 5))\n",
        "plt.subplot(1, 2, 1)\n",
        "plt.plot(epochs, loss, 'g*--', label=\"Perceptrón 5 capas\")\n",
        "plt.title('Pérdida en el entrenamiento arquitectura ARN')\n",
        "plt.xlabel('Épocas')\n",
        "plt.ylabel('Pérdida')\n",
        "plt.legend(loc=\"upper center\", fontsize=\"small\")\n",
        "plt.legend()\n",
        "plt.grid(True)\n",
        "\n",
        "# Gráfica comparativa: pérdida en validación\n",
        "plt.subplot(1, 2, 2)\n",
        "plt.plot(epochs, val_loss, 'b*--', label=\"Perceptrón 5 capas\")\n",
        "plt.title('Pérdida en la validación arquitectura ARN')\n",
        "plt.xlabel('Épocas')\n",
        "plt.ylabel('Pérdida')\n",
        "plt.legend(loc=\"upper center\", fontsize=\"small\")\n",
        "plt.legend()\n",
        "plt.grid(True)\n",
        "plt.show()"
      ]
    },
    {
      "cell_type": "markdown",
      "source": [
        "### Visualizar reporte del entrenamiento de la RNA"
      ],
      "metadata": {
        "id": "o_wQRzRnq3K8"
      },
      "id": "o_wQRzRnq3K8"
    },
    {
      "cell_type": "code",
      "execution_count": 18,
      "id": "reliable-resort",
      "metadata": {
        "id": "reliable-resort",
        "colab": {
          "base_uri": "https://localhost:8080/"
        },
        "outputId": "e22c7c4c-7347-492c-d84e-c996b3d8d3f9"
      },
      "outputs": [
        {
          "output_type": "stream",
          "name": "stdout",
          "text": [
            "\n",
            "               precision    recall  f1-score   support\n",
            "\n",
            "           0      0.694     0.829     0.755       175\n",
            "           1      0.757     0.443     0.559       246\n",
            "           2      0.835     0.954     0.891       479\n",
            "\n",
            "    accuracy                          0.790       900\n",
            "   macro avg      0.762     0.742     0.735       900\n",
            "weighted avg      0.786     0.790     0.774       900\n",
            "\n"
          ]
        }
      ],
      "source": [
        "# Métricas de desempeño\n",
        "# Mostrar la precisión, recall, F1-score\n",
        "print(\"\\n\", classification_report(y_test, y_pred, digits=3))"
      ]
    },
    {
      "cell_type": "markdown",
      "source": [
        "### Visualizar matriz de confusión"
      ],
      "metadata": {
        "id": "7MPa73-zrCAr"
      },
      "id": "7MPa73-zrCAr"
    },
    {
      "cell_type": "code",
      "execution_count": 19,
      "id": "opened-quantity",
      "metadata": {
        "id": "opened-quantity",
        "colab": {
          "base_uri": "https://localhost:8080/",
          "height": 526
        },
        "outputId": "a1744846-bb89-48da-c831-e13bd98594f4"
      },
      "outputs": [
        {
          "output_type": "display_data",
          "data": {
            "text/plain": [
              "<Figure size 640x480 with 1 Axes>"
            ],
            "image/png": "[encoded data removed]"
          },
          "metadata": {}
        }
      ],
      "source": [
        "# Matriz de confusión\n",
        "# cm = metrics.confusion_matrix(Y_test.argmax(axis=1),\n",
        "#                               Y_pred.argmax(axis=1))\n",
        "cm = confusion_matrix(y_test, y_pred)\n",
        "plt.imshow(cm, interpolation='nearest', cmap=plt.cm.Wistia)\n",
        "classNames = ['RCV bajo','RCV latente', 'RCV alto']\n",
        "plt.title('Matriz de confusión modelo predictivo RCV')\n",
        "plt.ylabel('True label')\n",
        "plt.xlabel('Predicted label')\n",
        "tick_marks = np.arange(len(classNames))\n",
        "plt.xticks(tick_marks, classNames, rotation=45)\n",
        "plt.yticks(tick_marks, classNames)\n",
        "for i in range(3):\n",
        "    for j in range(3):\n",
        "        plt.text(j,i, str(cm[i][j]))"
      ]
    },
    {
      "cell_type": "markdown",
      "source": [
        "### Curva ROC\n"
      ],
      "metadata": {
        "id": "fI_T7Ud8Myl6"
      },
      "id": "fI_T7Ud8Myl6"
    },
    {
      "cell_type": "code",
      "source": [
        "# Curva ROC\n",
        "# #https://stackabuse.com/understanding-roc-curves-with-python/\n",
        "Y_pred = np_utils.to_categorical(y_pred)\n",
        "auc = roc_auc_score(Y_test, Y_pred)\n",
        "fpr, tpr, threshold = roc_curve(Y_test[:,0], Y_pred[:,0])\n",
        "font = {'family': 'serif',\n",
        "    'color':  'darkred',\n",
        "    'weight': 'normal',\n",
        "    'size': 16,\n",
        "    }\n",
        "plt.plot(fpr, tpr, color='green', label='ROC RCV bajo')\n",
        "plt.plot([0, 1], [0, 1], color='black', linestyle='--')\n",
        "plt.xlabel('Tasa de Falsos Positivos')\n",
        "plt.ylabel('Tasa de Verdaderos Postivos')\n",
        "plt.title('Curva ROC RNA')\n",
        "fpr, tpr, threshold = roc_curve(Y_test[:,1], Y_pred[:,1])\n",
        "plt.plot(fpr, tpr, color='darkblue', label='ROC RCV latente')\n",
        "fpr, tpr, threshold = roc_curve(Y_test[:,2], Y_pred[:,2])\n",
        "plt.plot(fpr, tpr, color='orange', label='ROC RCV alto')\n",
        "plt.text(0.7, 0.55, 'AUC: %.2f' % auc, fontdict=font)\n",
        "plt.legend()\n",
        "plt.show()"
      ],
      "metadata": {
        "id": "HysJdDp7M01I",
        "colab": {
          "base_uri": "https://localhost:8080/",
          "height": 472
        },
        "outputId": "a36a88c1-e26b-4a33-a5a1-0df44c9caff1"
      },
      "id": "HysJdDp7M01I",
      "execution_count": 20,
      "outputs": [
        {
          "output_type": "display_data",
          "data": {
            "text/plain": [
              "<Figure size 640x480 with 1 Axes>"
            ],
            "image/png": "[encoded data removed]"
          },
          "metadata": {}
        }
      ]
    },
    {
      "cell_type": "code",
      "execution_count": 21,
      "id": "substantial-killer",
      "metadata": {
        "id": "substantial-killer"
      },
      "outputs": [],
      "source": [
        "#Guardar modelo\n",
        "# import pickle\n",
        "# pickle.dump(modelRNA, open('RNA_RCV_01.pkl', 'wb'))\n",
        "\n",
        "# #Cargar modelo almacenado\n",
        "# model = pickle.load(open('RNA_RCV_01.pkl', 'rb'))\n",
        "# result_val = model.score(X_valid, y_valid)\n",
        "# result_test = model.score(X_test, y_test)\n",
        "# print(result_val)\n",
        "# print(result_test)"
      ]
    },
    {
      "cell_type": "markdown",
      "id": "acceptable-knowing",
      "metadata": {
        "id": "acceptable-knowing"
      },
      "source": [
        "## Conclusiones\n"
      ]
    }
  ],
  "metadata": {
    "kernelspec": {
      "display_name": "Python (bertgpu)",
      "language": "python",
      "name": "bertgpu"
    },
    "language_info": {
      "codemirror_mode": {
        "name": "ipython",
        "version": 3
      },
      "file_extension": ".py",
      "mimetype": "text/x-python",
      "name": "python",
      "nbconvert_exporter": "python",
      "pygments_lexer": "ipython3",
      "version": "3.7.10"
    },
    "colab": {
      "provenance": [],
      "include_colab_link": true
    }
  },
  "nbformat": 4,
  "nbformat_minor": 5
}