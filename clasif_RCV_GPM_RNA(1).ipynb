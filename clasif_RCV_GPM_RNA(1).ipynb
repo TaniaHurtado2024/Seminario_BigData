{
  "cells": [
    {
      "cell_type": "markdown",
      "metadata": {
        "id": "view-in-github",
        "colab_type": "text"
      },
      "source": [
        "<a href=\"https://colab.research.google.com/github/TaniaHurtado2024/Seminario_BigData/blob/main/clasif_RCV_GPM_RNA(1).ipynb\" target=\"_parent\"><img src=\"https://colab.research.google.com/assets/colab-badge.svg\" alt=\"Open In Colab\"/></a>"
      ]
    },
    {
      "cell_type": "markdown",
      "id": "inappropriate-farmer",
      "metadata": {
        "id": "inappropriate-farmer"
      },
      "source": [
        "# Redes Neuronales Artificiales Para Predecir Riesgo Cardiovascular\n",
        "\n",
        "**Autor: Elias Buitrago B.**\\\n",
        "Bogotá, Colombia \\\n",
        "Actualizado: 18 oct 2023 \\\n",
        "_Nota: Código ajustado para su ejecución en Google Colaboratory_\\\n",
        "Verificado con las siguientes versiones: Python 3.10.12, Tensorflow: 2.13.0, Keras: 2.13.1_"
      ]
    },
    {
      "cell_type": "markdown",
      "id": "adapted-handle",
      "metadata": {
        "id": "adapted-handle"
      },
      "source": [
        "## Cargar librerías\n",
        "The Python programming language relies on specialized code libraries for various functionalities. For example, if we want to graph we can invoke (call, load) a specialized library such as matplotlib. This packaging of code with concrete functions and the like is similar to what R software does with packages. Next, the libraries required for the correct training of multilayer perceptron neural networks are imported. The specialized libraries specifically for training neural networks to predict cardiovascular risk are TensorFlow (_version 2.13.0_) and Keras (_version 2.13.1_).\n",
        "\n",
        "<!-- El lenguaje de programación python se apoya en librerías de código especializadas en diversas funcionalidades. Por ejemplo, si queremos graficar podemos invocar (llamar, cargar) una librerías especilizada como matplotlib. ESte empaquetamiento de código con funciones concretas y similares, se asemeja a los que hace el software R con los paquetes. A continuación, se importan las librerías requeridas para el correcto entrenamiento de redes neuronales del tipo perceptrón multicapa. Las librerías especializadas, específicamente para entrenar las redes neuronales para predecri riesgo cardiovascular son las siguientes TensorFlow (_versión 2.13.0_) y Keras (_versión 2.13.1_). -->"
      ]
    },
    {
      "cell_type": "code",
      "execution_count": 211,
      "id": "cardiovascular-satin",
      "metadata": {
        "id": "cardiovascular-satin"
      },
      "outputs": [],
      "source": [
        "# Librerías básicas de Python\n",
        "import numpy as np\n",
        "import pandas as pd\n",
        "import matplotlib.pyplot as plt\n",
        "\n",
        "# Librería para calcular tiempo de ejecución\n",
        "from time import process_time\n",
        "\n",
        "# Librerías para particionar conjunto de datos\n",
        "from sklearn.preprocessing import StandardScaler\n",
        "from sklearn.model_selection import train_test_split as split\n",
        "\n",
        "# Funciones requeridas de la librerías que permite entrenar redes neuronales\n",
        "# artificiales\n",
        "from tensorflow.keras import models\n",
        "from tensorflow.keras.layers import Dense\n",
        "from tensorflow.keras import optimizers\n",
        "from tensorflow.keras import utils as np_utils\n",
        "\n",
        "# Funciones requeridas de la librería para evaluar desempeño de la RNA\n",
        "from sklearn.metrics import roc_curve, roc_auc_score\n",
        "from sklearn.metrics import classification_report, confusion_matrix"
      ]
    },
    {
      "cell_type": "markdown",
      "source": [
        "## Verificación de versiones de librerías\n",
        "De manera rutinaria se recomienda hacer la verificación de la versión actual de las versiones de Python, TensorFlow y Keras. Por lo tanto a continuación se mnuestran las lineas de código para verificar las versiones de dichas librerías, incluyendo la versión del sistema operativo. Google Colaboratory se ejecuta sobre un sistema operatio Linux distribución Ubuntu,"
      ],
      "metadata": {
        "id": "foKFuPu-R0To"
      },
      "id": "foKFuPu-R0To"
    },
    {
      "cell_type": "code",
      "source": [
        "import tensorflow\n",
        "import keras\n",
        "print(\"El sistema operativo base de Google Colaboratory es: \")\n",
        "!lsb_release -a\n",
        "print(\"La versión actual de Python es: \")\n",
        "!python --version\n",
        "print(\"La versión instalada de Tensorflow es: \" + tensorflow.__version__)\n",
        "print(\"La versión instalada de Keras es: \" + keras.__version__)"
      ],
      "metadata": {
        "colab": {
          "base_uri": "https://localhost:8080/"
        },
        "id": "iJ-XtMkY7Y4h",
        "outputId": "3bfafb68-db93-46d5-d7da-56a7898a423e"
      },
      "id": "iJ-XtMkY7Y4h",
      "execution_count": 212,
      "outputs": [
        {
          "output_type": "stream",
          "name": "stdout",
          "text": [
            "El sistema operativo base de Google Colaboratory es: \n",
            "No LSB modules are available.\n",
            "Distributor ID:\tUbuntu\n",
            "Description:\tUbuntu 22.04.3 LTS\n",
            "Release:\t22.04\n",
            "Codename:\tjammy\n",
            "La versión actual de Python es: \n",
            "Python 3.10.12\n",
            "La versión instalada de Tensorflow es: 2.15.0\n",
            "La versión instalada de Keras es: 2.15.0\n"
          ]
        }
      ]
    },
    {
      "cell_type": "markdown",
      "id": "nasty-transparency",
      "metadata": {
        "id": "nasty-transparency"
      },
      "source": [
        "## Cargar datos\n",
        "En el contexto del presente taller, los datos que se utilizan para el entrenamiento, evaluación y validación se almacenan en un directorio de Google Drive del mismo usuario actual de Google Colaboratory. Para acceder a los datos solo se requiere ejecutar la primera celda de código de esta sección, luego brindar los permisos de acceo respectivo y, finalmente, cambiar la ruta de acceso al archivo de los datos."
      ]
    },
    {
      "cell_type": "code",
      "source": [
        "from google.colab import drive\n",
        "drive.mount('/content/drive')"
      ],
      "metadata": {
        "id": "9LuuavIPie6Z",
        "colab": {
          "base_uri": "https://localhost:8080/"
        },
        "outputId": "c6510e8f-f82e-4bce-c1a2-cd27559b2c0c"
      },
      "id": "9LuuavIPie6Z",
      "execution_count": 213,
      "outputs": [
        {
          "output_type": "stream",
          "name": "stdout",
          "text": [
            "Drive already mounted at /content/drive; to attempt to forcibly remount, call drive.mount(\"/content/drive\", force_remount=True).\n"
          ]
        }
      ]
    },
    {
      "cell_type": "code",
      "execution_count": 214,
      "id": "applicable-darkness",
      "metadata": {
        "id": "applicable-darkness"
      },
      "outputs": [],
      "source": [
        "data = pd.read_excel(\"/content/drive/MyDrive/data/pacientes_rcv_limpio.xlsx\")\n",
        "target = data.loc[:, 'Clasificación de RCV Global'].astype(int)\n",
        "data = data.drop(['Clasificación de RCV Global'], axis=1)\n",
        "target=pd.Categorical(target).codes"
      ]
    },
    {
      "cell_type": "code",
      "source": [
        "print(data.shape)\n",
        "data.head()"
      ],
      "metadata": {
        "id": "-NPpefeF2L9D",
        "colab": {
          "base_uri": "https://localhost:8080/",
          "height": 0
        },
        "outputId": "10e7e2e9-3854-4130-d391-d4b4debd6f67"
      },
      "id": "-NPpefeF2L9D",
      "execution_count": 215,
      "outputs": [
        {
          "output_type": "stream",
          "name": "stdout",
          "text": [
            "(3000, 35)\n"
          ]
        },
        {
          "output_type": "execute_result",
          "data": {
            "text/plain": [
              "   Edad (años)  Genero  Zona  Fumador Activo  ¿Diabetes?  \\\n",
              "0           82       2     1               1           1   \n",
              "1           83       2     1               1           1   \n",
              "2           54       2     1               1           1   \n",
              "3           68       2     1               1           1   \n",
              "4           68       2     1               1           2   \n",
              "\n",
              "   Hipertensión Arterial Sistemica  HTA + DM  \\\n",
              "0                                2         1   \n",
              "1                                2         1   \n",
              "2                                1         1   \n",
              "3                                1         1   \n",
              "4                                1         1   \n",
              "\n",
              "   Clasificacion de Diabetes o del ultimo estado de Glicemia  \\\n",
              "0                                                0.0           \n",
              "1                                                0.0           \n",
              "2                                                0.0           \n",
              "3                                                0.0           \n",
              "4                                                2.0           \n",
              "\n",
              "   Complicaciones  y Lesiones en Organo Blanco  \\\n",
              "0                                            1   \n",
              "1                                            1   \n",
              "2                                            1   \n",
              "3                                            1   \n",
              "4                                            1   \n",
              "\n",
              "   Antecedentes_Fliar_Enfermedad_Coronaria  ...  Creatinina  \\\n",
              "0                                        1  ...       132.0   \n",
              "1                                        1  ...        97.0   \n",
              "2                                        1  ...        97.0   \n",
              "3                                        1  ...        86.0   \n",
              "4                                        1  ...        71.0   \n",
              "\n",
              "   Factor de corrección de la formula  Proteinuria  \\\n",
              "0                                  85          0.0   \n",
              "1                                  85          0.0   \n",
              "2                                  85          0.0   \n",
              "3                                  85          0.0   \n",
              "4                                  85          0.0   \n",
              "\n",
              "   Calculo de  TFG corregida (Cockcroft-Gault)  Estadio IRC  \\\n",
              "0                                    37.348485          3.0   \n",
              "1                                    33.000000          3.0   \n",
              "2                                    51.000000          3.0   \n",
              "3                                    53.372093          3.0   \n",
              "4                                    68.239437          2.0   \n",
              "\n",
              "   Remisiones Especialidad  Farmacos  Antihipertensivos  Estatina  \\\n",
              "0                      1.0                          1.0         0   \n",
              "1                      1.0                          2.0         0   \n",
              "2                      1.0                          3.0         0   \n",
              "3                      1.0                          1.0         0   \n",
              "4                      1.0                          2.0         0   \n",
              "\n",
              "   Antidiabeticos  Adherencia al tratamiento  \n",
              "0             2.0                        1.0  \n",
              "1             0.0                        1.0  \n",
              "2             0.0                        1.0  \n",
              "3             0.0                        1.0  \n",
              "4             3.0                        1.0  \n",
              "\n",
              "[5 rows x 35 columns]"
            ],
            "text/html": [
              "\n",
              "  <div id=\"df-96312fd4-59c6-4034-bf44-3e1208b55780\" class=\"colab-df-container\">\n",
              "    <div>\n",
              "<style scoped>\n",
              "    .dataframe tbody tr th:only-of-type {\n",
              "        vertical-align: middle;\n",
              "    }\n",
              "\n",
              "    .dataframe tbody tr th {\n",
              "        vertical-align: top;\n",
              "    }\n",
              "\n",
              "    .dataframe thead th {\n",
              "        text-align: right;\n",
              "    }\n",
              "</style>\n",
              "<table border=\"1\" class=\"dataframe\">\n",
              "  <thead>\n",
              "    <tr style=\"text-align: right;\">\n",
              "      <th></th>\n",
              "      <th>Edad (años)</th>\n",
              "      <th>Genero</th>\n",
              "      <th>Zona</th>\n",
              "      <th>Fumador Activo</th>\n",
              "      <th>¿Diabetes?</th>\n",
              "      <th>Hipertensión Arterial Sistemica</th>\n",
              "      <th>HTA + DM</th>\n",
              "      <th>Clasificacion de Diabetes o del ultimo estado de Glicemia</th>\n",
              "      <th>Complicaciones  y Lesiones en Organo Blanco</th>\n",
              "      <th>Antecedentes_Fliar_Enfermedad_Coronaria</th>\n",
              "      <th>...</th>\n",
              "      <th>Creatinina</th>\n",
              "      <th>Factor de corrección de la formula</th>\n",
              "      <th>Proteinuria</th>\n",
              "      <th>Calculo de  TFG corregida (Cockcroft-Gault)</th>\n",
              "      <th>Estadio IRC</th>\n",
              "      <th>Remisiones Especialidad</th>\n",
              "      <th>Farmacos  Antihipertensivos</th>\n",
              "      <th>Estatina</th>\n",
              "      <th>Antidiabeticos</th>\n",
              "      <th>Adherencia al tratamiento</th>\n",
              "    </tr>\n",
              "  </thead>\n",
              "  <tbody>\n",
              "    <tr>\n",
              "      <th>0</th>\n",
              "      <td>82</td>\n",
              "      <td>2</td>\n",
              "      <td>1</td>\n",
              "      <td>1</td>\n",
              "      <td>1</td>\n",
              "      <td>2</td>\n",
              "      <td>1</td>\n",
              "      <td>0.0</td>\n",
              "      <td>1</td>\n",
              "      <td>1</td>\n",
              "      <td>...</td>\n",
              "      <td>132.0</td>\n",
              "      <td>85</td>\n",
              "      <td>0.0</td>\n",
              "      <td>37.348485</td>\n",
              "      <td>3.0</td>\n",
              "      <td>1.0</td>\n",
              "      <td>1.0</td>\n",
              "      <td>0</td>\n",
              "      <td>2.0</td>\n",
              "      <td>1.0</td>\n",
              "    </tr>\n",
              "    <tr>\n",
              "      <th>1</th>\n",
              "      <td>83</td>\n",
              "      <td>2</td>\n",
              "      <td>1</td>\n",
              "      <td>1</td>\n",
              "      <td>1</td>\n",
              "      <td>2</td>\n",
              "      <td>1</td>\n",
              "      <td>0.0</td>\n",
              "      <td>1</td>\n",
              "      <td>1</td>\n",
              "      <td>...</td>\n",
              "      <td>97.0</td>\n",
              "      <td>85</td>\n",
              "      <td>0.0</td>\n",
              "      <td>33.000000</td>\n",
              "      <td>3.0</td>\n",
              "      <td>1.0</td>\n",
              "      <td>2.0</td>\n",
              "      <td>0</td>\n",
              "      <td>0.0</td>\n",
              "      <td>1.0</td>\n",
              "    </tr>\n",
              "    <tr>\n",
              "      <th>2</th>\n",
              "      <td>54</td>\n",
              "      <td>2</td>\n",
              "      <td>1</td>\n",
              "      <td>1</td>\n",
              "      <td>1</td>\n",
              "      <td>1</td>\n",
              "      <td>1</td>\n",
              "      <td>0.0</td>\n",
              "      <td>1</td>\n",
              "      <td>1</td>\n",
              "      <td>...</td>\n",
              "      <td>97.0</td>\n",
              "      <td>85</td>\n",
              "      <td>0.0</td>\n",
              "      <td>51.000000</td>\n",
              "      <td>3.0</td>\n",
              "      <td>1.0</td>\n",
              "      <td>3.0</td>\n",
              "      <td>0</td>\n",
              "      <td>0.0</td>\n",
              "      <td>1.0</td>\n",
              "    </tr>\n",
              "    <tr>\n",
              "      <th>3</th>\n",
              "      <td>68</td>\n",
              "      <td>2</td>\n",
              "      <td>1</td>\n",
              "      <td>1</td>\n",
              "      <td>1</td>\n",
              "      <td>1</td>\n",
              "      <td>1</td>\n",
              "      <td>0.0</td>\n",
              "      <td>1</td>\n",
              "      <td>1</td>\n",
              "      <td>...</td>\n",
              "      <td>86.0</td>\n",
              "      <td>85</td>\n",
              "      <td>0.0</td>\n",
              "      <td>53.372093</td>\n",
              "      <td>3.0</td>\n",
              "      <td>1.0</td>\n",
              "      <td>1.0</td>\n",
              "      <td>0</td>\n",
              "      <td>0.0</td>\n",
              "      <td>1.0</td>\n",
              "    </tr>\n",
              "    <tr>\n",
              "      <th>4</th>\n",
              "      <td>68</td>\n",
              "      <td>2</td>\n",
              "      <td>1</td>\n",
              "      <td>1</td>\n",
              "      <td>2</td>\n",
              "      <td>1</td>\n",
              "      <td>1</td>\n",
              "      <td>2.0</td>\n",
              "      <td>1</td>\n",
              "      <td>1</td>\n",
              "      <td>...</td>\n",
              "      <td>71.0</td>\n",
              "      <td>85</td>\n",
              "      <td>0.0</td>\n",
              "      <td>68.239437</td>\n",
              "      <td>2.0</td>\n",
              "      <td>1.0</td>\n",
              "      <td>2.0</td>\n",
              "      <td>0</td>\n",
              "      <td>3.0</td>\n",
              "      <td>1.0</td>\n",
              "    </tr>\n",
              "  </tbody>\n",
              "</table>\n",
              "<p>5 rows × 35 columns</p>\n",
              "</div>\n",
              "    <div class=\"colab-df-buttons\">\n",
              "\n",
              "  <div class=\"colab-df-container\">\n",
              "    <button class=\"colab-df-convert\" onclick=\"convertToInteractive('df-96312fd4-59c6-4034-bf44-3e1208b55780')\"\n",
              "            title=\"Convert this dataframe to an interactive table.\"\n",
              "            style=\"display:none;\">\n",
              "\n",
              "  <svg xmlns=\"http://www.w3.org/2000/svg\" height=\"24px\" viewBox=\"0 -960 960 960\">\n",
              "    <path d=\"M120-120v-720h720v720H120Zm60-500h600v-160H180v160Zm220 220h160v-160H400v160Zm0 220h160v-160H400v160ZM180-400h160v-160H180v160Zm440 0h160v-160H620v160ZM180-180h160v-160H180v160Zm440 0h160v-160H620v160Z\"/>\n",
              "  </svg>\n",
              "    </button>\n",
              "\n",
              "  <style>\n",
              "    .colab-df-container {\n",
              "      display:flex;\n",
              "      gap: 12px;\n",
              "    }\n",
              "\n",
              "    .colab-df-convert {\n",
              "      background-color: #E8F0FE;\n",
              "      border: none;\n",
              "      border-radius: 50%;\n",
              "      cursor: pointer;\n",
              "      display: none;\n",
              "      fill: #1967D2;\n",
              "      height: 32px;\n",
              "      padding: 0 0 0 0;\n",
              "      width: 32px;\n",
              "    }\n",
              "\n",
              "    .colab-df-convert:hover {\n",
              "      background-color: #E2EBFA;\n",
              "      box-shadow: 0px 1px 2px rgba(60, 64, 67, 0.3), 0px 1px 3px 1px rgba(60, 64, 67, 0.15);\n",
              "      fill: #174EA6;\n",
              "    }\n",
              "\n",
              "    .colab-df-buttons div {\n",
              "      margin-bottom: 4px;\n",
              "    }\n",
              "\n",
              "    [theme=dark] .colab-df-convert {\n",
              "      background-color: #3B4455;\n",
              "      fill: #D2E3FC;\n",
              "    }\n",
              "\n",
              "    [theme=dark] .colab-df-convert:hover {\n",
              "      background-color: #434B5C;\n",
              "      box-shadow: 0px 1px 3px 1px rgba(0, 0, 0, 0.15);\n",
              "      filter: drop-shadow(0px 1px 2px rgba(0, 0, 0, 0.3));\n",
              "      fill: #FFFFFF;\n",
              "    }\n",
              "  </style>\n",
              "\n",
              "    <script>\n",
              "      const buttonEl =\n",
              "        document.querySelector('#df-96312fd4-59c6-4034-bf44-3e1208b55780 button.colab-df-convert');\n",
              "      buttonEl.style.display =\n",
              "        google.colab.kernel.accessAllowed ? 'block' : 'none';\n",
              "\n",
              "      async function convertToInteractive(key) {\n",
              "        const element = document.querySelector('#df-96312fd4-59c6-4034-bf44-3e1208b55780');\n",
              "        const dataTable =\n",
              "          await google.colab.kernel.invokeFunction('convertToInteractive',\n",
              "                                                    [key], {});\n",
              "        if (!dataTable) return;\n",
              "\n",
              "        const docLinkHtml = 'Like what you see? Visit the ' +\n",
              "          '<a target=\"_blank\" href=https://colab.research.google.com/notebooks/data_table.ipynb>data table notebook</a>'\n",
              "          + ' to learn more about interactive tables.';\n",
              "        element.innerHTML = '';\n",
              "        dataTable['output_type'] = 'display_data';\n",
              "        await google.colab.output.renderOutput(dataTable, element);\n",
              "        const docLink = document.createElement('div');\n",
              "        docLink.innerHTML = docLinkHtml;\n",
              "        element.appendChild(docLink);\n",
              "      }\n",
              "    </script>\n",
              "  </div>\n",
              "\n",
              "\n",
              "<div id=\"df-c0456a53-e183-42a1-b38a-ccae69f43ed4\">\n",
              "  <button class=\"colab-df-quickchart\" onclick=\"quickchart('df-c0456a53-e183-42a1-b38a-ccae69f43ed4')\"\n",
              "            title=\"Suggest charts\"\n",
              "            style=\"display:none;\">\n",
              "\n",
              "<svg xmlns=\"http://www.w3.org/2000/svg\" height=\"24px\"viewBox=\"0 0 24 24\"\n",
              "     width=\"24px\">\n",
              "    <g>\n",
              "        <path d=\"M19 3H5c-1.1 0-2 .9-2 2v14c0 1.1.9 2 2 2h14c1.1 0 2-.9 2-2V5c0-1.1-.9-2-2-2zM9 17H7v-7h2v7zm4 0h-2V7h2v10zm4 0h-2v-4h2v4z\"/>\n",
              "    </g>\n",
              "</svg>\n",
              "  </button>\n",
              "\n",
              "<style>\n",
              "  .colab-df-quickchart {\n",
              "      --bg-color: #E8F0FE;\n",
              "      --fill-color: #1967D2;\n",
              "      --hover-bg-color: #E2EBFA;\n",
              "      --hover-fill-color: #174EA6;\n",
              "      --disabled-fill-color: #AAA;\n",
              "      --disabled-bg-color: #DDD;\n",
              "  }\n",
              "\n",
              "  [theme=dark] .colab-df-quickchart {\n",
              "      --bg-color: #3B4455;\n",
              "      --fill-color: #D2E3FC;\n",
              "      --hover-bg-color: #434B5C;\n",
              "      --hover-fill-color: #FFFFFF;\n",
              "      --disabled-bg-color: #3B4455;\n",
              "      --disabled-fill-color: #666;\n",
              "  }\n",
              "\n",
              "  .colab-df-quickchart {\n",
              "    background-color: var(--bg-color);\n",
              "    border: none;\n",
              "    border-radius: 50%;\n",
              "    cursor: pointer;\n",
              "    display: none;\n",
              "    fill: var(--fill-color);\n",
              "    height: 32px;\n",
              "    padding: 0;\n",
              "    width: 32px;\n",
              "  }\n",
              "\n",
              "  .colab-df-quickchart:hover {\n",
              "    background-color: var(--hover-bg-color);\n",
              "    box-shadow: 0 1px 2px rgba(60, 64, 67, 0.3), 0 1px 3px 1px rgba(60, 64, 67, 0.15);\n",
              "    fill: var(--button-hover-fill-color);\n",
              "  }\n",
              "\n",
              "  .colab-df-quickchart-complete:disabled,\n",
              "  .colab-df-quickchart-complete:disabled:hover {\n",
              "    background-color: var(--disabled-bg-color);\n",
              "    fill: var(--disabled-fill-color);\n",
              "    box-shadow: none;\n",
              "  }\n",
              "\n",
              "  .colab-df-spinner {\n",
              "    border: 2px solid var(--fill-color);\n",
              "    border-color: transparent;\n",
              "    border-bottom-color: var(--fill-color);\n",
              "    animation:\n",
              "      spin 1s steps(1) infinite;\n",
              "  }\n",
              "\n",
              "  @keyframes spin {\n",
              "    0% {\n",
              "      border-color: transparent;\n",
              "      border-bottom-color: var(--fill-color);\n",
              "      border-left-color: var(--fill-color);\n",
              "    }\n",
              "    20% {\n",
              "      border-color: transparent;\n",
              "      border-left-color: var(--fill-color);\n",
              "      border-top-color: var(--fill-color);\n",
              "    }\n",
              "    30% {\n",
              "      border-color: transparent;\n",
              "      border-left-color: var(--fill-color);\n",
              "      border-top-color: var(--fill-color);\n",
              "      border-right-color: var(--fill-color);\n",
              "    }\n",
              "    40% {\n",
              "      border-color: transparent;\n",
              "      border-right-color: var(--fill-color);\n",
              "      border-top-color: var(--fill-color);\n",
              "    }\n",
              "    60% {\n",
              "      border-color: transparent;\n",
              "      border-right-color: var(--fill-color);\n",
              "    }\n",
              "    80% {\n",
              "      border-color: transparent;\n",
              "      border-right-color: var(--fill-color);\n",
              "      border-bottom-color: var(--fill-color);\n",
              "    }\n",
              "    90% {\n",
              "      border-color: transparent;\n",
              "      border-bottom-color: var(--fill-color);\n",
              "    }\n",
              "  }\n",
              "</style>\n",
              "\n",
              "  <script>\n",
              "    async function quickchart(key) {\n",
              "      const quickchartButtonEl =\n",
              "        document.querySelector('#' + key + ' button');\n",
              "      quickchartButtonEl.disabled = true;  // To prevent multiple clicks.\n",
              "      quickchartButtonEl.classList.add('colab-df-spinner');\n",
              "      try {\n",
              "        const charts = await google.colab.kernel.invokeFunction(\n",
              "            'suggestCharts', [key], {});\n",
              "      } catch (error) {\n",
              "        console.error('Error during call to suggestCharts:', error);\n",
              "      }\n",
              "      quickchartButtonEl.classList.remove('colab-df-spinner');\n",
              "      quickchartButtonEl.classList.add('colab-df-quickchart-complete');\n",
              "    }\n",
              "    (() => {\n",
              "      let quickchartButtonEl =\n",
              "        document.querySelector('#df-c0456a53-e183-42a1-b38a-ccae69f43ed4 button');\n",
              "      quickchartButtonEl.style.display =\n",
              "        google.colab.kernel.accessAllowed ? 'block' : 'none';\n",
              "    })();\n",
              "  </script>\n",
              "</div>\n",
              "\n",
              "    </div>\n",
              "  </div>\n"
            ],
            "application/vnd.google.colaboratory.intrinsic+json": {
              "type": "dataframe",
              "variable_name": "data"
            }
          },
          "metadata": {},
          "execution_count": 215
        }
      ]
    },
    {
      "cell_type": "code",
      "source": [
        "data.dtypes"
      ],
      "metadata": {
        "id": "pHpr2_1D3qk8",
        "colab": {
          "base_uri": "https://localhost:8080/"
        },
        "outputId": "c68c3411-78e5-4323-b51b-d6c78ed7fe11"
      },
      "id": "pHpr2_1D3qk8",
      "execution_count": 216,
      "outputs": [
        {
          "output_type": "execute_result",
          "data": {
            "text/plain": [
              "Edad (años)                                                    int64\n",
              "Genero                                                         int64\n",
              "Zona                                                           int64\n",
              "Fumador Activo                                                 int64\n",
              "¿Diabetes?                                                     int64\n",
              "Hipertensión Arterial Sistemica                                int64\n",
              "HTA + DM                                                       int64\n",
              "Clasificacion de Diabetes o del ultimo estado de Glicemia    float64\n",
              "Complicaciones  y Lesiones en Organo Blanco                    int64\n",
              "Antecedentes_Fliar_Enfermedad_Coronaria                        int64\n",
              "Tension SISTOLICA                                              int64\n",
              "Tension DIASTOLICA                                           float64\n",
              "HTA COMPENSADOS                                                int64\n",
              "Colesterol Total                                               int64\n",
              "Colesterol HDL                                               float64\n",
              "Trigliceridos                                                  int64\n",
              "Colesterol LDL                                               float64\n",
              "HTA Y DM COMPENSADA                                            int64\n",
              "Glicemia de ayuno                                            float64\n",
              "Perimetro Abdominal                                          float64\n",
              "Clasificación perímetro abdominal                            float64\n",
              "Peso                                                           int64\n",
              "Talla                                                          int64\n",
              "IMC                                                            int64\n",
              "CLASIFICACION IMC                                              int64\n",
              "Creatinina                                                   float64\n",
              "Factor de corrección de la formula                             int64\n",
              "Proteinuria                                                  float64\n",
              "Calculo de  TFG corregida (Cockcroft-Gault)                  float64\n",
              "Estadio IRC                                                  float64\n",
              "Remisiones Especialidad                                      float64\n",
              "Farmacos  Antihipertensivos                                  float64\n",
              "Estatina                                                       int64\n",
              "Antidiabeticos                                               float64\n",
              "Adherencia al tratamiento                                    float64\n",
              "dtype: object"
            ]
          },
          "metadata": {},
          "execution_count": 216
        }
      ]
    },
    {
      "cell_type": "markdown",
      "source": [
        "## Conteo de clases\n",
        "\n",
        "El desbalance de clases es notorio. La clase que representa al riesgo cardiovascular intermedio tiene 40% menos muestras que el riesgo cardiovascular alto. Entretanto, la clase que representa al riesgo cardiovascular bajo tiene 60% menos muestras que el riesgo cardiovascular alto."
      ],
      "metadata": {
        "id": "cY7fuulPDmAL"
      },
      "id": "cY7fuulPDmAL"
    },
    {
      "cell_type": "code",
      "source": [
        "import pandas as pd\n",
        "pd.DataFrame(target).value_counts()"
      ],
      "metadata": {
        "id": "Qw3A8P10DqBR",
        "colab": {
          "base_uri": "https://localhost:8080/"
        },
        "outputId": "8461e025-5069-4514-a5a0-3605c5417a44"
      },
      "id": "Qw3A8P10DqBR",
      "execution_count": 217,
      "outputs": [
        {
          "output_type": "execute_result",
          "data": {
            "text/plain": [
              "2    1597\n",
              "1     820\n",
              "0     583\n",
              "Name: count, dtype: int64"
            ]
          },
          "metadata": {},
          "execution_count": 217
        }
      ]
    },
    {
      "cell_type": "markdown",
      "id": "maritime-warren",
      "metadata": {
        "id": "maritime-warren"
      },
      "source": [
        "## Preparar datos para el entrenamiento de la RNA\n",
        "En esta sección se excluyen la etapa de preprocesamiento de los datos, en la cual, se segue una metodología para asegurar la calidad de los datos. Así mismo, se excluye la etapa de análisis exploratorio de datos, en la cual, se eaplican técnicas de estadística descriptiva y, en algunos casos, inferencial. Por lo tanto, para efectos del taller, esta sección se restringue a la partición del conjunto original de datos para obtener los tres subconjguntos vitales en el entrenamiento y evaluación del modelo predictivo."
      ]
    },
    {
      "cell_type": "markdown",
      "id": "waiting-pizza",
      "metadata": {
        "id": "waiting-pizza"
      },
      "source": [
        "### Particionar datos"
      ]
    },
    {
      "cell_type": "code",
      "source": [
        "## Particionar el conjunto de datos para crear datos de entrenamiento, evaluación y validación.\n",
        "sc = StandardScaler()\n",
        "Xsc = sc.fit(data)\n",
        "X = Xsc.transform(data)\n",
        "X.shape\n",
        "\n",
        "X_train, X_test, y_train, y_test = split(X,target,\n",
        "                                         test_size=0.30,\n",
        "                                         random_state=42,\n",
        "                                         stratify=target)\n",
        "X_train, X_valid, y_train, y_valid = split(X_train, y_train,\n",
        "                                           test_size=0.2,\n",
        "                                           stratify=y_train)\n",
        "print(\"El tamaño de los nuevos subconjuntos es: \", X_train.shape, X_test.shape, X_valid.shape)\n",
        "print(\"Y es la variable que tiene las etiquetas de las clases a predecir: \", y_train.shape, y_test.shape, y_valid.shape)"
      ],
      "metadata": {
        "id": "5KnSXVxYVyxr",
        "colab": {
          "base_uri": "https://localhost:8080/"
        },
        "outputId": "cd1e4b3d-dd62-4ed7-c346-9f7bb30b6617"
      },
      "id": "5KnSXVxYVyxr",
      "execution_count": 218,
      "outputs": [
        {
          "output_type": "stream",
          "name": "stdout",
          "text": [
            "El tamaño de los nuevos subconjuntos es:  (1680, 35) (900, 35) (420, 35)\n",
            "Y es la variable que tiene las etiquetas de las clases a predecir:  (1680,) (900,) (420,)\n"
          ]
        }
      ]
    },
    {
      "cell_type": "markdown",
      "source": [
        "### Transformación de etiquetas de la clase objetivo (Predicción Multiclase)"
      ],
      "metadata": {
        "id": "h6XCkQXzYfYh"
      },
      "id": "h6XCkQXzYfYh"
    },
    {
      "cell_type": "code",
      "execution_count": 219,
      "id": "productive-bunny",
      "metadata": {
        "id": "productive-bunny"
      },
      "outputs": [],
      "source": [
        "# #Transformación de las etiquetas requerida para el entrenamiento de RNA\n",
        "Y_train = np_utils.to_categorical(y_train)\n",
        "Y_test = np_utils.to_categorical(y_test)\n",
        "Y_valid = np_utils.to_categorical(y_valid)"
      ]
    },
    {
      "cell_type": "markdown",
      "id": "assured-conversation",
      "metadata": {
        "id": "assured-conversation"
      },
      "source": [
        "## Entrenamiento del modelo predictivo basado en RNA"
      ]
    },
    {
      "cell_type": "code",
      "source": [
        "# Optimización de hiperparámetros\n",
        "#funcion de activacion\n",
        "#loss\n",
        "#metrics\n",
        "#optimizer\n",
        "#learning_rate\n",
        "#epochs\n",
        "#batch_size"
      ],
      "metadata": {
        "id": "rJ5hcFCxa-c_"
      },
      "id": "rJ5hcFCxa-c_",
      "execution_count": 220,
      "outputs": []
    },
    {
      "cell_type": "markdown",
      "id": "external-sydney",
      "metadata": {
        "id": "external-sydney"
      },
      "source": [
        "### Diseño de la arquitectura del modelo de red neuronal artificial"
      ]
    },
    {
      "cell_type": "markdown",
      "source": [
        "### Compilar el modelo creado"
      ],
      "metadata": {
        "id": "ychB9Bk6p4xq"
      },
      "id": "ychB9Bk6p4xq"
    },
    {
      "cell_type": "code",
      "execution_count": 221,
      "id": "subject-electric",
      "metadata": {
        "id": "subject-electric"
      },
      "outputs": [],
      "source": [
        "# Definir la arquitectura del modelo de la RNA\n",
        "modelRNA = models.Sequential()\n",
        "modelRNA.add(Dense(1, batch_input_shape=(None, 35), activation='relu')) ## neuronas en la capa de entrada (batch_input_shape) y #neuronas en la primera capa oculta\n",
        "\n",
        "modelRNA.add(Dense(20, activation='tanh'))\n",
        "modelRNA.add(Dense(10, activation='tanh'))\n",
        "\n",
        "modelRNA.add(Dense(3, activation='softmax'))"
      ]
    },
    {
      "cell_type": "code",
      "source": [
        "# compile the keras (tensorflow) flow graph\n",
        "modelRNA.compile(optimizer=optimizers.RMSprop(learning_rate=0.001),\n",
        "              loss='binary_crossentropy',\n",
        "              metrics=['accuracy'])"
      ],
      "metadata": {
        "id": "fmO_BWTTp8yS"
      },
      "id": "fmO_BWTTp8yS",
      "execution_count": 222,
      "outputs": []
    },
    {
      "cell_type": "markdown",
      "source": [
        "### Entrenamiento del modelo de RNA"
      ],
      "metadata": {
        "id": "ZkxGCNZJpyIa"
      },
      "id": "ZkxGCNZJpyIa"
    },
    {
      "cell_type": "code",
      "source": [
        "# Inicializar el reloj para calcular tiempo de cómputo\n",
        "t0 = process_time()"
      ],
      "metadata": {
        "id": "EuZG0sHJr-pz"
      },
      "id": "EuZG0sHJr-pz",
      "execution_count": 223,
      "outputs": []
    },
    {
      "cell_type": "code",
      "source": [
        "training_log = modelRNA.fit(X_train,\n",
        "                    Y_train,\n",
        "                    epochs=100,\n",
        "                    batch_size=32,\n",
        "                    validation_data=(X_valid, Y_valid),\n",
        "                    verbose=1)"
      ],
      "metadata": {
        "id": "WEXqIZWeIjmt",
        "colab": {
          "base_uri": "https://localhost:8080/"
        },
        "outputId": "c85bf477-b115-4398-bcb6-d559e1af0fc8"
      },
      "id": "WEXqIZWeIjmt",
      "execution_count": 224,
      "outputs": [
        {
          "output_type": "stream",
          "name": "stdout",
          "text": [
            "Epoch 1/100\n",
            "53/53 [==============================] - 1s 6ms/step - loss: 0.6679 - accuracy: 0.4202 - val_loss: 0.6312 - val_accuracy: 0.4976\n",
            "Epoch 2/100\n",
            "53/53 [==============================] - 0s 3ms/step - loss: 0.6123 - accuracy: 0.5208 - val_loss: 0.5954 - val_accuracy: 0.5333\n",
            "Epoch 3/100\n",
            "53/53 [==============================] - 0s 3ms/step - loss: 0.5884 - accuracy: 0.5327 - val_loss: 0.5820 - val_accuracy: 0.5405\n",
            "Epoch 4/100\n",
            "53/53 [==============================] - 0s 3ms/step - loss: 0.5778 - accuracy: 0.5369 - val_loss: 0.5737 - val_accuracy: 0.5548\n",
            "Epoch 5/100\n",
            "53/53 [==============================] - 0s 4ms/step - loss: 0.5694 - accuracy: 0.5470 - val_loss: 0.5661 - val_accuracy: 0.5571\n",
            "Epoch 6/100\n",
            "53/53 [==============================] - 0s 3ms/step - loss: 0.5602 - accuracy: 0.5571 - val_loss: 0.5575 - val_accuracy: 0.5571\n",
            "Epoch 7/100\n",
            "53/53 [==============================] - 0s 3ms/step - loss: 0.5494 - accuracy: 0.5720 - val_loss: 0.5475 - val_accuracy: 0.5595\n",
            "Epoch 8/100\n",
            "53/53 [==============================] - 0s 3ms/step - loss: 0.5367 - accuracy: 0.5804 - val_loss: 0.5365 - val_accuracy: 0.5762\n",
            "Epoch 9/100\n",
            "53/53 [==============================] - 0s 3ms/step - loss: 0.5220 - accuracy: 0.5958 - val_loss: 0.5227 - val_accuracy: 0.5929\n",
            "Epoch 10/100\n",
            "53/53 [==============================] - 0s 3ms/step - loss: 0.5048 - accuracy: 0.6131 - val_loss: 0.5048 - val_accuracy: 0.6048\n",
            "Epoch 11/100\n",
            "53/53 [==============================] - 0s 4ms/step - loss: 0.4855 - accuracy: 0.6345 - val_loss: 0.4847 - val_accuracy: 0.6405\n",
            "Epoch 12/100\n",
            "53/53 [==============================] - 0s 3ms/step - loss: 0.4651 - accuracy: 0.6530 - val_loss: 0.4655 - val_accuracy: 0.6738\n",
            "Epoch 13/100\n",
            "53/53 [==============================] - 0s 3ms/step - loss: 0.4455 - accuracy: 0.6798 - val_loss: 0.4475 - val_accuracy: 0.6952\n",
            "Epoch 14/100\n",
            "53/53 [==============================] - 0s 3ms/step - loss: 0.4263 - accuracy: 0.7060 - val_loss: 0.4308 - val_accuracy: 0.7238\n",
            "Epoch 15/100\n",
            "53/53 [==============================] - 0s 3ms/step - loss: 0.4074 - accuracy: 0.7351 - val_loss: 0.4172 - val_accuracy: 0.7405\n",
            "Epoch 16/100\n",
            "53/53 [==============================] - 0s 3ms/step - loss: 0.3905 - accuracy: 0.7518 - val_loss: 0.4054 - val_accuracy: 0.7548\n",
            "Epoch 17/100\n",
            "53/53 [==============================] - 0s 3ms/step - loss: 0.3755 - accuracy: 0.7643 - val_loss: 0.3966 - val_accuracy: 0.7643\n",
            "Epoch 18/100\n",
            "53/53 [==============================] - 0s 3ms/step - loss: 0.3625 - accuracy: 0.7911 - val_loss: 0.3877 - val_accuracy: 0.7762\n",
            "Epoch 19/100\n",
            "53/53 [==============================] - 0s 3ms/step - loss: 0.3515 - accuracy: 0.7929 - val_loss: 0.3794 - val_accuracy: 0.7738\n",
            "Epoch 20/100\n",
            "53/53 [==============================] - 0s 3ms/step - loss: 0.3426 - accuracy: 0.8006 - val_loss: 0.3715 - val_accuracy: 0.7690\n",
            "Epoch 21/100\n",
            "53/53 [==============================] - 0s 3ms/step - loss: 0.3360 - accuracy: 0.8048 - val_loss: 0.3672 - val_accuracy: 0.7738\n",
            "Epoch 22/100\n",
            "53/53 [==============================] - 0s 3ms/step - loss: 0.3302 - accuracy: 0.8113 - val_loss: 0.3625 - val_accuracy: 0.7857\n",
            "Epoch 23/100\n",
            "53/53 [==============================] - 0s 4ms/step - loss: 0.3253 - accuracy: 0.8149 - val_loss: 0.3585 - val_accuracy: 0.7881\n",
            "Epoch 24/100\n",
            "53/53 [==============================] - 0s 3ms/step - loss: 0.3213 - accuracy: 0.8179 - val_loss: 0.3527 - val_accuracy: 0.8071\n",
            "Epoch 25/100\n",
            "53/53 [==============================] - 0s 3ms/step - loss: 0.3183 - accuracy: 0.8220 - val_loss: 0.3496 - val_accuracy: 0.7976\n",
            "Epoch 26/100\n",
            "53/53 [==============================] - 0s 3ms/step - loss: 0.3152 - accuracy: 0.8208 - val_loss: 0.3491 - val_accuracy: 0.8000\n",
            "Epoch 27/100\n",
            "53/53 [==============================] - 0s 3ms/step - loss: 0.3122 - accuracy: 0.8179 - val_loss: 0.3463 - val_accuracy: 0.8000\n",
            "Epoch 28/100\n",
            "53/53 [==============================] - 0s 3ms/step - loss: 0.3095 - accuracy: 0.8232 - val_loss: 0.3441 - val_accuracy: 0.7976\n",
            "Epoch 29/100\n",
            "53/53 [==============================] - 0s 4ms/step - loss: 0.3078 - accuracy: 0.8173 - val_loss: 0.3421 - val_accuracy: 0.7976\n",
            "Epoch 30/100\n",
            "53/53 [==============================] - 0s 3ms/step - loss: 0.3059 - accuracy: 0.8202 - val_loss: 0.3404 - val_accuracy: 0.8000\n",
            "Epoch 31/100\n",
            "53/53 [==============================] - 0s 3ms/step - loss: 0.3037 - accuracy: 0.8185 - val_loss: 0.3387 - val_accuracy: 0.7976\n",
            "Epoch 32/100\n",
            "53/53 [==============================] - 0s 3ms/step - loss: 0.3020 - accuracy: 0.8226 - val_loss: 0.3366 - val_accuracy: 0.8048\n",
            "Epoch 33/100\n",
            "53/53 [==============================] - 0s 3ms/step - loss: 0.3010 - accuracy: 0.8238 - val_loss: 0.3348 - val_accuracy: 0.8000\n",
            "Epoch 34/100\n",
            "53/53 [==============================] - 0s 3ms/step - loss: 0.2993 - accuracy: 0.8214 - val_loss: 0.3333 - val_accuracy: 0.8000\n",
            "Epoch 35/100\n",
            "53/53 [==============================] - 0s 3ms/step - loss: 0.2978 - accuracy: 0.8256 - val_loss: 0.3332 - val_accuracy: 0.7952\n",
            "Epoch 36/100\n",
            "53/53 [==============================] - 0s 3ms/step - loss: 0.2962 - accuracy: 0.8226 - val_loss: 0.3332 - val_accuracy: 0.7881\n",
            "Epoch 37/100\n",
            "53/53 [==============================] - 0s 3ms/step - loss: 0.2954 - accuracy: 0.8226 - val_loss: 0.3306 - val_accuracy: 0.7976\n",
            "Epoch 38/100\n",
            "53/53 [==============================] - 0s 3ms/step - loss: 0.2938 - accuracy: 0.8238 - val_loss: 0.3294 - val_accuracy: 0.7929\n",
            "Epoch 39/100\n",
            "53/53 [==============================] - 0s 3ms/step - loss: 0.2929 - accuracy: 0.8226 - val_loss: 0.3271 - val_accuracy: 0.8071\n",
            "Epoch 40/100\n",
            "53/53 [==============================] - 0s 3ms/step - loss: 0.2915 - accuracy: 0.8226 - val_loss: 0.3266 - val_accuracy: 0.8024\n",
            "Epoch 41/100\n",
            "53/53 [==============================] - 0s 4ms/step - loss: 0.2909 - accuracy: 0.8196 - val_loss: 0.3264 - val_accuracy: 0.8000\n",
            "Epoch 42/100\n",
            "53/53 [==============================] - 0s 3ms/step - loss: 0.2898 - accuracy: 0.8244 - val_loss: 0.3256 - val_accuracy: 0.8119\n",
            "Epoch 43/100\n",
            "53/53 [==============================] - 0s 5ms/step - loss: 0.2891 - accuracy: 0.8250 - val_loss: 0.3248 - val_accuracy: 0.8024\n",
            "Epoch 44/100\n",
            "53/53 [==============================] - 0s 5ms/step - loss: 0.2879 - accuracy: 0.8262 - val_loss: 0.3225 - val_accuracy: 0.8119\n",
            "Epoch 45/100\n",
            "53/53 [==============================] - 0s 6ms/step - loss: 0.2879 - accuracy: 0.8274 - val_loss: 0.3221 - val_accuracy: 0.8119\n",
            "Epoch 46/100\n",
            "53/53 [==============================] - 0s 5ms/step - loss: 0.2867 - accuracy: 0.8244 - val_loss: 0.3237 - val_accuracy: 0.7952\n",
            "Epoch 47/100\n",
            "53/53 [==============================] - 0s 5ms/step - loss: 0.2868 - accuracy: 0.8244 - val_loss: 0.3221 - val_accuracy: 0.8024\n",
            "Epoch 48/100\n",
            "53/53 [==============================] - 0s 5ms/step - loss: 0.2862 - accuracy: 0.8256 - val_loss: 0.3213 - val_accuracy: 0.8000\n",
            "Epoch 49/100\n",
            "53/53 [==============================] - 0s 6ms/step - loss: 0.2860 - accuracy: 0.8214 - val_loss: 0.3202 - val_accuracy: 0.8095\n",
            "Epoch 50/100\n",
            "53/53 [==============================] - 0s 4ms/step - loss: 0.2852 - accuracy: 0.8232 - val_loss: 0.3202 - val_accuracy: 0.8024\n",
            "Epoch 51/100\n",
            "53/53 [==============================] - 0s 5ms/step - loss: 0.2850 - accuracy: 0.8185 - val_loss: 0.3197 - val_accuracy: 0.8024\n",
            "Epoch 52/100\n",
            "53/53 [==============================] - 0s 5ms/step - loss: 0.2847 - accuracy: 0.8185 - val_loss: 0.3193 - val_accuracy: 0.8071\n",
            "Epoch 53/100\n",
            "53/53 [==============================] - 0s 6ms/step - loss: 0.2844 - accuracy: 0.8232 - val_loss: 0.3184 - val_accuracy: 0.8095\n",
            "Epoch 54/100\n",
            "53/53 [==============================] - 0s 5ms/step - loss: 0.2836 - accuracy: 0.8238 - val_loss: 0.3177 - val_accuracy: 0.8071\n",
            "Epoch 55/100\n",
            "53/53 [==============================] - 0s 5ms/step - loss: 0.2837 - accuracy: 0.8232 - val_loss: 0.3176 - val_accuracy: 0.8119\n",
            "Epoch 56/100\n",
            "53/53 [==============================] - 0s 6ms/step - loss: 0.2833 - accuracy: 0.8238 - val_loss: 0.3164 - val_accuracy: 0.8071\n",
            "Epoch 57/100\n",
            "53/53 [==============================] - 0s 6ms/step - loss: 0.2828 - accuracy: 0.8292 - val_loss: 0.3161 - val_accuracy: 0.8095\n",
            "Epoch 58/100\n",
            "53/53 [==============================] - 0s 4ms/step - loss: 0.2828 - accuracy: 0.8256 - val_loss: 0.3149 - val_accuracy: 0.8143\n",
            "Epoch 59/100\n",
            "53/53 [==============================] - 0s 3ms/step - loss: 0.2825 - accuracy: 0.8244 - val_loss: 0.3149 - val_accuracy: 0.8167\n",
            "Epoch 60/100\n",
            "53/53 [==============================] - 0s 3ms/step - loss: 0.2819 - accuracy: 0.8262 - val_loss: 0.3152 - val_accuracy: 0.8024\n",
            "Epoch 61/100\n",
            "53/53 [==============================] - 0s 3ms/step - loss: 0.2817 - accuracy: 0.8256 - val_loss: 0.3136 - val_accuracy: 0.8048\n",
            "Epoch 62/100\n",
            "53/53 [==============================] - 0s 3ms/step - loss: 0.2818 - accuracy: 0.8202 - val_loss: 0.3135 - val_accuracy: 0.8095\n",
            "Epoch 63/100\n",
            "53/53 [==============================] - 0s 4ms/step - loss: 0.2815 - accuracy: 0.8256 - val_loss: 0.3133 - val_accuracy: 0.8143\n",
            "Epoch 64/100\n",
            "53/53 [==============================] - 0s 3ms/step - loss: 0.2813 - accuracy: 0.8274 - val_loss: 0.3136 - val_accuracy: 0.8143\n",
            "Epoch 65/100\n",
            "53/53 [==============================] - 0s 4ms/step - loss: 0.2813 - accuracy: 0.8232 - val_loss: 0.3135 - val_accuracy: 0.8167\n",
            "Epoch 66/100\n",
            "53/53 [==============================] - 0s 3ms/step - loss: 0.2811 - accuracy: 0.8274 - val_loss: 0.3131 - val_accuracy: 0.8190\n",
            "Epoch 67/100\n",
            "53/53 [==============================] - 0s 3ms/step - loss: 0.2808 - accuracy: 0.8226 - val_loss: 0.3121 - val_accuracy: 0.8190\n",
            "Epoch 68/100\n",
            "53/53 [==============================] - 0s 3ms/step - loss: 0.2806 - accuracy: 0.8274 - val_loss: 0.3131 - val_accuracy: 0.8119\n",
            "Epoch 69/100\n",
            "53/53 [==============================] - 0s 3ms/step - loss: 0.2805 - accuracy: 0.8244 - val_loss: 0.3129 - val_accuracy: 0.8119\n",
            "Epoch 70/100\n",
            "53/53 [==============================] - 0s 3ms/step - loss: 0.2804 - accuracy: 0.8226 - val_loss: 0.3109 - val_accuracy: 0.8167\n",
            "Epoch 71/100\n",
            "53/53 [==============================] - 0s 4ms/step - loss: 0.2800 - accuracy: 0.8214 - val_loss: 0.3109 - val_accuracy: 0.8167\n",
            "Epoch 72/100\n",
            "53/53 [==============================] - 0s 4ms/step - loss: 0.2800 - accuracy: 0.8286 - val_loss: 0.3124 - val_accuracy: 0.8119\n",
            "Epoch 73/100\n",
            "53/53 [==============================] - 0s 3ms/step - loss: 0.2800 - accuracy: 0.8214 - val_loss: 0.3113 - val_accuracy: 0.8238\n",
            "Epoch 74/100\n",
            "53/53 [==============================] - 0s 3ms/step - loss: 0.2798 - accuracy: 0.8304 - val_loss: 0.3110 - val_accuracy: 0.8167\n",
            "Epoch 75/100\n",
            "53/53 [==============================] - 0s 3ms/step - loss: 0.2796 - accuracy: 0.8238 - val_loss: 0.3115 - val_accuracy: 0.8143\n",
            "Epoch 76/100\n",
            "53/53 [==============================] - 0s 4ms/step - loss: 0.2793 - accuracy: 0.8226 - val_loss: 0.3117 - val_accuracy: 0.8167\n",
            "Epoch 77/100\n",
            "53/53 [==============================] - 0s 3ms/step - loss: 0.2791 - accuracy: 0.8268 - val_loss: 0.3087 - val_accuracy: 0.8167\n",
            "Epoch 78/100\n",
            "53/53 [==============================] - 0s 3ms/step - loss: 0.2792 - accuracy: 0.8226 - val_loss: 0.3100 - val_accuracy: 0.8167\n",
            "Epoch 79/100\n",
            "53/53 [==============================] - 0s 4ms/step - loss: 0.2792 - accuracy: 0.8214 - val_loss: 0.3108 - val_accuracy: 0.8143\n",
            "Epoch 80/100\n",
            "53/53 [==============================] - 0s 3ms/step - loss: 0.2789 - accuracy: 0.8262 - val_loss: 0.3098 - val_accuracy: 0.8190\n",
            "Epoch 81/100\n",
            "53/53 [==============================] - 0s 3ms/step - loss: 0.2787 - accuracy: 0.8256 - val_loss: 0.3100 - val_accuracy: 0.8167\n",
            "Epoch 82/100\n",
            "53/53 [==============================] - 0s 3ms/step - loss: 0.2778 - accuracy: 0.8250 - val_loss: 0.3098 - val_accuracy: 0.8143\n",
            "Epoch 83/100\n",
            "53/53 [==============================] - 0s 3ms/step - loss: 0.2786 - accuracy: 0.8262 - val_loss: 0.3091 - val_accuracy: 0.8119\n",
            "Epoch 84/100\n",
            "53/53 [==============================] - 0s 3ms/step - loss: 0.2778 - accuracy: 0.8244 - val_loss: 0.3107 - val_accuracy: 0.8167\n",
            "Epoch 85/100\n",
            "53/53 [==============================] - 0s 3ms/step - loss: 0.2776 - accuracy: 0.8310 - val_loss: 0.3103 - val_accuracy: 0.8214\n",
            "Epoch 86/100\n",
            "53/53 [==============================] - 0s 4ms/step - loss: 0.2779 - accuracy: 0.8208 - val_loss: 0.3103 - val_accuracy: 0.8190\n",
            "Epoch 87/100\n",
            "53/53 [==============================] - 0s 4ms/step - loss: 0.2777 - accuracy: 0.8202 - val_loss: 0.3087 - val_accuracy: 0.8167\n",
            "Epoch 88/100\n",
            "53/53 [==============================] - 0s 3ms/step - loss: 0.2778 - accuracy: 0.8208 - val_loss: 0.3099 - val_accuracy: 0.8167\n",
            "Epoch 89/100\n",
            "53/53 [==============================] - 0s 3ms/step - loss: 0.2764 - accuracy: 0.8315 - val_loss: 0.3149 - val_accuracy: 0.8095\n",
            "Epoch 90/100\n",
            "53/53 [==============================] - 0s 3ms/step - loss: 0.2777 - accuracy: 0.8274 - val_loss: 0.3094 - val_accuracy: 0.8119\n",
            "Epoch 91/100\n",
            "53/53 [==============================] - 0s 3ms/step - loss: 0.2771 - accuracy: 0.8256 - val_loss: 0.3109 - val_accuracy: 0.8167\n",
            "Epoch 92/100\n",
            "53/53 [==============================] - 0s 3ms/step - loss: 0.2769 - accuracy: 0.8250 - val_loss: 0.3109 - val_accuracy: 0.8190\n",
            "Epoch 93/100\n",
            "53/53 [==============================] - 0s 4ms/step - loss: 0.2768 - accuracy: 0.8262 - val_loss: 0.3096 - val_accuracy: 0.8167\n",
            "Epoch 94/100\n",
            "53/53 [==============================] - 0s 3ms/step - loss: 0.2769 - accuracy: 0.8232 - val_loss: 0.3101 - val_accuracy: 0.8143\n",
            "Epoch 95/100\n",
            "53/53 [==============================] - 0s 3ms/step - loss: 0.2767 - accuracy: 0.8262 - val_loss: 0.3105 - val_accuracy: 0.8190\n",
            "Epoch 96/100\n",
            "53/53 [==============================] - 0s 3ms/step - loss: 0.2764 - accuracy: 0.8250 - val_loss: 0.3093 - val_accuracy: 0.8214\n",
            "Epoch 97/100\n",
            "53/53 [==============================] - 0s 3ms/step - loss: 0.2758 - accuracy: 0.8298 - val_loss: 0.3088 - val_accuracy: 0.8143\n",
            "Epoch 98/100\n",
            "53/53 [==============================] - 0s 3ms/step - loss: 0.2758 - accuracy: 0.8244 - val_loss: 0.3099 - val_accuracy: 0.8262\n",
            "Epoch 99/100\n",
            "53/53 [==============================] - 0s 3ms/step - loss: 0.2758 - accuracy: 0.8268 - val_loss: 0.3108 - val_accuracy: 0.8214\n",
            "Epoch 100/100\n",
            "53/53 [==============================] - 0s 3ms/step - loss: 0.2757 - accuracy: 0.8256 - val_loss: 0.3114 - val_accuracy: 0.8190\n"
          ]
        }
      ]
    },
    {
      "cell_type": "code",
      "source": [
        "# # Tiempo de computo\n",
        "t1 = process_time()\n",
        "tc = t1-t0\n",
        "\n",
        "# # Mostrar tiempo de cómputo del entrenamiento del modelo de RNA\n",
        "print('El tiempo de cómputo con RNA fue: %.2f segundos' % tc)"
      ],
      "metadata": {
        "id": "ns4XH0KkryiK",
        "colab": {
          "base_uri": "https://localhost:8080/"
        },
        "outputId": "be62f8ed-42e6-4aa3-dd0f-aede199d7898"
      },
      "id": "ns4XH0KkryiK",
      "execution_count": 225,
      "outputs": [
        {
          "output_type": "stream",
          "name": "stdout",
          "text": [
            "El tiempo de cómputo con RNA fue: 21.91 segundos\n"
          ]
        }
      ]
    },
    {
      "cell_type": "markdown",
      "source": [
        "### Predicción"
      ],
      "metadata": {
        "id": "kt-1kPj1t2y_"
      },
      "id": "kt-1kPj1t2y_"
    },
    {
      "cell_type": "code",
      "source": [
        "X_pred = modelRNA.predict(X_test, batch_size = 32, verbose=1)\n",
        "y_pred = np.argmax(X_pred, axis=1)\n",
        "print(y_pred.shape)"
      ],
      "metadata": {
        "id": "s2V_K7x8t4LQ",
        "colab": {
          "base_uri": "https://localhost:8080/"
        },
        "outputId": "4bfb42b4-dd5a-427f-9efc-f25059c3cc11"
      },
      "id": "s2V_K7x8t4LQ",
      "execution_count": 226,
      "outputs": [
        {
          "output_type": "stream",
          "name": "stdout",
          "text": [
            "29/29 [==============================] - 0s 1ms/step\n",
            "(900,)\n"
          ]
        }
      ]
    },
    {
      "cell_type": "markdown",
      "source": [
        "## Evaluación del modelo entrenado"
      ],
      "metadata": {
        "id": "0Z0yUZ0dqgIz"
      },
      "id": "0Z0yUZ0dqgIz"
    },
    {
      "cell_type": "markdown",
      "source": [
        "### Gráficas de pérdida de entrenamiento y validación"
      ],
      "metadata": {
        "id": "NFH5y6qOqio9"
      },
      "id": "NFH5y6qOqio9"
    },
    {
      "cell_type": "code",
      "execution_count": 227,
      "id": "internal-hudson",
      "metadata": {
        "id": "internal-hudson",
        "colab": {
          "base_uri": "https://localhost:8080/",
          "height": 354
        },
        "outputId": "0dcecacc-05da-4fa6-c78f-1d52b91e6576"
      },
      "outputs": [
        {
          "output_type": "display_data",
          "data": {
            "text/plain": [
              "<Figure size 1600x500 with 2 Axes>"
            ],
            "image/png": "[encoded data removed]"
          },
          "metadata": {}
        }
      ],
      "source": [
        "# Gráficas de pérdidas en entrenamiento y validación\n",
        "loss = training_log.history['loss']\n",
        "val_loss = training_log.history['val_loss']\n",
        "epochs = range(1, len(val_loss) + 1)\n",
        "\n",
        "# Gráfica comparativa: pérdida en entrenamiento\n",
        "plt.figure(figsize=(16, 5))\n",
        "plt.subplot(1, 2, 1)\n",
        "plt.plot(epochs, loss, 'g*--', label=\"Perceptrón 5 capas\")\n",
        "plt.title('Pérdida en el entrenamiento arquitectura ARN')\n",
        "plt.xlabel('Épocas')\n",
        "plt.ylabel('Pérdida')\n",
        "plt.legend(loc=\"upper center\", fontsize=\"small\")\n",
        "plt.legend()\n",
        "plt.grid(True)\n",
        "\n",
        "# Gráfica comparativa: pérdida en validación\n",
        "plt.subplot(1, 2, 2)\n",
        "plt.plot(epochs, val_loss, 'b*--', label=\"Perceptrón 5 capas\")\n",
        "plt.title('Pérdida en la validación arquitectura ARN')\n",
        "plt.xlabel('Épocas')\n",
        "plt.ylabel('Pérdida')\n",
        "plt.legend(loc=\"upper center\", fontsize=\"small\")\n",
        "plt.legend()\n",
        "plt.grid(True)\n",
        "plt.show()"
      ]
    },
    {
      "cell_type": "markdown",
      "source": [
        "### Visualizar reporte del entrenamiento de la RNA"
      ],
      "metadata": {
        "id": "o_wQRzRnq3K8"
      },
      "id": "o_wQRzRnq3K8"
    },
    {
      "cell_type": "code",
      "execution_count": 228,
      "id": "reliable-resort",
      "metadata": {
        "id": "reliable-resort",
        "colab": {
          "base_uri": "https://localhost:8080/"
        },
        "outputId": "2e76d1ea-dc12-4539-ee1a-a51214865314"
      },
      "outputs": [
        {
          "output_type": "stream",
          "name": "stdout",
          "text": [
            "\n",
            "               precision    recall  f1-score   support\n",
            "\n",
            "           0      0.842     0.703     0.766       175\n",
            "           1      0.698     0.703     0.700       246\n",
            "           2      0.875     0.925     0.899       479\n",
            "\n",
            "    accuracy                          0.821       900\n",
            "   macro avg      0.805     0.777     0.789       900\n",
            "weighted avg      0.820     0.821     0.819       900\n",
            "\n"
          ]
        }
      ],
      "source": [
        "# Métricas de desempeño\n",
        "# Mostrar la precisión, recall, F1-score\n",
        "print(\"\\n\", classification_report(y_test, y_pred, digits=3))"
      ]
    },
    {
      "cell_type": "markdown",
      "source": [
        "### Visualizar matriz de confusión"
      ],
      "metadata": {
        "id": "7MPa73-zrCAr"
      },
      "id": "7MPa73-zrCAr"
    },
    {
      "cell_type": "code",
      "execution_count": 229,
      "id": "opened-quantity",
      "metadata": {
        "id": "opened-quantity",
        "colab": {
          "base_uri": "https://localhost:8080/",
          "height": 526
        },
        "outputId": "d452d552-26cc-42e2-dbb3-de8cf5aeb8ef"
      },
      "outputs": [
        {
          "output_type": "display_data",
          "data": {
            "text/plain": [
              "<Figure size 640x480 with 1 Axes>"
            ],
            "image/png": "[encoded data removed]"
          },
          "metadata": {}
        }
      ],
      "source": [
        "# Matriz de confusión\n",
        "# cm = metrics.confusion_matrix(Y_test.argmax(axis=1),\n",
        "#                               Y_pred.argmax(axis=1))\n",
        "cm = confusion_matrix(y_test, y_pred)\n",
        "plt.imshow(cm, interpolation='nearest', cmap=plt.cm.Wistia)\n",
        "classNames = ['RCV bajo','RCV latente', 'RCV alto']\n",
        "plt.title('Matriz de confusión modelo predictivo RCV')\n",
        "plt.ylabel('True label')\n",
        "plt.xlabel('Predicted label')\n",
        "tick_marks = np.arange(len(classNames))\n",
        "plt.xticks(tick_marks, classNames, rotation=45)\n",
        "plt.yticks(tick_marks, classNames)\n",
        "for i in range(3):\n",
        "    for j in range(3):\n",
        "        plt.text(j,i, str(cm[i][j]))"
      ]
    },
    {
      "cell_type": "markdown",
      "source": [
        "### Curva ROC\n"
      ],
      "metadata": {
        "id": "fI_T7Ud8Myl6"
      },
      "id": "fI_T7Ud8Myl6"
    },
    {
      "cell_type": "code",
      "source": [
        "# Curva ROC\n",
        "# #https://stackabuse.com/understanding-roc-curves-with-python/\n",
        "Y_pred = np_utils.to_categorical(y_pred)\n",
        "auc = roc_auc_score(Y_test, Y_pred)\n",
        "fpr, tpr, threshold = roc_curve(Y_test[:,0], Y_pred[:,0])\n",
        "font = {'family': 'serif',\n",
        "    'color':  'darkred',\n",
        "    'weight': 'normal',\n",
        "    'size': 16,\n",
        "    }\n",
        "plt.plot(fpr, tpr, color='green', label='ROC RCV bajo')\n",
        "plt.plot([0, 1], [0, 1], color='black', linestyle='--')\n",
        "plt.xlabel('Tasa de Falsos Positivos')\n",
        "plt.ylabel('Tasa de Verdaderos Postivos')\n",
        "plt.title('Curva ROC RNA')\n",
        "fpr, tpr, threshold = roc_curve(Y_test[:,1], Y_pred[:,1])\n",
        "plt.plot(fpr, tpr, color='darkblue', label='ROC RCV latente')\n",
        "fpr, tpr, threshold = roc_curve(Y_test[:,2], Y_pred[:,2])\n",
        "plt.plot(fpr, tpr, color='orange', label='ROC RCV alto')\n",
        "plt.text(0.7, 0.55, 'AUC: %.2f' % auc, fontdict=font)\n",
        "plt.legend()\n",
        "plt.show()"
      ],
      "metadata": {
        "id": "HysJdDp7M01I",
        "colab": {
          "base_uri": "https://localhost:8080/",
          "height": 472
        },
        "outputId": "1d8f91b0-4e98-485d-a404-6470f2006f2b"
      },
      "id": "HysJdDp7M01I",
      "execution_count": 230,
      "outputs": [
        {
          "output_type": "display_data",
          "data": {
            "text/plain": [
              "<Figure size 640x480 with 1 Axes>"
            ],
            "image/png": "[encoded data removed]"
          },
          "metadata": {}
        }
      ]
    },
    {
      "cell_type": "code",
      "execution_count": 231,
      "id": "substantial-killer",
      "metadata": {
        "id": "substantial-killer"
      },
      "outputs": [],
      "source": [
        "#Guardar modelo\n",
        "# import pickle\n",
        "# pickle.dump(modelRNA, open('RNA_RCV_01.pkl', 'wb'))\n",
        "\n",
        "# #Cargar modelo almacenado\n",
        "# model = pickle.load(open('RNA_RCV_01.pkl', 'rb'))\n",
        "# result_val = model.score(X_valid, y_valid)\n",
        "# result_test = model.score(X_test, y_test)\n",
        "# print(result_val)\n",
        "# print(result_test)"
      ]
    },
    {
      "cell_type": "markdown",
      "id": "acceptable-knowing",
      "metadata": {
        "id": "acceptable-knowing"
      },
      "source": [
        "## Conclusiones\n"
      ]
    }
  ],
  "metadata": {
    "kernelspec": {
      "display_name": "Python (bertgpu)",
      "language": "python",
      "name": "bertgpu"
    },
    "language_info": {
      "codemirror_mode": {
        "name": "ipython",
        "version": 3
      },
      "file_extension": ".py",
      "mimetype": "text/x-python",
      "name": "python",
      "nbconvert_exporter": "python",
      "pygments_lexer": "ipython3",
      "version": "3.7.10"
    },
    "colab": {
      "provenance": [],
      "include_colab_link": true
    }
  },
  "nbformat": 4,
  "nbformat_minor": 5
}