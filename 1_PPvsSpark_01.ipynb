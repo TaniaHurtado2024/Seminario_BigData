{
  "cells": [
    {
      "cell_type": "markdown",
      "metadata": {
        "id": "view-in-github",
        "colab_type": "text"
      },
      "source": [
        "<a href=\"https://colab.research.google.com/github/TaniaHurtado2024/Seminario_BigData/blob/main/1_PPvsSpark_01.ipynb\" target=\"_parent\"><img src=\"https://colab.research.google.com/assets/colab-badge.svg\" alt=\"Open In Colab\"/></a>"
      ]
    },
    {
      "cell_type": "markdown",
      "metadata": {
        "id": "eaWuPCeSCMrE"
      },
      "source": [
        "# Pandas vs Polars vs Spark vs Dask\n",
        "\n",
        "Inspired in: https://www.youtube.com/watch?v=mi9f9zOaqM8\n",
        "\n",
        "Original data: Kaggle\n",
        "\n",
        "This jupyter notebook is designed to study and compare different tools to read and manipulate data; to be used in the data undertanding phase. The corresponding explanations will be given directly in class, therefore the material isn't autoexplained. Don´t forget ask me for the access to the data. And, please, give credits to the original author's idea and, if consider, also to me.\n",
        "\n",
        "_Updated: June 20th, 2023_"
      ]
    },
    {
      "cell_type": "code",
      "execution_count": 1,
      "metadata": {
        "colab": {
          "base_uri": "https://localhost:8080/"
        },
        "id": "gHGdXnH8TyYb",
        "outputId": "bd534309-0f4c-4dc9-a465-7dcb1865f4be"
      },
      "outputs": [
        {
          "output_type": "stream",
          "name": "stdout",
          "text": [
            "Mounted at /content/drive\n"
          ]
        }
      ],
      "source": [
        "from google.colab import drive\n",
        "drive.mount('/content/drive')"
      ]
    },
    {
      "cell_type": "markdown",
      "metadata": {
        "id": "ATWWYNueQGse"
      },
      "source": [
        "## Playing with pandas"
      ]
    },
    {
      "cell_type": "code",
      "execution_count": null,
      "metadata": {
        "id": "602OX1c4QGau"
      },
      "outputs": [],
      "source": [
        "import pandas as pd\n",
        "flights_file1 = \"/content/drive/MyDrive/Data_Flights/Combined_Flights_2018.parquet\"\n",
        "flights_file2 = \"/content/drive/MyDrive/Data_Flights/Combined_Flights_2019.parquet\"\n",
        "#flights_file3 = \"/content/drive/MyDrive/Data_Flights/Combined_Flights_2020.parquet\"\n",
        "flights_file4 = \"/content/drive/MyDrive/Data_Flights/Combined_Flights_2021.parquet\"\n",
        "#flights_file5 = \"/content/drive/MyDrive/Data_Flights/Combined_Flights_2022.parquet\"\n",
        "df1 = pd.read_parquet(flights_file1)\n",
        "df2 = pd.read_parquet(flights_file2)\n",
        "#df3 = pd.read_parquet(flights_file3)\n",
        "df4 = pd.read_parquet(flights_file4)\n",
        "#df5 = pd.read_parquet(flights_file5)"
      ]
    },
    {
      "cell_type": "code",
      "execution_count": null,
      "metadata": {
        "id": "u2jGy-fGWxBj"
      },
      "outputs": [],
      "source": [
        "df = pd.concat([df1, df2, df4])\n",
        "#df = df1"
      ]
    },
    {
      "cell_type": "code",
      "execution_count": null,
      "metadata": {
        "id": "ZaJZYO4rQWmn"
      },
      "outputs": [],
      "source": [
        "%%timeit\n",
        "\n",
        "df_agg = df.groupby(['Airline','Year'])[[\"DepDelayMinutes\", \"ArrDelayMinutes\"]].agg(\n",
        "    [\"mean\", \"sum\", \"max\"]\n",
        ")\n",
        "df_agg = df_agg.reset_index()\n",
        "df_agg.to_parquet(\"temp_pandas.parquet\")"
      ]
    },
    {
      "cell_type": "code",
      "execution_count": null,
      "metadata": {
        "id": "AyVTxkpsRx5n"
      },
      "outputs": [],
      "source": [
        "!ls -GFlash temp_pandas.parquet"
      ]
    },
    {
      "cell_type": "code",
      "execution_count": null,
      "metadata": {
        "id": "wQfxFHKkRUjt"
      },
      "outputs": [],
      "source": [
        "pd.read_parquet('temp_pandas.parquet')"
      ]
    },
    {
      "cell_type": "code",
      "source": [
        "pd.read_parquet('temp_pandas.parquet').info()"
      ],
      "metadata": {
        "id": "N-HI3Ir2Ovad"
      },
      "execution_count": null,
      "outputs": []
    },
    {
      "cell_type": "markdown",
      "metadata": {
        "id": "HE9EI1NLBLtT"
      },
      "source": [
        "## Playing with Polars"
      ]
    },
    {
      "cell_type": "code",
      "execution_count": 1,
      "metadata": {
        "id": "o-ICGOARBMWp"
      },
      "outputs": [],
      "source": [
        "import polars as pl"
      ]
    },
    {
      "cell_type": "code",
      "execution_count": 2,
      "metadata": {
        "id": "8QiIC2snMFgY"
      },
      "outputs": [],
      "source": [
        "flights_file1 = \"/content/drive/MyDrive/Data_Flights/Combined_Flights_2018.parquet\"\n",
        "flights_file2 = \"/content/drive/MyDrive/Data_Flights/Combined_Flights_2019.parquet\"\n",
        "#flights_file3 = \"/content/drive/MyDrive/Data_Flights/Combined_Flights_2020.parquet\"\n",
        "flights_file4 = \"/content/drive/MyDrive/Data_Flights/Combined_Flights_2021.parquet\"\n",
        "#flights_file5 = \"/content/drive/MyDrive/Data_Flights/Combined_Flights_2022.parquet\"\n",
        "df1 = pl.scan_parquet(flights_file1)\n",
        "df2 = pl.scan_parquet(flights_file2)\n",
        "#df3 = pl.scan_parquet(flights_file3)\n",
        "df4 = pl.scan_parquet(flights_file4)\n",
        "#df5 = pl.scan_parquet(flights_file5)"
      ]
    },
    {
      "cell_type": "code",
      "execution_count": 3,
      "metadata": {
        "colab": {
          "base_uri": "https://localhost:8080/"
        },
        "id": "szmAqqA9oriG",
        "outputId": "506500e0-9e57-4ae2-f0c1-e1c22cbb30d8"
      },
      "outputs": [
        {
          "output_type": "stream",
          "name": "stderr",
          "text": [
            "<magic-timeit>:3: DeprecationWarning: `groupby` is deprecated. It has been renamed to `group_by`.\n"
          ]
        },
        {
          "output_type": "stream",
          "name": "stdout",
          "text": [
            "6.86 s ± 979 ms per loop (mean ± std. dev. of 7 runs, 1 loop each)\n"
          ]
        }
      ],
      "source": [
        " %%timeit\n",
        "\n",
        "df_polars = (\n",
        "    pl.concat([df1, df2, df4])\n",
        "    .groupby(['Airline', 'Year'])\n",
        "    .agg([\n",
        "        pl.col(\"DepDelayMinutes\").mean().alias(\"avg_dep_delay\"),\n",
        "        pl.col(\"DepDelayMinutes\").sum().alias(\"sum_dep_delay\"),\n",
        "        pl.col(\"DepDelayMinutes\").max().alias(\"max_dep_delay\"),\n",
        "        pl.col(\"ArrDelayMinutes\").mean().alias(\"avg_arr_delay\"),\n",
        "        pl.col(\"ArrDelayMinutes\").sum().alias(\"sum_arr_delay\"),\n",
        "        pl.col(\"ArrDelayMinutes\").max().alias(\"max_arr_delay\"),\n",
        "      ])\n",
        ").collect()\n",
        "\n",
        "df_polars.write_parquet('temp_polars.parquet')"
      ]
    },
    {
      "cell_type": "code",
      "execution_count": 4,
      "metadata": {
        "colab": {
          "base_uri": "https://localhost:8080/"
        },
        "id": "ILHEl0a7LrFK",
        "outputId": "cfa100dc-f569-417c-e602-da12b41f8cc6"
      },
      "outputs": [
        {
          "output_type": "stream",
          "name": "stdout",
          "text": [
            "8.0K -rw-r--r-- 1 root 6.5K Jul 17 01:36 temp_polars.parquet\n"
          ]
        }
      ],
      "source": [
        "!ls -GFlash temp_polars.parquet"
      ]
    },
    {
      "cell_type": "markdown",
      "metadata": {
        "id": "q18Ab20QtZuk"
      },
      "source": [
        "## Playing with PySpark"
      ]
    },
    {
      "cell_type": "code",
      "execution_count": 2,
      "metadata": {
        "id": "YGZSQ1f7CuIk",
        "colab": {
          "base_uri": "https://localhost:8080/"
        },
        "outputId": "7cd00ce1-9ada-404a-a8e2-1ad24499e1d6"
      },
      "outputs": [
        {
          "output_type": "stream",
          "name": "stdout",
          "text": [
            "Collecting pyspark\n",
            "  Downloading pyspark-3.5.1.tar.gz (317.0 MB)\n",
            "\u001b[2K     \u001b[90m━━━━━━━━━━━━━━━━━━━━━━━━━━━━━━━━━━━━━━━━\u001b[0m \u001b[32m317.0/317.0 MB\u001b[0m \u001b[31m2.8 MB/s\u001b[0m eta \u001b[36m0:00:00\u001b[0m\n",
            "\u001b[?25h  Preparing metadata (setup.py) ... \u001b[?25l\u001b[?25hdone\n",
            "Requirement already satisfied: py4j==0.10.9.7 in /usr/local/lib/python3.10/dist-packages (from pyspark) (0.10.9.7)\n",
            "Building wheels for collected packages: pyspark\n",
            "  Building wheel for pyspark (setup.py) ... \u001b[?25l\u001b[?25hdone\n",
            "  Created wheel for pyspark: filename=pyspark-3.5.1-py2.py3-none-any.whl size=317488491 sha256=d4b70109f34e85f7f1847203118dbbd381a9f30c8559cb6b5dafe86fb2f8f6fa\n",
            "  Stored in directory: /root/.cache/pip/wheels/80/1d/60/2c256ed38dddce2fdd93be545214a63e02fbd8d74fb0b7f3a6\n",
            "Successfully built pyspark\n",
            "Installing collected packages: pyspark\n",
            "Successfully installed pyspark-3.5.1\n"
          ]
        }
      ],
      "source": [
        "!pip install pyspark"
      ]
    },
    {
      "cell_type": "code",
      "execution_count": 3,
      "metadata": {
        "id": "Nj7EkKhiqCx5"
      },
      "outputs": [],
      "source": [
        "from pyspark.sql import SparkSession\n",
        "from pyspark.sql.functions import avg, max, sum, concat"
      ]
    },
    {
      "cell_type": "code",
      "execution_count": 4,
      "metadata": {
        "id": "Bt7X5e0RtXwL"
      },
      "outputs": [],
      "source": [
        "spark = SparkSession.builder.master(\"local[1]\").appName(\"airline-example\").getOrCreate()"
      ]
    },
    {
      "cell_type": "code",
      "execution_count": 5,
      "metadata": {
        "id": "zDVr-FSK0NDz"
      },
      "outputs": [],
      "source": [
        "flights_file1 = \"/content/drive/MyDrive/Data_Flights/Combined_Flights_2018.parquet\"\n",
        "flights_file2 = \"/content/drive/MyDrive/Data_Flights/Combined_Flights_2019.parquet\"\n",
        "#flights_file3 = \"/content/drive/MyDrive/Data_Flights/Combined_Flights_2020.parquet\"\n",
        "flights_file4 = \"/content/drive/MyDrive/Data_Flights/Combined_Flights_2021.parquet\"\n",
        "#flights_file5 = \"/content/drive/MyDrive/Data_Flights/Combined_Flights_2022.parquet\""
      ]
    },
    {
      "cell_type": "code",
      "execution_count": 6,
      "metadata": {
        "id": "pyOR3XRj78kl"
      },
      "outputs": [],
      "source": [
        "df_spark1 = spark.read.parquet(flights_file1)\n",
        "df_spark2 = spark.read.parquet(flights_file2)\n",
        "#df_spark3 = spark.read.parquet(flights_file3)\n",
        "df_spark4 = spark.read.parquet(flights_file4)\n",
        "#df_spark5 = spark.read.parquet(flights_file5)"
      ]
    },
    {
      "cell_type": "code",
      "execution_count": 7,
      "metadata": {
        "id": "csm8vFBq8GJ1"
      },
      "outputs": [],
      "source": [
        "df_spark = df_spark1.union(df_spark2)\n",
        "#df_spark = df_spark.union(df_spark3)\n",
        "df_spark = df_spark.union(df_spark4)\n",
        "#df_spark = df_spark.union(df_spark5)"
      ]
    },
    {
      "cell_type": "code",
      "execution_count": 8,
      "metadata": {
        "id": "sjzLE2Ek4VX0",
        "colab": {
          "base_uri": "https://localhost:8080/"
        },
        "outputId": "f03756e6-70cd-442c-eeaf-9a0df8699e92"
      },
      "outputs": [
        {
          "output_type": "stream",
          "name": "stdout",
          "text": [
            "7.34 s ± 1.35 s per loop (mean ± std. dev. of 7 runs, 1 loop each)\n"
          ]
        }
      ],
      "source": [
        " %%timeit\n",
        "\n",
        "df_spark_agg = df_spark.groupby(\"Airline\", \"Year\").agg(\n",
        "    avg(\"ArrDelayMinutes\").alias('avg_arr_delay'),\n",
        "    sum(\"ArrDelayMinutes\").alias('sum_arr_delay'),\n",
        "    max(\"ArrDelayMinutes\").alias('max_arr_delay'),\n",
        "    avg(\"DepDelayMinutes\").alias('avg_dep_delay'),\n",
        "    sum(\"DepDelayMinutes\").alias('sum_dep_delay'),\n",
        "    max(\"DepDelayMinutes\").alias('max_dep_delay'),\n",
        ")\n",
        "df_spark_agg.write.mode('overwrite').parquet('temp_spark.parquet')"
      ]
    },
    {
      "cell_type": "code",
      "execution_count": 9,
      "metadata": {
        "id": "XPPoeSYZ_d9A",
        "colab": {
          "base_uri": "https://localhost:8080/"
        },
        "outputId": "c33d14a8-d2e6-4c1b-c8d1-6180a30db654"
      },
      "outputs": [
        {
          "output_type": "stream",
          "name": "stdout",
          "text": [
            "ls: cannot access 'temp_pyspark.parquet': No such file or directory\n"
          ]
        }
      ],
      "source": [
        "!ls -GFlash temp_pyspark.parquet"
      ]
    },
    {
      "cell_type": "markdown",
      "metadata": {
        "id": "zOsqlhgZa4ym"
      },
      "source": [
        "## Playing with dask"
      ]
    },
    {
      "cell_type": "code",
      "execution_count": 1,
      "metadata": {
        "id": "b0Jo8Yv3a-at"
      },
      "outputs": [],
      "source": [
        "import pandas as pd\n",
        "import dask.dataframe as dd\n",
        "flights_file1 = \"/content/drive/MyDrive/Data_Flights/Combined_Flights_2018.parquet\"\n",
        "flights_file2 = \"/content/drive/MyDrive/Data_Flights/Combined_Flights_2019.parquet\"\n",
        "#flights_file3 = \"/content/drive/MyDrive/Data_Flights/Combined_Flights_2020.parquet\"\n",
        "flights_file4 = \"/content/drive/MyDrive/Data_Flights/Combined_Flights_2021.parquet\"\n",
        "#flights_file5 = \"/content/drive/MyDrive/Data_Flights/Combined_Flights_2022.parquet\"\n",
        "df1 = dd.read_parquet(flights_file1)\n",
        "df2 = dd.read_parquet(flights_file2)\n",
        "#df3 = dd.read_parquet(flights_file3)\n",
        "df4 = dd.read_parquet(flights_file4)\n",
        "#df5 = dd.read_parquet(flights_file5)"
      ]
    },
    {
      "cell_type": "code",
      "execution_count": 2,
      "metadata": {
        "id": "xO9JqZWPbMXU"
      },
      "outputs": [],
      "source": [
        "df = dd.concat([df1,df2,df4])"
      ]
    },
    {
      "cell_type": "code",
      "execution_count": null,
      "metadata": {
        "id": "GId3fTGsbcwd"
      },
      "outputs": [],
      "source": [
        "print(df.compute())"
      ]
    },
    {
      "cell_type": "code",
      "execution_count": null,
      "metadata": {
        "id": "ush5yY-cfdNh"
      },
      "outputs": [],
      "source": [
        "df = df.compute()"
      ]
    },
    {
      "cell_type": "code",
      "execution_count": null,
      "metadata": {
        "id": "mQ0sNsonboJ3"
      },
      "outputs": [],
      "source": [
        "%%timeit\n",
        "\n",
        "df_agg = df.groupby(['Airline','Year'])[[\"DepDelayMinutes\", \"ArrDelayMinutes\"]].agg(\n",
        "    [\"mean\", \"sum\", \"max\"]\n",
        ")\n",
        "df_agg = df_agg.reset_index()\n",
        "df_agg.to_parquet(\"temp_dask.parquet\")"
      ]
    },
    {
      "cell_type": "code",
      "execution_count": null,
      "metadata": {
        "id": "nuUMEqtlfvNQ"
      },
      "outputs": [],
      "source": [
        "!ls -GFlash temp_dask.parquet"
      ]
    },
    {
      "cell_type": "code",
      "execution_count": null,
      "metadata": {
        "id": "9oQc1A7kf2n3"
      },
      "outputs": [],
      "source": [
        "pd.read_parquet('temp_dask.parquet').info()"
      ]
    },
    {
      "cell_type": "code",
      "source": [
        "pd.read_parquet('temp_dask.parquet')"
      ],
      "metadata": {
        "id": "fsZQ_0czOB8H"
      },
      "execution_count": null,
      "outputs": []
    },
    {
      "cell_type": "markdown",
      "metadata": {
        "id": "a9sBWLJoAl8G"
      },
      "source": [
        "## Read Results"
      ]
    },
    {
      "cell_type": "code",
      "execution_count": null,
      "metadata": {
        "id": "wJ9t6MyjAkeH"
      },
      "outputs": [],
      "source": [
        "import pandas as pd"
      ]
    },
    {
      "cell_type": "code",
      "execution_count": null,
      "metadata": {
        "id": "QO-xgM-AAt_C"
      },
      "outputs": [],
      "source": [
        "#agg_pandas = pd.read_parquet('temp_pandas.parquet')\n",
        "agg_polars = pd.read_parquet('temp_polars.parquet')\n",
        "agg_spark = pd.read_parquet('temp_spark.parquet')\n",
        "agg_dask = pd.read_parquet('temp_dask.parquet')"
      ]
    },
    {
      "cell_type": "code",
      "source": [
        "#agg_pandas.shape, agg_polars.shape, agg_spark.shape, agg_dask.shape"
      ],
      "metadata": {
        "id": "2EvukOhTP1Gd"
      },
      "execution_count": null,
      "outputs": []
    },
    {
      "cell_type": "code",
      "source": [
        "#agg_pandas.sort_values(['Airline','Year']).head()"
      ],
      "metadata": {
        "id": "gKRlZewAUTdV"
      },
      "execution_count": null,
      "outputs": []
    },
    {
      "cell_type": "code",
      "source": [
        "agg_polars.sort_values(['Airline','Year']).head()"
      ],
      "metadata": {
        "colab": {
          "base_uri": "https://localhost:8080/",
          "height": 206
        },
        "id": "FGnPt7H9UoFP",
        "outputId": "87b3b3e7-4a65-473a-ac22-42a9b36291d8"
      },
      "execution_count": null,
      "outputs": [
        {
          "output_type": "execute_result",
          "data": {
            "text/plain": [
              "                         Airline  Year  avg_dep_delay  sum_dep_delay  \\\n",
              "5    Air Wisconsin Airlines Corp  2018      16.753459      1606774.0   \n",
              "97   Air Wisconsin Airlines Corp  2019      16.868511      1742281.0   \n",
              "51   Air Wisconsin Airlines Corp  2020       8.583725       433315.0   \n",
              "49   Air Wisconsin Airlines Corp  2021      16.553045      1290194.0   \n",
              "106  Air Wisconsin Airlines Corp  2022      13.124801       510581.0   \n",
              "\n",
              "     max_dep_delay  avg_arr_delay  sum_arr_delay  max_arr_delay  \n",
              "5           1296.0      17.881934      1708887.0         1292.0  \n",
              "97          1690.0      17.610384      1811545.0         1707.0  \n",
              "51          1460.0       8.982529       452450.0         1439.0  \n",
              "49          1421.0      17.327440      1346602.0         1416.0  \n",
              "106         1355.0      13.340409       517261.0         1353.0  "
            ],
            "text/html": [
              "\n",
              "  <div id=\"df-de468123-20bd-4ddd-b5de-c6e563f13e9e\" class=\"colab-df-container\">\n",
              "    <div>\n",
              "<style scoped>\n",
              "    .dataframe tbody tr th:only-of-type {\n",
              "        vertical-align: middle;\n",
              "    }\n",
              "\n",
              "    .dataframe tbody tr th {\n",
              "        vertical-align: top;\n",
              "    }\n",
              "\n",
              "    .dataframe thead th {\n",
              "        text-align: right;\n",
              "    }\n",
              "</style>\n",
              "<table border=\"1\" class=\"dataframe\">\n",
              "  <thead>\n",
              "    <tr style=\"text-align: right;\">\n",
              "      <th></th>\n",
              "      <th>Airline</th>\n",
              "      <th>Year</th>\n",
              "      <th>avg_dep_delay</th>\n",
              "      <th>sum_dep_delay</th>\n",
              "      <th>max_dep_delay</th>\n",
              "      <th>avg_arr_delay</th>\n",
              "      <th>sum_arr_delay</th>\n",
              "      <th>max_arr_delay</th>\n",
              "    </tr>\n",
              "  </thead>\n",
              "  <tbody>\n",
              "    <tr>\n",
              "      <th>5</th>\n",
              "      <td>Air Wisconsin Airlines Corp</td>\n",
              "      <td>2018</td>\n",
              "      <td>16.753459</td>\n",
              "      <td>1606774.0</td>\n",
              "      <td>1296.0</td>\n",
              "      <td>17.881934</td>\n",
              "      <td>1708887.0</td>\n",
              "      <td>1292.0</td>\n",
              "    </tr>\n",
              "    <tr>\n",
              "      <th>97</th>\n",
              "      <td>Air Wisconsin Airlines Corp</td>\n",
              "      <td>2019</td>\n",
              "      <td>16.868511</td>\n",
              "      <td>1742281.0</td>\n",
              "      <td>1690.0</td>\n",
              "      <td>17.610384</td>\n",
              "      <td>1811545.0</td>\n",
              "      <td>1707.0</td>\n",
              "    </tr>\n",
              "    <tr>\n",
              "      <th>51</th>\n",
              "      <td>Air Wisconsin Airlines Corp</td>\n",
              "      <td>2020</td>\n",
              "      <td>8.583725</td>\n",
              "      <td>433315.0</td>\n",
              "      <td>1460.0</td>\n",
              "      <td>8.982529</td>\n",
              "      <td>452450.0</td>\n",
              "      <td>1439.0</td>\n",
              "    </tr>\n",
              "    <tr>\n",
              "      <th>49</th>\n",
              "      <td>Air Wisconsin Airlines Corp</td>\n",
              "      <td>2021</td>\n",
              "      <td>16.553045</td>\n",
              "      <td>1290194.0</td>\n",
              "      <td>1421.0</td>\n",
              "      <td>17.327440</td>\n",
              "      <td>1346602.0</td>\n",
              "      <td>1416.0</td>\n",
              "    </tr>\n",
              "    <tr>\n",
              "      <th>106</th>\n",
              "      <td>Air Wisconsin Airlines Corp</td>\n",
              "      <td>2022</td>\n",
              "      <td>13.124801</td>\n",
              "      <td>510581.0</td>\n",
              "      <td>1355.0</td>\n",
              "      <td>13.340409</td>\n",
              "      <td>517261.0</td>\n",
              "      <td>1353.0</td>\n",
              "    </tr>\n",
              "  </tbody>\n",
              "</table>\n",
              "</div>\n",
              "    <div class=\"colab-df-buttons\">\n",
              "\n",
              "  <div class=\"colab-df-container\">\n",
              "    <button class=\"colab-df-convert\" onclick=\"convertToInteractive('df-de468123-20bd-4ddd-b5de-c6e563f13e9e')\"\n",
              "            title=\"Convert this dataframe to an interactive table.\"\n",
              "            style=\"display:none;\">\n",
              "\n",
              "  <svg xmlns=\"http://www.w3.org/2000/svg\" height=\"24px\" viewBox=\"0 -960 960 960\">\n",
              "    <path d=\"M120-120v-720h720v720H120Zm60-500h600v-160H180v160Zm220 220h160v-160H400v160Zm0 220h160v-160H400v160ZM180-400h160v-160H180v160Zm440 0h160v-160H620v160ZM180-180h160v-160H180v160Zm440 0h160v-160H620v160Z\"/>\n",
              "  </svg>\n",
              "    </button>\n",
              "\n",
              "  <style>\n",
              "    .colab-df-container {\n",
              "      display:flex;\n",
              "      gap: 12px;\n",
              "    }\n",
              "\n",
              "    .colab-df-convert {\n",
              "      background-color: #E8F0FE;\n",
              "      border: none;\n",
              "      border-radius: 50%;\n",
              "      cursor: pointer;\n",
              "      display: none;\n",
              "      fill: #1967D2;\n",
              "      height: 32px;\n",
              "      padding: 0 0 0 0;\n",
              "      width: 32px;\n",
              "    }\n",
              "\n",
              "    .colab-df-convert:hover {\n",
              "      background-color: #E2EBFA;\n",
              "      box-shadow: 0px 1px 2px rgba(60, 64, 67, 0.3), 0px 1px 3px 1px rgba(60, 64, 67, 0.15);\n",
              "      fill: #174EA6;\n",
              "    }\n",
              "\n",
              "    .colab-df-buttons div {\n",
              "      margin-bottom: 4px;\n",
              "    }\n",
              "\n",
              "    [theme=dark] .colab-df-convert {\n",
              "      background-color: #3B4455;\n",
              "      fill: #D2E3FC;\n",
              "    }\n",
              "\n",
              "    [theme=dark] .colab-df-convert:hover {\n",
              "      background-color: #434B5C;\n",
              "      box-shadow: 0px 1px 3px 1px rgba(0, 0, 0, 0.15);\n",
              "      filter: drop-shadow(0px 1px 2px rgba(0, 0, 0, 0.3));\n",
              "      fill: #FFFFFF;\n",
              "    }\n",
              "  </style>\n",
              "\n",
              "    <script>\n",
              "      const buttonEl =\n",
              "        document.querySelector('#df-de468123-20bd-4ddd-b5de-c6e563f13e9e button.colab-df-convert');\n",
              "      buttonEl.style.display =\n",
              "        google.colab.kernel.accessAllowed ? 'block' : 'none';\n",
              "\n",
              "      async function convertToInteractive(key) {\n",
              "        const element = document.querySelector('#df-de468123-20bd-4ddd-b5de-c6e563f13e9e');\n",
              "        const dataTable =\n",
              "          await google.colab.kernel.invokeFunction('convertToInteractive',\n",
              "                                                    [key], {});\n",
              "        if (!dataTable) return;\n",
              "\n",
              "        const docLinkHtml = 'Like what you see? Visit the ' +\n",
              "          '<a target=\"_blank\" href=https://colab.research.google.com/notebooks/data_table.ipynb>data table notebook</a>'\n",
              "          + ' to learn more about interactive tables.';\n",
              "        element.innerHTML = '';\n",
              "        dataTable['output_type'] = 'display_data';\n",
              "        await google.colab.output.renderOutput(dataTable, element);\n",
              "        const docLink = document.createElement('div');\n",
              "        docLink.innerHTML = docLinkHtml;\n",
              "        element.appendChild(docLink);\n",
              "      }\n",
              "    </script>\n",
              "  </div>\n",
              "\n",
              "\n",
              "<div id=\"df-b170c7d2-c81c-405d-bff2-419c54679471\">\n",
              "  <button class=\"colab-df-quickchart\" onclick=\"quickchart('df-b170c7d2-c81c-405d-bff2-419c54679471')\"\n",
              "            title=\"Suggest charts\"\n",
              "            style=\"display:none;\">\n",
              "\n",
              "<svg xmlns=\"http://www.w3.org/2000/svg\" height=\"24px\"viewBox=\"0 0 24 24\"\n",
              "     width=\"24px\">\n",
              "    <g>\n",
              "        <path d=\"M19 3H5c-1.1 0-2 .9-2 2v14c0 1.1.9 2 2 2h14c1.1 0 2-.9 2-2V5c0-1.1-.9-2-2-2zM9 17H7v-7h2v7zm4 0h-2V7h2v10zm4 0h-2v-4h2v4z\"/>\n",
              "    </g>\n",
              "</svg>\n",
              "  </button>\n",
              "\n",
              "<style>\n",
              "  .colab-df-quickchart {\n",
              "      --bg-color: #E8F0FE;\n",
              "      --fill-color: #1967D2;\n",
              "      --hover-bg-color: #E2EBFA;\n",
              "      --hover-fill-color: #174EA6;\n",
              "      --disabled-fill-color: #AAA;\n",
              "      --disabled-bg-color: #DDD;\n",
              "  }\n",
              "\n",
              "  [theme=dark] .colab-df-quickchart {\n",
              "      --bg-color: #3B4455;\n",
              "      --fill-color: #D2E3FC;\n",
              "      --hover-bg-color: #434B5C;\n",
              "      --hover-fill-color: #FFFFFF;\n",
              "      --disabled-bg-color: #3B4455;\n",
              "      --disabled-fill-color: #666;\n",
              "  }\n",
              "\n",
              "  .colab-df-quickchart {\n",
              "    background-color: var(--bg-color);\n",
              "    border: none;\n",
              "    border-radius: 50%;\n",
              "    cursor: pointer;\n",
              "    display: none;\n",
              "    fill: var(--fill-color);\n",
              "    height: 32px;\n",
              "    padding: 0;\n",
              "    width: 32px;\n",
              "  }\n",
              "\n",
              "  .colab-df-quickchart:hover {\n",
              "    background-color: var(--hover-bg-color);\n",
              "    box-shadow: 0 1px 2px rgba(60, 64, 67, 0.3), 0 1px 3px 1px rgba(60, 64, 67, 0.15);\n",
              "    fill: var(--button-hover-fill-color);\n",
              "  }\n",
              "\n",
              "  .colab-df-quickchart-complete:disabled,\n",
              "  .colab-df-quickchart-complete:disabled:hover {\n",
              "    background-color: var(--disabled-bg-color);\n",
              "    fill: var(--disabled-fill-color);\n",
              "    box-shadow: none;\n",
              "  }\n",
              "\n",
              "  .colab-df-spinner {\n",
              "    border: 2px solid var(--fill-color);\n",
              "    border-color: transparent;\n",
              "    border-bottom-color: var(--fill-color);\n",
              "    animation:\n",
              "      spin 1s steps(1) infinite;\n",
              "  }\n",
              "\n",
              "  @keyframes spin {\n",
              "    0% {\n",
              "      border-color: transparent;\n",
              "      border-bottom-color: var(--fill-color);\n",
              "      border-left-color: var(--fill-color);\n",
              "    }\n",
              "    20% {\n",
              "      border-color: transparent;\n",
              "      border-left-color: var(--fill-color);\n",
              "      border-top-color: var(--fill-color);\n",
              "    }\n",
              "    30% {\n",
              "      border-color: transparent;\n",
              "      border-left-color: var(--fill-color);\n",
              "      border-top-color: var(--fill-color);\n",
              "      border-right-color: var(--fill-color);\n",
              "    }\n",
              "    40% {\n",
              "      border-color: transparent;\n",
              "      border-right-color: var(--fill-color);\n",
              "      border-top-color: var(--fill-color);\n",
              "    }\n",
              "    60% {\n",
              "      border-color: transparent;\n",
              "      border-right-color: var(--fill-color);\n",
              "    }\n",
              "    80% {\n",
              "      border-color: transparent;\n",
              "      border-right-color: var(--fill-color);\n",
              "      border-bottom-color: var(--fill-color);\n",
              "    }\n",
              "    90% {\n",
              "      border-color: transparent;\n",
              "      border-bottom-color: var(--fill-color);\n",
              "    }\n",
              "  }\n",
              "</style>\n",
              "\n",
              "  <script>\n",
              "    async function quickchart(key) {\n",
              "      const quickchartButtonEl =\n",
              "        document.querySelector('#' + key + ' button');\n",
              "      quickchartButtonEl.disabled = true;  // To prevent multiple clicks.\n",
              "      quickchartButtonEl.classList.add('colab-df-spinner');\n",
              "      try {\n",
              "        const charts = await google.colab.kernel.invokeFunction(\n",
              "            'suggestCharts', [key], {});\n",
              "      } catch (error) {\n",
              "        console.error('Error during call to suggestCharts:', error);\n",
              "      }\n",
              "      quickchartButtonEl.classList.remove('colab-df-spinner');\n",
              "      quickchartButtonEl.classList.add('colab-df-quickchart-complete');\n",
              "    }\n",
              "    (() => {\n",
              "      let quickchartButtonEl =\n",
              "        document.querySelector('#df-b170c7d2-c81c-405d-bff2-419c54679471 button');\n",
              "      quickchartButtonEl.style.display =\n",
              "        google.colab.kernel.accessAllowed ? 'block' : 'none';\n",
              "    })();\n",
              "  </script>\n",
              "</div>\n",
              "\n",
              "    </div>\n",
              "  </div>\n"
            ],
            "application/vnd.google.colaboratory.intrinsic+json": {
              "type": "dataframe",
              "summary": "{\n  \"name\": \"agg_polars\",\n  \"rows\": 5,\n  \"fields\": [\n    {\n      \"column\": \"Airline\",\n      \"properties\": {\n        \"dtype\": \"category\",\n        \"num_unique_values\": 1,\n        \"samples\": [\n          \"Air Wisconsin Airlines Corp\"\n        ],\n        \"semantic_type\": \"\",\n        \"description\": \"\"\n      }\n    },\n    {\n      \"column\": \"Year\",\n      \"properties\": {\n        \"dtype\": \"number\",\n        \"std\": 1,\n        \"min\": 2018,\n        \"max\": 2022,\n        \"num_unique_values\": 5,\n        \"samples\": [\n          2019\n        ],\n        \"semantic_type\": \"\",\n        \"description\": \"\"\n      }\n    },\n    {\n      \"column\": \"avg_dep_delay\",\n      \"properties\": {\n        \"dtype\": \"number\",\n        \"std\": 3.5958447818758152,\n        \"min\": 8.583724569640063,\n        \"max\": 16.868510737176383,\n        \"num_unique_values\": 5,\n        \"samples\": [\n          16.868510737176383\n        ],\n        \"semantic_type\": \"\",\n        \"description\": \"\"\n      }\n    },\n    {\n      \"column\": \"sum_dep_delay\",\n      \"properties\": {\n        \"dtype\": \"number\",\n        \"std\": 611559.3912806016,\n        \"min\": 433315.0,\n        \"max\": 1742281.0,\n        \"num_unique_values\": 5,\n        \"samples\": [\n          1742281.0\n        ],\n        \"semantic_type\": \"\",\n        \"description\": \"\"\n      }\n    },\n    {\n      \"column\": \"max_dep_delay\",\n      \"properties\": {\n        \"dtype\": \"number\",\n        \"std\": 150.9347541158099,\n        \"min\": 1296.0,\n        \"max\": 1690.0,\n        \"num_unique_values\": 5,\n        \"samples\": [\n          1690.0\n        ],\n        \"semantic_type\": \"\",\n        \"description\": \"\"\n      }\n    },\n    {\n      \"column\": \"avg_arr_delay\",\n      \"properties\": {\n        \"dtype\": \"number\",\n        \"std\": 3.856706822256962,\n        \"min\": 8.982529283303554,\n        \"max\": 17.881933762360696,\n        \"num_unique_values\": 5,\n        \"samples\": [\n          17.610384181669712\n        ],\n        \"semantic_type\": \"\",\n        \"description\": \"\"\n      }\n    },\n    {\n      \"column\": \"sum_arr_delay\",\n      \"properties\": {\n        \"dtype\": \"number\",\n        \"std\": 646930.93097602,\n        \"min\": 452450.0,\n        \"max\": 1811545.0,\n        \"num_unique_values\": 5,\n        \"samples\": [\n          1811545.0\n        ],\n        \"semantic_type\": \"\",\n        \"description\": \"\"\n      }\n    },\n    {\n      \"column\": \"max_arr_delay\",\n      \"properties\": {\n        \"dtype\": \"number\",\n        \"std\": 159.1612389999525,\n        \"min\": 1292.0,\n        \"max\": 1707.0,\n        \"num_unique_values\": 5,\n        \"samples\": [\n          1707.0\n        ],\n        \"semantic_type\": \"\",\n        \"description\": \"\"\n      }\n    }\n  ]\n}"
            }
          },
          "metadata": {},
          "execution_count": 56
        }
      ]
    },
    {
      "cell_type": "code",
      "source": [
        "agg_spark.sort_values(['Airline','Year']).head()"
      ],
      "metadata": {
        "colab": {
          "base_uri": "https://localhost:8080/",
          "height": 206
        },
        "id": "2gaI1GbRUqqt",
        "outputId": "c19c0459-b78a-47c4-82f3-020ed3c37f51"
      },
      "execution_count": null,
      "outputs": [
        {
          "output_type": "execute_result",
          "data": {
            "text/plain": [
              "                         Airline  Year  avg_arr_delay  sum_arr_delay  \\\n",
              "0    Air Wisconsin Airlines Corp  2018      17.881934      1708887.0   \n",
              "48   Air Wisconsin Airlines Corp  2019      17.610384      1811545.0   \n",
              "56   Air Wisconsin Airlines Corp  2020       8.982529       452450.0   \n",
              "93   Air Wisconsin Airlines Corp  2021      17.327440      1346602.0   \n",
              "119  Air Wisconsin Airlines Corp  2022      13.340409       517261.0   \n",
              "\n",
              "     max_arr_delay  avg_dep_delay  sum_dep_delay  max_dep_delay  \n",
              "0           1292.0      16.753459      1606774.0         1296.0  \n",
              "48          1707.0      16.868511      1742281.0         1690.0  \n",
              "56          1439.0       8.583725       433315.0         1460.0  \n",
              "93          1416.0      16.553045      1290194.0         1421.0  \n",
              "119         1353.0      13.124801       510581.0         1355.0  "
            ],
            "text/html": [
              "\n",
              "  <div id=\"df-24be29fb-9aee-4b35-9bbe-1d43f20a0060\" class=\"colab-df-container\">\n",
              "    <div>\n",
              "<style scoped>\n",
              "    .dataframe tbody tr th:only-of-type {\n",
              "        vertical-align: middle;\n",
              "    }\n",
              "\n",
              "    .dataframe tbody tr th {\n",
              "        vertical-align: top;\n",
              "    }\n",
              "\n",
              "    .dataframe thead th {\n",
              "        text-align: right;\n",
              "    }\n",
              "</style>\n",
              "<table border=\"1\" class=\"dataframe\">\n",
              "  <thead>\n",
              "    <tr style=\"text-align: right;\">\n",
              "      <th></th>\n",
              "      <th>Airline</th>\n",
              "      <th>Year</th>\n",
              "      <th>avg_arr_delay</th>\n",
              "      <th>sum_arr_delay</th>\n",
              "      <th>max_arr_delay</th>\n",
              "      <th>avg_dep_delay</th>\n",
              "      <th>sum_dep_delay</th>\n",
              "      <th>max_dep_delay</th>\n",
              "    </tr>\n",
              "  </thead>\n",
              "  <tbody>\n",
              "    <tr>\n",
              "      <th>0</th>\n",
              "      <td>Air Wisconsin Airlines Corp</td>\n",
              "      <td>2018</td>\n",
              "      <td>17.881934</td>\n",
              "      <td>1708887.0</td>\n",
              "      <td>1292.0</td>\n",
              "      <td>16.753459</td>\n",
              "      <td>1606774.0</td>\n",
              "      <td>1296.0</td>\n",
              "    </tr>\n",
              "    <tr>\n",
              "      <th>48</th>\n",
              "      <td>Air Wisconsin Airlines Corp</td>\n",
              "      <td>2019</td>\n",
              "      <td>17.610384</td>\n",
              "      <td>1811545.0</td>\n",
              "      <td>1707.0</td>\n",
              "      <td>16.868511</td>\n",
              "      <td>1742281.0</td>\n",
              "      <td>1690.0</td>\n",
              "    </tr>\n",
              "    <tr>\n",
              "      <th>56</th>\n",
              "      <td>Air Wisconsin Airlines Corp</td>\n",
              "      <td>2020</td>\n",
              "      <td>8.982529</td>\n",
              "      <td>452450.0</td>\n",
              "      <td>1439.0</td>\n",
              "      <td>8.583725</td>\n",
              "      <td>433315.0</td>\n",
              "      <td>1460.0</td>\n",
              "    </tr>\n",
              "    <tr>\n",
              "      <th>93</th>\n",
              "      <td>Air Wisconsin Airlines Corp</td>\n",
              "      <td>2021</td>\n",
              "      <td>17.327440</td>\n",
              "      <td>1346602.0</td>\n",
              "      <td>1416.0</td>\n",
              "      <td>16.553045</td>\n",
              "      <td>1290194.0</td>\n",
              "      <td>1421.0</td>\n",
              "    </tr>\n",
              "    <tr>\n",
              "      <th>119</th>\n",
              "      <td>Air Wisconsin Airlines Corp</td>\n",
              "      <td>2022</td>\n",
              "      <td>13.340409</td>\n",
              "      <td>517261.0</td>\n",
              "      <td>1353.0</td>\n",
              "      <td>13.124801</td>\n",
              "      <td>510581.0</td>\n",
              "      <td>1355.0</td>\n",
              "    </tr>\n",
              "  </tbody>\n",
              "</table>\n",
              "</div>\n",
              "    <div class=\"colab-df-buttons\">\n",
              "\n",
              "  <div class=\"colab-df-container\">\n",
              "    <button class=\"colab-df-convert\" onclick=\"convertToInteractive('df-24be29fb-9aee-4b35-9bbe-1d43f20a0060')\"\n",
              "            title=\"Convert this dataframe to an interactive table.\"\n",
              "            style=\"display:none;\">\n",
              "\n",
              "  <svg xmlns=\"http://www.w3.org/2000/svg\" height=\"24px\" viewBox=\"0 -960 960 960\">\n",
              "    <path d=\"M120-120v-720h720v720H120Zm60-500h600v-160H180v160Zm220 220h160v-160H400v160Zm0 220h160v-160H400v160ZM180-400h160v-160H180v160Zm440 0h160v-160H620v160ZM180-180h160v-160H180v160Zm440 0h160v-160H620v160Z\"/>\n",
              "  </svg>\n",
              "    </button>\n",
              "\n",
              "  <style>\n",
              "    .colab-df-container {\n",
              "      display:flex;\n",
              "      gap: 12px;\n",
              "    }\n",
              "\n",
              "    .colab-df-convert {\n",
              "      background-color: #E8F0FE;\n",
              "      border: none;\n",
              "      border-radius: 50%;\n",
              "      cursor: pointer;\n",
              "      display: none;\n",
              "      fill: #1967D2;\n",
              "      height: 32px;\n",
              "      padding: 0 0 0 0;\n",
              "      width: 32px;\n",
              "    }\n",
              "\n",
              "    .colab-df-convert:hover {\n",
              "      background-color: #E2EBFA;\n",
              "      box-shadow: 0px 1px 2px rgba(60, 64, 67, 0.3), 0px 1px 3px 1px rgba(60, 64, 67, 0.15);\n",
              "      fill: #174EA6;\n",
              "    }\n",
              "\n",
              "    .colab-df-buttons div {\n",
              "      margin-bottom: 4px;\n",
              "    }\n",
              "\n",
              "    [theme=dark] .colab-df-convert {\n",
              "      background-color: #3B4455;\n",
              "      fill: #D2E3FC;\n",
              "    }\n",
              "\n",
              "    [theme=dark] .colab-df-convert:hover {\n",
              "      background-color: #434B5C;\n",
              "      box-shadow: 0px 1px 3px 1px rgba(0, 0, 0, 0.15);\n",
              "      filter: drop-shadow(0px 1px 2px rgba(0, 0, 0, 0.3));\n",
              "      fill: #FFFFFF;\n",
              "    }\n",
              "  </style>\n",
              "\n",
              "    <script>\n",
              "      const buttonEl =\n",
              "        document.querySelector('#df-24be29fb-9aee-4b35-9bbe-1d43f20a0060 button.colab-df-convert');\n",
              "      buttonEl.style.display =\n",
              "        google.colab.kernel.accessAllowed ? 'block' : 'none';\n",
              "\n",
              "      async function convertToInteractive(key) {\n",
              "        const element = document.querySelector('#df-24be29fb-9aee-4b35-9bbe-1d43f20a0060');\n",
              "        const dataTable =\n",
              "          await google.colab.kernel.invokeFunction('convertToInteractive',\n",
              "                                                    [key], {});\n",
              "        if (!dataTable) return;\n",
              "\n",
              "        const docLinkHtml = 'Like what you see? Visit the ' +\n",
              "          '<a target=\"_blank\" href=https://colab.research.google.com/notebooks/data_table.ipynb>data table notebook</a>'\n",
              "          + ' to learn more about interactive tables.';\n",
              "        element.innerHTML = '';\n",
              "        dataTable['output_type'] = 'display_data';\n",
              "        await google.colab.output.renderOutput(dataTable, element);\n",
              "        const docLink = document.createElement('div');\n",
              "        docLink.innerHTML = docLinkHtml;\n",
              "        element.appendChild(docLink);\n",
              "      }\n",
              "    </script>\n",
              "  </div>\n",
              "\n",
              "\n",
              "<div id=\"df-40728d65-98bd-4d3c-9bc0-cfeddc7a4790\">\n",
              "  <button class=\"colab-df-quickchart\" onclick=\"quickchart('df-40728d65-98bd-4d3c-9bc0-cfeddc7a4790')\"\n",
              "            title=\"Suggest charts\"\n",
              "            style=\"display:none;\">\n",
              "\n",
              "<svg xmlns=\"http://www.w3.org/2000/svg\" height=\"24px\"viewBox=\"0 0 24 24\"\n",
              "     width=\"24px\">\n",
              "    <g>\n",
              "        <path d=\"M19 3H5c-1.1 0-2 .9-2 2v14c0 1.1.9 2 2 2h14c1.1 0 2-.9 2-2V5c0-1.1-.9-2-2-2zM9 17H7v-7h2v7zm4 0h-2V7h2v10zm4 0h-2v-4h2v4z\"/>\n",
              "    </g>\n",
              "</svg>\n",
              "  </button>\n",
              "\n",
              "<style>\n",
              "  .colab-df-quickchart {\n",
              "      --bg-color: #E8F0FE;\n",
              "      --fill-color: #1967D2;\n",
              "      --hover-bg-color: #E2EBFA;\n",
              "      --hover-fill-color: #174EA6;\n",
              "      --disabled-fill-color: #AAA;\n",
              "      --disabled-bg-color: #DDD;\n",
              "  }\n",
              "\n",
              "  [theme=dark] .colab-df-quickchart {\n",
              "      --bg-color: #3B4455;\n",
              "      --fill-color: #D2E3FC;\n",
              "      --hover-bg-color: #434B5C;\n",
              "      --hover-fill-color: #FFFFFF;\n",
              "      --disabled-bg-color: #3B4455;\n",
              "      --disabled-fill-color: #666;\n",
              "  }\n",
              "\n",
              "  .colab-df-quickchart {\n",
              "    background-color: var(--bg-color);\n",
              "    border: none;\n",
              "    border-radius: 50%;\n",
              "    cursor: pointer;\n",
              "    display: none;\n",
              "    fill: var(--fill-color);\n",
              "    height: 32px;\n",
              "    padding: 0;\n",
              "    width: 32px;\n",
              "  }\n",
              "\n",
              "  .colab-df-quickchart:hover {\n",
              "    background-color: var(--hover-bg-color);\n",
              "    box-shadow: 0 1px 2px rgba(60, 64, 67, 0.3), 0 1px 3px 1px rgba(60, 64, 67, 0.15);\n",
              "    fill: var(--button-hover-fill-color);\n",
              "  }\n",
              "\n",
              "  .colab-df-quickchart-complete:disabled,\n",
              "  .colab-df-quickchart-complete:disabled:hover {\n",
              "    background-color: var(--disabled-bg-color);\n",
              "    fill: var(--disabled-fill-color);\n",
              "    box-shadow: none;\n",
              "  }\n",
              "\n",
              "  .colab-df-spinner {\n",
              "    border: 2px solid var(--fill-color);\n",
              "    border-color: transparent;\n",
              "    border-bottom-color: var(--fill-color);\n",
              "    animation:\n",
              "      spin 1s steps(1) infinite;\n",
              "  }\n",
              "\n",
              "  @keyframes spin {\n",
              "    0% {\n",
              "      border-color: transparent;\n",
              "      border-bottom-color: var(--fill-color);\n",
              "      border-left-color: var(--fill-color);\n",
              "    }\n",
              "    20% {\n",
              "      border-color: transparent;\n",
              "      border-left-color: var(--fill-color);\n",
              "      border-top-color: var(--fill-color);\n",
              "    }\n",
              "    30% {\n",
              "      border-color: transparent;\n",
              "      border-left-color: var(--fill-color);\n",
              "      border-top-color: var(--fill-color);\n",
              "      border-right-color: var(--fill-color);\n",
              "    }\n",
              "    40% {\n",
              "      border-color: transparent;\n",
              "      border-right-color: var(--fill-color);\n",
              "      border-top-color: var(--fill-color);\n",
              "    }\n",
              "    60% {\n",
              "      border-color: transparent;\n",
              "      border-right-color: var(--fill-color);\n",
              "    }\n",
              "    80% {\n",
              "      border-color: transparent;\n",
              "      border-right-color: var(--fill-color);\n",
              "      border-bottom-color: var(--fill-color);\n",
              "    }\n",
              "    90% {\n",
              "      border-color: transparent;\n",
              "      border-bottom-color: var(--fill-color);\n",
              "    }\n",
              "  }\n",
              "</style>\n",
              "\n",
              "  <script>\n",
              "    async function quickchart(key) {\n",
              "      const quickchartButtonEl =\n",
              "        document.querySelector('#' + key + ' button');\n",
              "      quickchartButtonEl.disabled = true;  // To prevent multiple clicks.\n",
              "      quickchartButtonEl.classList.add('colab-df-spinner');\n",
              "      try {\n",
              "        const charts = await google.colab.kernel.invokeFunction(\n",
              "            'suggestCharts', [key], {});\n",
              "      } catch (error) {\n",
              "        console.error('Error during call to suggestCharts:', error);\n",
              "      }\n",
              "      quickchartButtonEl.classList.remove('colab-df-spinner');\n",
              "      quickchartButtonEl.classList.add('colab-df-quickchart-complete');\n",
              "    }\n",
              "    (() => {\n",
              "      let quickchartButtonEl =\n",
              "        document.querySelector('#df-40728d65-98bd-4d3c-9bc0-cfeddc7a4790 button');\n",
              "      quickchartButtonEl.style.display =\n",
              "        google.colab.kernel.accessAllowed ? 'block' : 'none';\n",
              "    })();\n",
              "  </script>\n",
              "</div>\n",
              "\n",
              "    </div>\n",
              "  </div>\n"
            ],
            "application/vnd.google.colaboratory.intrinsic+json": {
              "type": "dataframe",
              "summary": "{\n  \"name\": \"agg_spark\",\n  \"rows\": 5,\n  \"fields\": [\n    {\n      \"column\": \"Airline\",\n      \"properties\": {\n        \"dtype\": \"category\",\n        \"num_unique_values\": 1,\n        \"samples\": [\n          \"Air Wisconsin Airlines Corp\"\n        ],\n        \"semantic_type\": \"\",\n        \"description\": \"\"\n      }\n    },\n    {\n      \"column\": \"Year\",\n      \"properties\": {\n        \"dtype\": \"number\",\n        \"std\": 1,\n        \"min\": 2018,\n        \"max\": 2022,\n        \"num_unique_values\": 5,\n        \"samples\": [\n          2019\n        ],\n        \"semantic_type\": \"\",\n        \"description\": \"\"\n      }\n    },\n    {\n      \"column\": \"avg_arr_delay\",\n      \"properties\": {\n        \"dtype\": \"number\",\n        \"std\": 3.856706822256962,\n        \"min\": 8.982529283303554,\n        \"max\": 17.881933762360696,\n        \"num_unique_values\": 5,\n        \"samples\": [\n          17.610384181669712\n        ],\n        \"semantic_type\": \"\",\n        \"description\": \"\"\n      }\n    },\n    {\n      \"column\": \"sum_arr_delay\",\n      \"properties\": {\n        \"dtype\": \"number\",\n        \"std\": 646930.93097602,\n        \"min\": 452450.0,\n        \"max\": 1811545.0,\n        \"num_unique_values\": 5,\n        \"samples\": [\n          1811545.0\n        ],\n        \"semantic_type\": \"\",\n        \"description\": \"\"\n      }\n    },\n    {\n      \"column\": \"max_arr_delay\",\n      \"properties\": {\n        \"dtype\": \"number\",\n        \"std\": 159.1612389999525,\n        \"min\": 1292.0,\n        \"max\": 1707.0,\n        \"num_unique_values\": 5,\n        \"samples\": [\n          1707.0\n        ],\n        \"semantic_type\": \"\",\n        \"description\": \"\"\n      }\n    },\n    {\n      \"column\": \"avg_dep_delay\",\n      \"properties\": {\n        \"dtype\": \"number\",\n        \"std\": 3.5958447818758152,\n        \"min\": 8.583724569640063,\n        \"max\": 16.868510737176383,\n        \"num_unique_values\": 5,\n        \"samples\": [\n          16.868510737176383\n        ],\n        \"semantic_type\": \"\",\n        \"description\": \"\"\n      }\n    },\n    {\n      \"column\": \"sum_dep_delay\",\n      \"properties\": {\n        \"dtype\": \"number\",\n        \"std\": 611559.3912806016,\n        \"min\": 433315.0,\n        \"max\": 1742281.0,\n        \"num_unique_values\": 5,\n        \"samples\": [\n          1742281.0\n        ],\n        \"semantic_type\": \"\",\n        \"description\": \"\"\n      }\n    },\n    {\n      \"column\": \"max_dep_delay\",\n      \"properties\": {\n        \"dtype\": \"number\",\n        \"std\": 150.9347541158099,\n        \"min\": 1296.0,\n        \"max\": 1690.0,\n        \"num_unique_values\": 5,\n        \"samples\": [\n          1690.0\n        ],\n        \"semantic_type\": \"\",\n        \"description\": \"\"\n      }\n    }\n  ]\n}"
            }
          },
          "metadata": {},
          "execution_count": 57
        }
      ]
    },
    {
      "cell_type": "code",
      "source": [
        "agg_dask.sort_values(['Airline','Year']).head()"
      ],
      "metadata": {
        "colab": {
          "base_uri": "https://localhost:8080/",
          "height": 238
        },
        "id": "YI4dyRM0Uu9F",
        "outputId": "b5db5f9f-6032-4c2d-ecc1-a9adfebf161e"
      },
      "execution_count": null,
      "outputs": [
        {
          "output_type": "execute_result",
          "data": {
            "text/plain": [
              "                       Airline  Year DepDelayMinutes                     \\\n",
              "                                                mean        sum     max   \n",
              "0  Air Wisconsin Airlines Corp  2020        8.583725   433315.0  1460.0   \n",
              "1  Air Wisconsin Airlines Corp  2022       13.124801   510581.0  1355.0   \n",
              "2         Alaska Airlines Inc.  2020        5.818328   772930.0   823.0   \n",
              "3         Alaska Airlines Inc.  2022       10.153994  1278134.0   915.0   \n",
              "4                Allegiant Air  2020       12.825575  1080016.0  1648.0   \n",
              "\n",
              "  ArrDelayMinutes                     \n",
              "             mean        sum     max  \n",
              "0        8.982529   452450.0  1439.0  \n",
              "1       13.340409   517261.0  1353.0  \n",
              "2        6.365082   843157.0   788.0  \n",
              "3       11.026280  1382905.0   908.0  \n",
              "4       13.331111  1115734.0  1645.0  "
            ],
            "text/html": [
              "\n",
              "  <div id=\"df-58e5d6cb-b86f-49b8-b722-7d24c2c58ec1\" class=\"colab-df-container\">\n",
              "    <div>\n",
              "<style scoped>\n",
              "    .dataframe tbody tr th:only-of-type {\n",
              "        vertical-align: middle;\n",
              "    }\n",
              "\n",
              "    .dataframe tbody tr th {\n",
              "        vertical-align: top;\n",
              "    }\n",
              "\n",
              "    .dataframe thead tr th {\n",
              "        text-align: left;\n",
              "    }\n",
              "</style>\n",
              "<table border=\"1\" class=\"dataframe\">\n",
              "  <thead>\n",
              "    <tr>\n",
              "      <th></th>\n",
              "      <th>Airline</th>\n",
              "      <th>Year</th>\n",
              "      <th colspan=\"3\" halign=\"left\">DepDelayMinutes</th>\n",
              "      <th colspan=\"3\" halign=\"left\">ArrDelayMinutes</th>\n",
              "    </tr>\n",
              "    <tr>\n",
              "      <th></th>\n",
              "      <th></th>\n",
              "      <th></th>\n",
              "      <th>mean</th>\n",
              "      <th>sum</th>\n",
              "      <th>max</th>\n",
              "      <th>mean</th>\n",
              "      <th>sum</th>\n",
              "      <th>max</th>\n",
              "    </tr>\n",
              "  </thead>\n",
              "  <tbody>\n",
              "    <tr>\n",
              "      <th>0</th>\n",
              "      <td>Air Wisconsin Airlines Corp</td>\n",
              "      <td>2020</td>\n",
              "      <td>8.583725</td>\n",
              "      <td>433315.0</td>\n",
              "      <td>1460.0</td>\n",
              "      <td>8.982529</td>\n",
              "      <td>452450.0</td>\n",
              "      <td>1439.0</td>\n",
              "    </tr>\n",
              "    <tr>\n",
              "      <th>1</th>\n",
              "      <td>Air Wisconsin Airlines Corp</td>\n",
              "      <td>2022</td>\n",
              "      <td>13.124801</td>\n",
              "      <td>510581.0</td>\n",
              "      <td>1355.0</td>\n",
              "      <td>13.340409</td>\n",
              "      <td>517261.0</td>\n",
              "      <td>1353.0</td>\n",
              "    </tr>\n",
              "    <tr>\n",
              "      <th>2</th>\n",
              "      <td>Alaska Airlines Inc.</td>\n",
              "      <td>2020</td>\n",
              "      <td>5.818328</td>\n",
              "      <td>772930.0</td>\n",
              "      <td>823.0</td>\n",
              "      <td>6.365082</td>\n",
              "      <td>843157.0</td>\n",
              "      <td>788.0</td>\n",
              "    </tr>\n",
              "    <tr>\n",
              "      <th>3</th>\n",
              "      <td>Alaska Airlines Inc.</td>\n",
              "      <td>2022</td>\n",
              "      <td>10.153994</td>\n",
              "      <td>1278134.0</td>\n",
              "      <td>915.0</td>\n",
              "      <td>11.026280</td>\n",
              "      <td>1382905.0</td>\n",
              "      <td>908.0</td>\n",
              "    </tr>\n",
              "    <tr>\n",
              "      <th>4</th>\n",
              "      <td>Allegiant Air</td>\n",
              "      <td>2020</td>\n",
              "      <td>12.825575</td>\n",
              "      <td>1080016.0</td>\n",
              "      <td>1648.0</td>\n",
              "      <td>13.331111</td>\n",
              "      <td>1115734.0</td>\n",
              "      <td>1645.0</td>\n",
              "    </tr>\n",
              "  </tbody>\n",
              "</table>\n",
              "</div>\n",
              "    <div class=\"colab-df-buttons\">\n",
              "\n",
              "  <div class=\"colab-df-container\">\n",
              "    <button class=\"colab-df-convert\" onclick=\"convertToInteractive('df-58e5d6cb-b86f-49b8-b722-7d24c2c58ec1')\"\n",
              "            title=\"Convert this dataframe to an interactive table.\"\n",
              "            style=\"display:none;\">\n",
              "\n",
              "  <svg xmlns=\"http://www.w3.org/2000/svg\" height=\"24px\" viewBox=\"0 -960 960 960\">\n",
              "    <path d=\"M120-120v-720h720v720H120Zm60-500h600v-160H180v160Zm220 220h160v-160H400v160Zm0 220h160v-160H400v160ZM180-400h160v-160H180v160Zm440 0h160v-160H620v160ZM180-180h160v-160H180v160Zm440 0h160v-160H620v160Z\"/>\n",
              "  </svg>\n",
              "    </button>\n",
              "\n",
              "  <style>\n",
              "    .colab-df-container {\n",
              "      display:flex;\n",
              "      gap: 12px;\n",
              "    }\n",
              "\n",
              "    .colab-df-convert {\n",
              "      background-color: #E8F0FE;\n",
              "      border: none;\n",
              "      border-radius: 50%;\n",
              "      cursor: pointer;\n",
              "      display: none;\n",
              "      fill: #1967D2;\n",
              "      height: 32px;\n",
              "      padding: 0 0 0 0;\n",
              "      width: 32px;\n",
              "    }\n",
              "\n",
              "    .colab-df-convert:hover {\n",
              "      background-color: #E2EBFA;\n",
              "      box-shadow: 0px 1px 2px rgba(60, 64, 67, 0.3), 0px 1px 3px 1px rgba(60, 64, 67, 0.15);\n",
              "      fill: #174EA6;\n",
              "    }\n",
              "\n",
              "    .colab-df-buttons div {\n",
              "      margin-bottom: 4px;\n",
              "    }\n",
              "\n",
              "    [theme=dark] .colab-df-convert {\n",
              "      background-color: #3B4455;\n",
              "      fill: #D2E3FC;\n",
              "    }\n",
              "\n",
              "    [theme=dark] .colab-df-convert:hover {\n",
              "      background-color: #434B5C;\n",
              "      box-shadow: 0px 1px 3px 1px rgba(0, 0, 0, 0.15);\n",
              "      filter: drop-shadow(0px 1px 2px rgba(0, 0, 0, 0.3));\n",
              "      fill: #FFFFFF;\n",
              "    }\n",
              "  </style>\n",
              "\n",
              "    <script>\n",
              "      const buttonEl =\n",
              "        document.querySelector('#df-58e5d6cb-b86f-49b8-b722-7d24c2c58ec1 button.colab-df-convert');\n",
              "      buttonEl.style.display =\n",
              "        google.colab.kernel.accessAllowed ? 'block' : 'none';\n",
              "\n",
              "      async function convertToInteractive(key) {\n",
              "        const element = document.querySelector('#df-58e5d6cb-b86f-49b8-b722-7d24c2c58ec1');\n",
              "        const dataTable =\n",
              "          await google.colab.kernel.invokeFunction('convertToInteractive',\n",
              "                                                    [key], {});\n",
              "        if (!dataTable) return;\n",
              "\n",
              "        const docLinkHtml = 'Like what you see? Visit the ' +\n",
              "          '<a target=\"_blank\" href=https://colab.research.google.com/notebooks/data_table.ipynb>data table notebook</a>'\n",
              "          + ' to learn more about interactive tables.';\n",
              "        element.innerHTML = '';\n",
              "        dataTable['output_type'] = 'display_data';\n",
              "        await google.colab.output.renderOutput(dataTable, element);\n",
              "        const docLink = document.createElement('div');\n",
              "        docLink.innerHTML = docLinkHtml;\n",
              "        element.appendChild(docLink);\n",
              "      }\n",
              "    </script>\n",
              "  </div>\n",
              "\n",
              "\n",
              "<div id=\"df-fd611002-5715-4662-a9df-4d65d0e16c15\">\n",
              "  <button class=\"colab-df-quickchart\" onclick=\"quickchart('df-fd611002-5715-4662-a9df-4d65d0e16c15')\"\n",
              "            title=\"Suggest charts\"\n",
              "            style=\"display:none;\">\n",
              "\n",
              "<svg xmlns=\"http://www.w3.org/2000/svg\" height=\"24px\"viewBox=\"0 0 24 24\"\n",
              "     width=\"24px\">\n",
              "    <g>\n",
              "        <path d=\"M19 3H5c-1.1 0-2 .9-2 2v14c0 1.1.9 2 2 2h14c1.1 0 2-.9 2-2V5c0-1.1-.9-2-2-2zM9 17H7v-7h2v7zm4 0h-2V7h2v10zm4 0h-2v-4h2v4z\"/>\n",
              "    </g>\n",
              "</svg>\n",
              "  </button>\n",
              "\n",
              "<style>\n",
              "  .colab-df-quickchart {\n",
              "      --bg-color: #E8F0FE;\n",
              "      --fill-color: #1967D2;\n",
              "      --hover-bg-color: #E2EBFA;\n",
              "      --hover-fill-color: #174EA6;\n",
              "      --disabled-fill-color: #AAA;\n",
              "      --disabled-bg-color: #DDD;\n",
              "  }\n",
              "\n",
              "  [theme=dark] .colab-df-quickchart {\n",
              "      --bg-color: #3B4455;\n",
              "      --fill-color: #D2E3FC;\n",
              "      --hover-bg-color: #434B5C;\n",
              "      --hover-fill-color: #FFFFFF;\n",
              "      --disabled-bg-color: #3B4455;\n",
              "      --disabled-fill-color: #666;\n",
              "  }\n",
              "\n",
              "  .colab-df-quickchart {\n",
              "    background-color: var(--bg-color);\n",
              "    border: none;\n",
              "    border-radius: 50%;\n",
              "    cursor: pointer;\n",
              "    display: none;\n",
              "    fill: var(--fill-color);\n",
              "    height: 32px;\n",
              "    padding: 0;\n",
              "    width: 32px;\n",
              "  }\n",
              "\n",
              "  .colab-df-quickchart:hover {\n",
              "    background-color: var(--hover-bg-color);\n",
              "    box-shadow: 0 1px 2px rgba(60, 64, 67, 0.3), 0 1px 3px 1px rgba(60, 64, 67, 0.15);\n",
              "    fill: var(--button-hover-fill-color);\n",
              "  }\n",
              "\n",
              "  .colab-df-quickchart-complete:disabled,\n",
              "  .colab-df-quickchart-complete:disabled:hover {\n",
              "    background-color: var(--disabled-bg-color);\n",
              "    fill: var(--disabled-fill-color);\n",
              "    box-shadow: none;\n",
              "  }\n",
              "\n",
              "  .colab-df-spinner {\n",
              "    border: 2px solid var(--fill-color);\n",
              "    border-color: transparent;\n",
              "    border-bottom-color: var(--fill-color);\n",
              "    animation:\n",
              "      spin 1s steps(1) infinite;\n",
              "  }\n",
              "\n",
              "  @keyframes spin {\n",
              "    0% {\n",
              "      border-color: transparent;\n",
              "      border-bottom-color: var(--fill-color);\n",
              "      border-left-color: var(--fill-color);\n",
              "    }\n",
              "    20% {\n",
              "      border-color: transparent;\n",
              "      border-left-color: var(--fill-color);\n",
              "      border-top-color: var(--fill-color);\n",
              "    }\n",
              "    30% {\n",
              "      border-color: transparent;\n",
              "      border-left-color: var(--fill-color);\n",
              "      border-top-color: var(--fill-color);\n",
              "      border-right-color: var(--fill-color);\n",
              "    }\n",
              "    40% {\n",
              "      border-color: transparent;\n",
              "      border-right-color: var(--fill-color);\n",
              "      border-top-color: var(--fill-color);\n",
              "    }\n",
              "    60% {\n",
              "      border-color: transparent;\n",
              "      border-right-color: var(--fill-color);\n",
              "    }\n",
              "    80% {\n",
              "      border-color: transparent;\n",
              "      border-right-color: var(--fill-color);\n",
              "      border-bottom-color: var(--fill-color);\n",
              "    }\n",
              "    90% {\n",
              "      border-color: transparent;\n",
              "      border-bottom-color: var(--fill-color);\n",
              "    }\n",
              "  }\n",
              "</style>\n",
              "\n",
              "  <script>\n",
              "    async function quickchart(key) {\n",
              "      const quickchartButtonEl =\n",
              "        document.querySelector('#' + key + ' button');\n",
              "      quickchartButtonEl.disabled = true;  // To prevent multiple clicks.\n",
              "      quickchartButtonEl.classList.add('colab-df-spinner');\n",
              "      try {\n",
              "        const charts = await google.colab.kernel.invokeFunction(\n",
              "            'suggestCharts', [key], {});\n",
              "      } catch (error) {\n",
              "        console.error('Error during call to suggestCharts:', error);\n",
              "      }\n",
              "      quickchartButtonEl.classList.remove('colab-df-spinner');\n",
              "      quickchartButtonEl.classList.add('colab-df-quickchart-complete');\n",
              "    }\n",
              "    (() => {\n",
              "      let quickchartButtonEl =\n",
              "        document.querySelector('#df-fd611002-5715-4662-a9df-4d65d0e16c15 button');\n",
              "      quickchartButtonEl.style.display =\n",
              "        google.colab.kernel.accessAllowed ? 'block' : 'none';\n",
              "    })();\n",
              "  </script>\n",
              "</div>\n",
              "\n",
              "    </div>\n",
              "  </div>\n"
            ],
            "application/vnd.google.colaboratory.intrinsic+json": {
              "type": "dataframe",
              "summary": "{\n  \"name\": \"agg_dask\",\n  \"rows\": 5,\n  \"fields\": [\n    {\n      \"column\": [\n        \"Airline\",\n        \"\"\n      ],\n      \"properties\": {\n        \"dtype\": \"string\",\n        \"num_unique_values\": 3,\n        \"samples\": [\n          \"Air Wisconsin Airlines Corp\",\n          \"Alaska Airlines Inc.\",\n          \"Allegiant Air\"\n        ],\n        \"semantic_type\": \"\",\n        \"description\": \"\"\n      }\n    },\n    {\n      \"column\": [\n        \"Year\",\n        \"\"\n      ],\n      \"properties\": {\n        \"dtype\": \"number\",\n        \"std\": 1,\n        \"min\": 2020,\n        \"max\": 2022,\n        \"num_unique_values\": 2,\n        \"samples\": [\n          2022,\n          2020\n        ],\n        \"semantic_type\": \"\",\n        \"description\": \"\"\n      }\n    },\n    {\n      \"column\": [\n        \"DepDelayMinutes\",\n        \"mean\"\n      ],\n      \"properties\": {\n        \"dtype\": \"number\",\n        \"std\": 3.050118387687564,\n        \"min\": 5.818328264731565,\n        \"max\": 13.124800781450825,\n        \"num_unique_values\": 5,\n        \"samples\": [\n          13.124800781450825,\n          12.825574767243017\n        ],\n        \"semantic_type\": \"\",\n        \"description\": \"\"\n      }\n    },\n    {\n      \"column\": [\n        \"DepDelayMinutes\",\n        \"sum\"\n      ],\n      \"properties\": {\n        \"dtype\": \"number\",\n        \"std\": 362232.94776386645,\n        \"min\": 433315.0,\n        \"max\": 1278134.0,\n        \"num_unique_values\": 5,\n        \"samples\": [\n          510581.0,\n          1080016.0\n        ],\n        \"semantic_type\": \"\",\n        \"description\": \"\"\n      }\n    },\n    {\n      \"column\": [\n        \"DepDelayMinutes\",\n        \"max\"\n      ],\n      \"properties\": {\n        \"dtype\": \"number\",\n        \"std\": 356.2312451203572,\n        \"min\": 823.0,\n        \"max\": 1648.0,\n        \"num_unique_values\": 5,\n        \"samples\": [\n          1355.0,\n          1648.0\n        ],\n        \"semantic_type\": \"\",\n        \"description\": \"\"\n      }\n    },\n    {\n      \"column\": [\n        \"ArrDelayMinutes\",\n        \"mean\"\n      ],\n      \"properties\": {\n        \"dtype\": \"number\",\n        \"std\": 2.987509286750925,\n        \"min\": 6.365082360756722,\n        \"max\": 13.340408521173982,\n        \"num_unique_values\": 5,\n        \"samples\": [\n          13.340408521173982,\n          13.331110951800607\n        ],\n        \"semantic_type\": \"\",\n        \"description\": \"\"\n      }\n    },\n    {\n      \"column\": [\n        \"ArrDelayMinutes\",\n        \"sum\"\n      ],\n      \"properties\": {\n        \"dtype\": \"number\",\n        \"std\": 394542.0594946754,\n        \"min\": 452450.0,\n        \"max\": 1382905.0,\n        \"num_unique_values\": 5,\n        \"samples\": [\n          517261.0,\n          1115734.0\n        ],\n        \"semantic_type\": \"\",\n        \"description\": \"\"\n      }\n    },\n    {\n      \"column\": [\n        \"ArrDelayMinutes\",\n        \"max\"\n      ],\n      \"properties\": {\n        \"dtype\": \"number\",\n        \"std\": 364.0141480766922,\n        \"min\": 788.0,\n        \"max\": 1645.0,\n        \"num_unique_values\": 5,\n        \"samples\": [\n          1353.0,\n          1645.0\n        ],\n        \"semantic_type\": \"\",\n        \"description\": \"\"\n      }\n    }\n  ]\n}"
            }
          },
          "metadata": {},
          "execution_count": 58
        }
      ]
    }
  ],
  "metadata": {
    "colab": {
      "provenance": [],
      "collapsed_sections": [
        "HE9EI1NLBLtT"
      ],
      "include_colab_link": true
    },
    "kernelspec": {
      "display_name": "Python 3",
      "name": "python3"
    },
    "language_info": {
      "name": "python"
    }
  },
  "nbformat": 4,
  "nbformat_minor": 0
}
